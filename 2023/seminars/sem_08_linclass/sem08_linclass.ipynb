{
  "cells": [
    {
      "cell_type": "markdown",
      "metadata": {
        "id": "9um4VQBpvBF8"
      },
      "source": [
        "# Семинар по бинарной линейной классификации\n",
        "\n",
        "## Теоретическая часть\n",
        "\n",
        "### Предсказания в бинарной линейной классификации\n",
        "__Вспомнить из лекции:__\n",
        "* Как выполняются предсказания в бинарной линейной классификации?\n",
        "* Как интерпретировать веса?\n",
        "* Вспомните обозначения $\\langle \\cdot, \\cdot \\rangle$, $sign(z)$, $[z>a]$.\n",
        "\n",
        "#### Задача 1.\n",
        "Какое предсказание вернет бинарный линейный классификатор $a(x) = sign(\\langle w, x \\rangle+w_0)$ для объекта $x=(1, 0, 0, 1, 1)$ при использовании весов $w=(0.1, -0.2, 0.5, -1.1, 0)$ и $w_0=0.35$?\n",
        "\n",
        "__Решение.__\n",
        "Запишем скалярное произведение: $\\langle w, x \\rangle = w_1 x_1 + \\dots + w_d x_d$, где $d$ - размерность обоих векторов (число признаков). В нашей задаче $d=5$. Итак, в скобках получится значение $0.1\\cdot1 - 0.2\\cdot0 + 0.5\\cdot 0 -1.1 \\cdot 1 + 0 \\cdot 1 + 0.35 = -0.65$. Его знак отрицательный, значит $a(x) = -1$.\n",
        "\n",
        "#### Задача 2.\n",
        "Визуализируйте разделящую поверхность классификатора $a(x) = sign(\\langle w, x \\rangle+w_0)$ для $w=(-1, 2)$, $w_0=0.5$, задача бинарной классификации с двумя признаками.\n",
        "\n",
        "__Решение.__\n",
        "\n",
        "Предсказания в линейной классификации выполняются по формуле $a(x) = sign(\\langle w, x\\rangle +w_0)$, то есть класс +1, если выражение в скобках больше 0, и -1, если выражение в скобках меньше 0. Если выражение в скобках равно 0, считаем, что отказываемся от классификации или выбираем случайный класс (на практике такая ситуация встречается очень редко). Соответственно, мы можем сделать такое предсказание в каждой точке признакового пространства, то есть для любого возможного объекта, и получить области классов +1 и -1. Разделяющей границей этих двух областей будет прямая, поэтому классификация линейная.\n",
        "\n",
        "Разберемся, почему разделяющей границей будет прямая. Вспомним, что уравнение $w_1 x_1 + w_2 x_2 + w_0 = 0$ задает прямую на плоскости в координатах $x_1-x_2$ (мы обычно обозначаем эти координаты $d_1-d_2$, чтобы не путать $x_1$ - первый признак или первый объект в выборке; в данном контексте - первый признак). Все точки $x=(x_1, x_2)$, для которых $w_1 x_1 + w_2 x_2 + w_0 > 0$, находятся с одной стороны от прямой, а все точки, для которых $w_1 x_1 + w_2 x_2 + w_0 < 0$, с другой стороны от прямой. А эти два условия как раз и проверяются в бинарном линейной классификаторе.\n",
        "\n",
        "В нашем случае прямая задается уравнением $-x_1 + 2 x_2 + 0.5 = 0$. Построим ее по точкам: при $x_1=0$ выполнено $2 x_2+0.5=0$, то есть $x_2=-1/4$; при $x_1=1$ выполнено $2 x_2 -0.5=0$, то есть $x_2=1/4$. Проводим прямую через точки $(0, -1/4)$ и $(1, 1/4)$. Теперь выбираем любую точку, не принадлежащую прямой, например $(0, 1/4)$. Проверяем, какой будет знак выражения $-x_1 + 2 x_2 + 0.5$: $0 + 0.5 + 0.5 = 1 > 0$. Значит, в полуплоскости, где находится эта точка, мы предсказываем класс +1, а в другой - класс -1.\n",
        "\n",
        "### Вспомнить из лекции\n",
        "* Какие метрики бинарной классификации вы знаете?\n",
        "* Какие проблемы есть у метрики accuracy? в каких случаях она нам не подходит?\n",
        "* Что такое матрица ошибок?\n",
        "\n",
        "## Практическая часть\n",
        "В практической части мы обучим линейный классификатор на данных кредитного скорринга, проанализируем веса модели, научимся работать с категориальными признаками в линейных моделях. Далее поработаем с метриками, сравних их между собой и найдем оптимиальные гиперпараметры в модели."
      ]
    },
    {
      "cell_type": "code",
      "execution_count": 1,
      "metadata": {
        "id": "9k39onIhvBF_"
      },
      "outputs": [],
      "source": [
        "import pandas as pd"
      ]
    },
    {
      "cell_type": "markdown",
      "metadata": {
        "id": "hO4rdvxDvBF_"
      },
      "source": [
        "Мы будем работать с [данными клиентов банка](https://archive.ics.uci.edu/ml/datasets/statlog+(german+credit+data) (задача кредитного скоринга). Для целей семинара данные были преобразованы в немного другой формат.\n",
        "\n",
        "Значение признаков:\n",
        "* account: банковский счет (-1: отриц. баланс, 0: нет счета, 1: до 200 ед., 2: более 200 ед.)\n",
        "* duration: на какой период запрашивают кредит\n",
        "* credit_history: рейтинг по кредитной истории (от 0 - отличная кр. история до 4 - критическая ситуация с кредитами)\n",
        "* amount: на какую сумму запрашивают кредит\n",
        "* savings: сберегательный счет (0: нет, 1: < 100, 2: 100 <= ... < 500, 3: 500 <= ... < 1000, 4:  >= 1000)\n",
        "* employment: срок работы на текущей позиции (0: не работает, 1: до 1 года, 2: от 1 до 4 лет, 3: от 4 до 7 лет, 4: более 7 лет)\n",
        "* guarantors: 1 - есть поручители, 0 - нет\n",
        "* residence:  сколько лет резидент\n",
        "* age: возраст, деленный на 100\n",
        "* credits_number: число кредитов\n",
        "* job: 0: не работает, 1: неквалифицированный, 2: квалифицированный специалист, 3: высокая должность или бизнес\n",
        "* maintenance_people: число людей, которых обеспечивает заемщик\n",
        "* telephone: указан ли телефон (1: да, 0: нет)\n",
        "* foreign: 1: иностранец, 0: нет\n",
        "* real_estate: 1: есть недвижимость, 0: нет недвижимости\n",
        "* life_insurance: 1: оформлено страхование жизни, 0, нет страховки\n",
        "* car: 1: есть автомобиль, 0: нет автомобиля\n",
        "* housing_rent: 1: платит за съем жилья, 0: не платит за съем жилья\n",
        "* sex: пол - 1: муж., 0: жен.\n",
        "* purpose: на какую цель запрашивают кредит (из нескольких вариантов)\n",
        "* target: 1: кредит выдан, 0: в кредите отказано\n",
        "\n",
        "Требуется решить задачу предсказания значения в последнем столбце, то есть задачу бинарной классификации."
      ]
    },
    {
      "cell_type": "markdown",
      "metadata": {
        "id": "MmVH7wJuvBGA"
      },
      "source": [
        "По описанию данных понятно, что все признаки числовые (включая вещественные, порядковые, бинарные), кроме предпоследнего, который является категориальным."
      ]
    },
    {
      "cell_type": "code",
      "execution_count": 2,
      "metadata": {
        "id": "f7HXEUCsvBGA",
        "outputId": "f27fcbeb-846b-4e34-b128-773cbac52c4c",
        "colab": {
          "base_uri": "https://localhost:8080/"
        }
      },
      "outputs": [
        {
          "output_type": "stream",
          "name": "stdout",
          "text": [
            "Looking in indexes: https://pypi.org/simple, https://us-python.pkg.dev/colab-wheels/public/simple/\n",
            "Requirement already satisfied: xlrd in /usr/local/lib/python3.9/dist-packages (2.0.1)\n"
          ]
        }
      ],
      "source": [
        "!pip install xlrd"
      ]
    },
    {
      "cell_type": "code",
      "execution_count": 3,
      "metadata": {
        "id": "noO-s_rXvBGB"
      },
      "outputs": [],
      "source": [
        "tab = pd.read_excel(\"https://github.com/nadiinchi/voronovo_seminar_materials/blob/master/base_track/seminars/scoring.xls?raw=true\")"
      ]
    },
    {
      "cell_type": "code",
      "execution_count": 4,
      "metadata": {
        "id": "DiPcpkcFvBGB",
        "outputId": "c91c7c37-8edc-4cc5-b3a0-798af710b096",
        "colab": {
          "base_uri": "https://localhost:8080/"
        }
      },
      "outputs": [
        {
          "output_type": "execute_result",
          "data": {
            "text/plain": [
              "pandas.core.frame.DataFrame"
            ]
          },
          "metadata": {},
          "execution_count": 4
        }
      ],
      "source": [
        "type(tab)"
      ]
    },
    {
      "cell_type": "code",
      "execution_count": 5,
      "metadata": {
        "id": "BbAI02MmvBGB",
        "outputId": "742a6344-a459-418e-ba3f-b9e5ec626ee6",
        "colab": {
          "base_uri": "https://localhost:8080/",
          "height": 299
        }
      },
      "outputs": [
        {
          "output_type": "execute_result",
          "data": {
            "text/plain": [
              "   account  duration  credit_history   amount  savings  employment  \\\n",
              "0        1      0.18               2  0.13110        2           2   \n",
              "1       -1      0.18               0  0.15520        1           3   \n",
              "2       -1      0.12               2  0.04510        1           3   \n",
              "3       -1      0.30               0  0.40360        0           1   \n",
              "4        0      0.36               2  0.09095        1           2   \n",
              "\n",
              "   guarantors  residence   age  credits_number  ...  maintenance_people  \\\n",
              "0           1          4  0.34               1  ...                   1   \n",
              "1           1          1  0.31               1  ...                   1   \n",
              "2           1          4  0.21               1  ...                   1   \n",
              "3           1          3  0.25               3  ...                   1   \n",
              "4           1          4  0.37               1  ...                   1   \n",
              "\n",
              "   telephone  foreign  real_estate  life_insurance  car  housing_rent  sex  \\\n",
              "0          0        1            0               0    1             0    1   \n",
              "1          1        1            0               1    0             0    1   \n",
              "2          0        1            0               1    0             1    1   \n",
              "3          0        1            0               0    1             0    1   \n",
              "4          1        1            0               0    0             0    1   \n",
              "\n",
              "      purpose target  \n",
              "0    business      1  \n",
              "1    business      1  \n",
              "2  retraining      0  \n",
              "3    business      1  \n",
              "4   education      0  \n",
              "\n",
              "[5 rows x 21 columns]"
            ],
            "text/html": [
              "\n",
              "  <div id=\"df-228e9d2f-f331-427c-b490-0cbc10a14810\">\n",
              "    <div class=\"colab-df-container\">\n",
              "      <div>\n",
              "<style scoped>\n",
              "    .dataframe tbody tr th:only-of-type {\n",
              "        vertical-align: middle;\n",
              "    }\n",
              "\n",
              "    .dataframe tbody tr th {\n",
              "        vertical-align: top;\n",
              "    }\n",
              "\n",
              "    .dataframe thead th {\n",
              "        text-align: right;\n",
              "    }\n",
              "</style>\n",
              "<table border=\"1\" class=\"dataframe\">\n",
              "  <thead>\n",
              "    <tr style=\"text-align: right;\">\n",
              "      <th></th>\n",
              "      <th>account</th>\n",
              "      <th>duration</th>\n",
              "      <th>credit_history</th>\n",
              "      <th>amount</th>\n",
              "      <th>savings</th>\n",
              "      <th>employment</th>\n",
              "      <th>guarantors</th>\n",
              "      <th>residence</th>\n",
              "      <th>age</th>\n",
              "      <th>credits_number</th>\n",
              "      <th>...</th>\n",
              "      <th>maintenance_people</th>\n",
              "      <th>telephone</th>\n",
              "      <th>foreign</th>\n",
              "      <th>real_estate</th>\n",
              "      <th>life_insurance</th>\n",
              "      <th>car</th>\n",
              "      <th>housing_rent</th>\n",
              "      <th>sex</th>\n",
              "      <th>purpose</th>\n",
              "      <th>target</th>\n",
              "    </tr>\n",
              "  </thead>\n",
              "  <tbody>\n",
              "    <tr>\n",
              "      <th>0</th>\n",
              "      <td>1</td>\n",
              "      <td>0.18</td>\n",
              "      <td>2</td>\n",
              "      <td>0.13110</td>\n",
              "      <td>2</td>\n",
              "      <td>2</td>\n",
              "      <td>1</td>\n",
              "      <td>4</td>\n",
              "      <td>0.34</td>\n",
              "      <td>1</td>\n",
              "      <td>...</td>\n",
              "      <td>1</td>\n",
              "      <td>0</td>\n",
              "      <td>1</td>\n",
              "      <td>0</td>\n",
              "      <td>0</td>\n",
              "      <td>1</td>\n",
              "      <td>0</td>\n",
              "      <td>1</td>\n",
              "      <td>business</td>\n",
              "      <td>1</td>\n",
              "    </tr>\n",
              "    <tr>\n",
              "      <th>1</th>\n",
              "      <td>-1</td>\n",
              "      <td>0.18</td>\n",
              "      <td>0</td>\n",
              "      <td>0.15520</td>\n",
              "      <td>1</td>\n",
              "      <td>3</td>\n",
              "      <td>1</td>\n",
              "      <td>1</td>\n",
              "      <td>0.31</td>\n",
              "      <td>1</td>\n",
              "      <td>...</td>\n",
              "      <td>1</td>\n",
              "      <td>1</td>\n",
              "      <td>1</td>\n",
              "      <td>0</td>\n",
              "      <td>1</td>\n",
              "      <td>0</td>\n",
              "      <td>0</td>\n",
              "      <td>1</td>\n",
              "      <td>business</td>\n",
              "      <td>1</td>\n",
              "    </tr>\n",
              "    <tr>\n",
              "      <th>2</th>\n",
              "      <td>-1</td>\n",
              "      <td>0.12</td>\n",
              "      <td>2</td>\n",
              "      <td>0.04510</td>\n",
              "      <td>1</td>\n",
              "      <td>3</td>\n",
              "      <td>1</td>\n",
              "      <td>4</td>\n",
              "      <td>0.21</td>\n",
              "      <td>1</td>\n",
              "      <td>...</td>\n",
              "      <td>1</td>\n",
              "      <td>0</td>\n",
              "      <td>1</td>\n",
              "      <td>0</td>\n",
              "      <td>1</td>\n",
              "      <td>0</td>\n",
              "      <td>1</td>\n",
              "      <td>1</td>\n",
              "      <td>retraining</td>\n",
              "      <td>0</td>\n",
              "    </tr>\n",
              "    <tr>\n",
              "      <th>3</th>\n",
              "      <td>-1</td>\n",
              "      <td>0.30</td>\n",
              "      <td>0</td>\n",
              "      <td>0.40360</td>\n",
              "      <td>0</td>\n",
              "      <td>1</td>\n",
              "      <td>1</td>\n",
              "      <td>3</td>\n",
              "      <td>0.25</td>\n",
              "      <td>3</td>\n",
              "      <td>...</td>\n",
              "      <td>1</td>\n",
              "      <td>0</td>\n",
              "      <td>1</td>\n",
              "      <td>0</td>\n",
              "      <td>0</td>\n",
              "      <td>1</td>\n",
              "      <td>0</td>\n",
              "      <td>1</td>\n",
              "      <td>business</td>\n",
              "      <td>1</td>\n",
              "    </tr>\n",
              "    <tr>\n",
              "      <th>4</th>\n",
              "      <td>0</td>\n",
              "      <td>0.36</td>\n",
              "      <td>2</td>\n",
              "      <td>0.09095</td>\n",
              "      <td>1</td>\n",
              "      <td>2</td>\n",
              "      <td>1</td>\n",
              "      <td>4</td>\n",
              "      <td>0.37</td>\n",
              "      <td>1</td>\n",
              "      <td>...</td>\n",
              "      <td>1</td>\n",
              "      <td>1</td>\n",
              "      <td>1</td>\n",
              "      <td>0</td>\n",
              "      <td>0</td>\n",
              "      <td>0</td>\n",
              "      <td>0</td>\n",
              "      <td>1</td>\n",
              "      <td>education</td>\n",
              "      <td>0</td>\n",
              "    </tr>\n",
              "  </tbody>\n",
              "</table>\n",
              "<p>5 rows × 21 columns</p>\n",
              "</div>\n",
              "      <button class=\"colab-df-convert\" onclick=\"convertToInteractive('df-228e9d2f-f331-427c-b490-0cbc10a14810')\"\n",
              "              title=\"Convert this dataframe to an interactive table.\"\n",
              "              style=\"display:none;\">\n",
              "        \n",
              "  <svg xmlns=\"http://www.w3.org/2000/svg\" height=\"24px\"viewBox=\"0 0 24 24\"\n",
              "       width=\"24px\">\n",
              "    <path d=\"M0 0h24v24H0V0z\" fill=\"none\"/>\n",
              "    <path d=\"M18.56 5.44l.94 2.06.94-2.06 2.06-.94-2.06-.94-.94-2.06-.94 2.06-2.06.94zm-11 1L8.5 8.5l.94-2.06 2.06-.94-2.06-.94L8.5 2.5l-.94 2.06-2.06.94zm10 10l.94 2.06.94-2.06 2.06-.94-2.06-.94-.94-2.06-.94 2.06-2.06.94z\"/><path d=\"M17.41 7.96l-1.37-1.37c-.4-.4-.92-.59-1.43-.59-.52 0-1.04.2-1.43.59L10.3 9.45l-7.72 7.72c-.78.78-.78 2.05 0 2.83L4 21.41c.39.39.9.59 1.41.59.51 0 1.02-.2 1.41-.59l7.78-7.78 2.81-2.81c.8-.78.8-2.07 0-2.86zM5.41 20L4 18.59l7.72-7.72 1.47 1.35L5.41 20z\"/>\n",
              "  </svg>\n",
              "      </button>\n",
              "      \n",
              "  <style>\n",
              "    .colab-df-container {\n",
              "      display:flex;\n",
              "      flex-wrap:wrap;\n",
              "      gap: 12px;\n",
              "    }\n",
              "\n",
              "    .colab-df-convert {\n",
              "      background-color: #E8F0FE;\n",
              "      border: none;\n",
              "      border-radius: 50%;\n",
              "      cursor: pointer;\n",
              "      display: none;\n",
              "      fill: #1967D2;\n",
              "      height: 32px;\n",
              "      padding: 0 0 0 0;\n",
              "      width: 32px;\n",
              "    }\n",
              "\n",
              "    .colab-df-convert:hover {\n",
              "      background-color: #E2EBFA;\n",
              "      box-shadow: 0px 1px 2px rgba(60, 64, 67, 0.3), 0px 1px 3px 1px rgba(60, 64, 67, 0.15);\n",
              "      fill: #174EA6;\n",
              "    }\n",
              "\n",
              "    [theme=dark] .colab-df-convert {\n",
              "      background-color: #3B4455;\n",
              "      fill: #D2E3FC;\n",
              "    }\n",
              "\n",
              "    [theme=dark] .colab-df-convert:hover {\n",
              "      background-color: #434B5C;\n",
              "      box-shadow: 0px 1px 3px 1px rgba(0, 0, 0, 0.15);\n",
              "      filter: drop-shadow(0px 1px 2px rgba(0, 0, 0, 0.3));\n",
              "      fill: #FFFFFF;\n",
              "    }\n",
              "  </style>\n",
              "\n",
              "      <script>\n",
              "        const buttonEl =\n",
              "          document.querySelector('#df-228e9d2f-f331-427c-b490-0cbc10a14810 button.colab-df-convert');\n",
              "        buttonEl.style.display =\n",
              "          google.colab.kernel.accessAllowed ? 'block' : 'none';\n",
              "\n",
              "        async function convertToInteractive(key) {\n",
              "          const element = document.querySelector('#df-228e9d2f-f331-427c-b490-0cbc10a14810');\n",
              "          const dataTable =\n",
              "            await google.colab.kernel.invokeFunction('convertToInteractive',\n",
              "                                                     [key], {});\n",
              "          if (!dataTable) return;\n",
              "\n",
              "          const docLinkHtml = 'Like what you see? Visit the ' +\n",
              "            '<a target=\"_blank\" href=https://colab.research.google.com/notebooks/data_table.ipynb>data table notebook</a>'\n",
              "            + ' to learn more about interactive tables.';\n",
              "          element.innerHTML = '';\n",
              "          dataTable['output_type'] = 'display_data';\n",
              "          await google.colab.output.renderOutput(dataTable, element);\n",
              "          const docLink = document.createElement('div');\n",
              "          docLink.innerHTML = docLinkHtml;\n",
              "          element.appendChild(docLink);\n",
              "        }\n",
              "      </script>\n",
              "    </div>\n",
              "  </div>\n",
              "  "
            ]
          },
          "metadata": {},
          "execution_count": 5
        }
      ],
      "source": [
        "tab.head() # вывести первые строки"
      ]
    },
    {
      "cell_type": "markdown",
      "metadata": {
        "id": "U0GnQBnKvBGC"
      },
      "source": [
        "По строкам - объекты (клиенты), по столбцам - признаки, последний столбец - целевая переменная (1 - кредит выдан, 0 - в кредите отказано)."
      ]
    },
    {
      "cell_type": "code",
      "execution_count": 6,
      "metadata": {
        "id": "lj1dUeFGvBGC",
        "outputId": "0fa9d36c-5184-4f55-d636-ab4ab5618980",
        "colab": {
          "base_uri": "https://localhost:8080/"
        }
      },
      "outputs": [
        {
          "output_type": "execute_result",
          "data": {
            "text/plain": [
              "account                 int64\n",
              "duration              float64\n",
              "credit_history          int64\n",
              "amount                float64\n",
              "savings                 int64\n",
              "employment              int64\n",
              "guarantors              int64\n",
              "residence               int64\n",
              "age                   float64\n",
              "credits_number          int64\n",
              "job                     int64\n",
              "maintenance_people      int64\n",
              "telephone               int64\n",
              "foreign                 int64\n",
              "real_estate             int64\n",
              "life_insurance          int64\n",
              "car                     int64\n",
              "housing_rent            int64\n",
              "sex                     int64\n",
              "purpose                object\n",
              "target                  int64\n",
              "dtype: object"
            ]
          },
          "metadata": {},
          "execution_count": 6
        }
      ],
      "source": [
        "tab.dtypes # типы столбцов"
      ]
    },
    {
      "cell_type": "markdown",
      "metadata": {
        "id": "J8sYkF_EvBGC"
      },
      "source": [
        "Признаки в основном числовые."
      ]
    },
    {
      "cell_type": "code",
      "execution_count": 7,
      "metadata": {
        "id": "8yxi5q-svBGC",
        "outputId": "1ef2971a-f3b7-45b0-f22d-607149bd612d",
        "colab": {
          "base_uri": "https://localhost:8080/"
        }
      },
      "outputs": [
        {
          "output_type": "execute_result",
          "data": {
            "text/plain": [
              "1    300\n",
              "0    300\n",
              "Name: target, dtype: int64"
            ]
          },
          "metadata": {},
          "execution_count": 7
        }
      ],
      "source": [
        "tab[\"target\"].value_counts()"
      ]
    },
    {
      "cell_type": "markdown",
      "metadata": {
        "id": "VEab_cHxvBGC"
      },
      "source": [
        "Классы сбалансированы."
      ]
    },
    {
      "cell_type": "markdown",
      "metadata": {
        "id": "-VX6k7pXvBGC"
      },
      "source": [
        "Создаем матрицу объекты-признаки и матрицу ответов. Удалим пока столбец с категориальной переменной, чтобы оставить только числовые признаки."
      ]
    },
    {
      "cell_type": "code",
      "execution_count": 8,
      "metadata": {
        "id": "6pV3MGZrvBGC"
      },
      "outputs": [],
      "source": [
        "X = tab[tab.columns[:-2]]\n",
        "y = tab[\"target\"]"
      ]
    },
    {
      "cell_type": "code",
      "execution_count": 9,
      "metadata": {
        "id": "HwOtCxHqvBGC",
        "outputId": "32bab80d-eb0a-42d1-ee82-58b2a0ee8d21",
        "colab": {
          "base_uri": "https://localhost:8080/",
          "height": 270
        }
      },
      "outputs": [
        {
          "output_type": "execute_result",
          "data": {
            "text/plain": [
              "   account  duration  credit_history   amount  savings  employment  \\\n",
              "0        1      0.18               2  0.13110        2           2   \n",
              "1       -1      0.18               0  0.15520        1           3   \n",
              "2       -1      0.12               2  0.04510        1           3   \n",
              "3       -1      0.30               0  0.40360        0           1   \n",
              "4        0      0.36               2  0.09095        1           2   \n",
              "\n",
              "   guarantors  residence   age  credits_number  job  maintenance_people  \\\n",
              "0           1          4  0.34               1    2                   1   \n",
              "1           1          1  0.31               1    2                   1   \n",
              "2           1          4  0.21               1    2                   1   \n",
              "3           1          3  0.25               3    2                   1   \n",
              "4           1          4  0.37               1    2                   1   \n",
              "\n",
              "   telephone  foreign  real_estate  life_insurance  car  housing_rent  sex  \n",
              "0          0        1            0               0    1             0    1  \n",
              "1          1        1            0               1    0             0    1  \n",
              "2          0        1            0               1    0             1    1  \n",
              "3          0        1            0               0    1             0    1  \n",
              "4          1        1            0               0    0             0    1  "
            ],
            "text/html": [
              "\n",
              "  <div id=\"df-d8eeb60a-b331-4796-a661-04d4836ee9c1\">\n",
              "    <div class=\"colab-df-container\">\n",
              "      <div>\n",
              "<style scoped>\n",
              "    .dataframe tbody tr th:only-of-type {\n",
              "        vertical-align: middle;\n",
              "    }\n",
              "\n",
              "    .dataframe tbody tr th {\n",
              "        vertical-align: top;\n",
              "    }\n",
              "\n",
              "    .dataframe thead th {\n",
              "        text-align: right;\n",
              "    }\n",
              "</style>\n",
              "<table border=\"1\" class=\"dataframe\">\n",
              "  <thead>\n",
              "    <tr style=\"text-align: right;\">\n",
              "      <th></th>\n",
              "      <th>account</th>\n",
              "      <th>duration</th>\n",
              "      <th>credit_history</th>\n",
              "      <th>amount</th>\n",
              "      <th>savings</th>\n",
              "      <th>employment</th>\n",
              "      <th>guarantors</th>\n",
              "      <th>residence</th>\n",
              "      <th>age</th>\n",
              "      <th>credits_number</th>\n",
              "      <th>job</th>\n",
              "      <th>maintenance_people</th>\n",
              "      <th>telephone</th>\n",
              "      <th>foreign</th>\n",
              "      <th>real_estate</th>\n",
              "      <th>life_insurance</th>\n",
              "      <th>car</th>\n",
              "      <th>housing_rent</th>\n",
              "      <th>sex</th>\n",
              "    </tr>\n",
              "  </thead>\n",
              "  <tbody>\n",
              "    <tr>\n",
              "      <th>0</th>\n",
              "      <td>1</td>\n",
              "      <td>0.18</td>\n",
              "      <td>2</td>\n",
              "      <td>0.13110</td>\n",
              "      <td>2</td>\n",
              "      <td>2</td>\n",
              "      <td>1</td>\n",
              "      <td>4</td>\n",
              "      <td>0.34</td>\n",
              "      <td>1</td>\n",
              "      <td>2</td>\n",
              "      <td>1</td>\n",
              "      <td>0</td>\n",
              "      <td>1</td>\n",
              "      <td>0</td>\n",
              "      <td>0</td>\n",
              "      <td>1</td>\n",
              "      <td>0</td>\n",
              "      <td>1</td>\n",
              "    </tr>\n",
              "    <tr>\n",
              "      <th>1</th>\n",
              "      <td>-1</td>\n",
              "      <td>0.18</td>\n",
              "      <td>0</td>\n",
              "      <td>0.15520</td>\n",
              "      <td>1</td>\n",
              "      <td>3</td>\n",
              "      <td>1</td>\n",
              "      <td>1</td>\n",
              "      <td>0.31</td>\n",
              "      <td>1</td>\n",
              "      <td>2</td>\n",
              "      <td>1</td>\n",
              "      <td>1</td>\n",
              "      <td>1</td>\n",
              "      <td>0</td>\n",
              "      <td>1</td>\n",
              "      <td>0</td>\n",
              "      <td>0</td>\n",
              "      <td>1</td>\n",
              "    </tr>\n",
              "    <tr>\n",
              "      <th>2</th>\n",
              "      <td>-1</td>\n",
              "      <td>0.12</td>\n",
              "      <td>2</td>\n",
              "      <td>0.04510</td>\n",
              "      <td>1</td>\n",
              "      <td>3</td>\n",
              "      <td>1</td>\n",
              "      <td>4</td>\n",
              "      <td>0.21</td>\n",
              "      <td>1</td>\n",
              "      <td>2</td>\n",
              "      <td>1</td>\n",
              "      <td>0</td>\n",
              "      <td>1</td>\n",
              "      <td>0</td>\n",
              "      <td>1</td>\n",
              "      <td>0</td>\n",
              "      <td>1</td>\n",
              "      <td>1</td>\n",
              "    </tr>\n",
              "    <tr>\n",
              "      <th>3</th>\n",
              "      <td>-1</td>\n",
              "      <td>0.30</td>\n",
              "      <td>0</td>\n",
              "      <td>0.40360</td>\n",
              "      <td>0</td>\n",
              "      <td>1</td>\n",
              "      <td>1</td>\n",
              "      <td>3</td>\n",
              "      <td>0.25</td>\n",
              "      <td>3</td>\n",
              "      <td>2</td>\n",
              "      <td>1</td>\n",
              "      <td>0</td>\n",
              "      <td>1</td>\n",
              "      <td>0</td>\n",
              "      <td>0</td>\n",
              "      <td>1</td>\n",
              "      <td>0</td>\n",
              "      <td>1</td>\n",
              "    </tr>\n",
              "    <tr>\n",
              "      <th>4</th>\n",
              "      <td>0</td>\n",
              "      <td>0.36</td>\n",
              "      <td>2</td>\n",
              "      <td>0.09095</td>\n",
              "      <td>1</td>\n",
              "      <td>2</td>\n",
              "      <td>1</td>\n",
              "      <td>4</td>\n",
              "      <td>0.37</td>\n",
              "      <td>1</td>\n",
              "      <td>2</td>\n",
              "      <td>1</td>\n",
              "      <td>1</td>\n",
              "      <td>1</td>\n",
              "      <td>0</td>\n",
              "      <td>0</td>\n",
              "      <td>0</td>\n",
              "      <td>0</td>\n",
              "      <td>1</td>\n",
              "    </tr>\n",
              "  </tbody>\n",
              "</table>\n",
              "</div>\n",
              "      <button class=\"colab-df-convert\" onclick=\"convertToInteractive('df-d8eeb60a-b331-4796-a661-04d4836ee9c1')\"\n",
              "              title=\"Convert this dataframe to an interactive table.\"\n",
              "              style=\"display:none;\">\n",
              "        \n",
              "  <svg xmlns=\"http://www.w3.org/2000/svg\" height=\"24px\"viewBox=\"0 0 24 24\"\n",
              "       width=\"24px\">\n",
              "    <path d=\"M0 0h24v24H0V0z\" fill=\"none\"/>\n",
              "    <path d=\"M18.56 5.44l.94 2.06.94-2.06 2.06-.94-2.06-.94-.94-2.06-.94 2.06-2.06.94zm-11 1L8.5 8.5l.94-2.06 2.06-.94-2.06-.94L8.5 2.5l-.94 2.06-2.06.94zm10 10l.94 2.06.94-2.06 2.06-.94-2.06-.94-.94-2.06-.94 2.06-2.06.94z\"/><path d=\"M17.41 7.96l-1.37-1.37c-.4-.4-.92-.59-1.43-.59-.52 0-1.04.2-1.43.59L10.3 9.45l-7.72 7.72c-.78.78-.78 2.05 0 2.83L4 21.41c.39.39.9.59 1.41.59.51 0 1.02-.2 1.41-.59l7.78-7.78 2.81-2.81c.8-.78.8-2.07 0-2.86zM5.41 20L4 18.59l7.72-7.72 1.47 1.35L5.41 20z\"/>\n",
              "  </svg>\n",
              "      </button>\n",
              "      \n",
              "  <style>\n",
              "    .colab-df-container {\n",
              "      display:flex;\n",
              "      flex-wrap:wrap;\n",
              "      gap: 12px;\n",
              "    }\n",
              "\n",
              "    .colab-df-convert {\n",
              "      background-color: #E8F0FE;\n",
              "      border: none;\n",
              "      border-radius: 50%;\n",
              "      cursor: pointer;\n",
              "      display: none;\n",
              "      fill: #1967D2;\n",
              "      height: 32px;\n",
              "      padding: 0 0 0 0;\n",
              "      width: 32px;\n",
              "    }\n",
              "\n",
              "    .colab-df-convert:hover {\n",
              "      background-color: #E2EBFA;\n",
              "      box-shadow: 0px 1px 2px rgba(60, 64, 67, 0.3), 0px 1px 3px 1px rgba(60, 64, 67, 0.15);\n",
              "      fill: #174EA6;\n",
              "    }\n",
              "\n",
              "    [theme=dark] .colab-df-convert {\n",
              "      background-color: #3B4455;\n",
              "      fill: #D2E3FC;\n",
              "    }\n",
              "\n",
              "    [theme=dark] .colab-df-convert:hover {\n",
              "      background-color: #434B5C;\n",
              "      box-shadow: 0px 1px 3px 1px rgba(0, 0, 0, 0.15);\n",
              "      filter: drop-shadow(0px 1px 2px rgba(0, 0, 0, 0.3));\n",
              "      fill: #FFFFFF;\n",
              "    }\n",
              "  </style>\n",
              "\n",
              "      <script>\n",
              "        const buttonEl =\n",
              "          document.querySelector('#df-d8eeb60a-b331-4796-a661-04d4836ee9c1 button.colab-df-convert');\n",
              "        buttonEl.style.display =\n",
              "          google.colab.kernel.accessAllowed ? 'block' : 'none';\n",
              "\n",
              "        async function convertToInteractive(key) {\n",
              "          const element = document.querySelector('#df-d8eeb60a-b331-4796-a661-04d4836ee9c1');\n",
              "          const dataTable =\n",
              "            await google.colab.kernel.invokeFunction('convertToInteractive',\n",
              "                                                     [key], {});\n",
              "          if (!dataTable) return;\n",
              "\n",
              "          const docLinkHtml = 'Like what you see? Visit the ' +\n",
              "            '<a target=\"_blank\" href=https://colab.research.google.com/notebooks/data_table.ipynb>data table notebook</a>'\n",
              "            + ' to learn more about interactive tables.';\n",
              "          element.innerHTML = '';\n",
              "          dataTable['output_type'] = 'display_data';\n",
              "          await google.colab.output.renderOutput(dataTable, element);\n",
              "          const docLink = document.createElement('div');\n",
              "          docLink.innerHTML = docLinkHtml;\n",
              "          element.appendChild(docLink);\n",
              "        }\n",
              "      </script>\n",
              "    </div>\n",
              "  </div>\n",
              "  "
            ]
          },
          "metadata": {},
          "execution_count": 9
        }
      ],
      "source": [
        "X.head()"
      ]
    },
    {
      "cell_type": "code",
      "execution_count": 10,
      "metadata": {
        "id": "QRM2cj8WvBGC",
        "outputId": "09f2ae4d-6e18-404a-c274-9d7ab79e93cc",
        "colab": {
          "base_uri": "https://localhost:8080/"
        }
      },
      "outputs": [
        {
          "output_type": "execute_result",
          "data": {
            "text/plain": [
              "((600, 19), (600,))"
            ]
          },
          "metadata": {},
          "execution_count": 10
        }
      ],
      "source": [
        "X.shape, y.shape # атрибут shape показывает размерности матрицы"
      ]
    },
    {
      "cell_type": "markdown",
      "metadata": {
        "id": "FPs2xcT7vBGD"
      },
      "source": [
        "#### Разделение выборки"
      ]
    },
    {
      "cell_type": "code",
      "execution_count": 11,
      "metadata": {
        "id": "cV8By8TxvBGD"
      },
      "outputs": [],
      "source": [
        "from sklearn.model_selection import train_test_split\n",
        "# функция для разделения выборки на обучающую и тестовую"
      ]
    },
    {
      "cell_type": "code",
      "execution_count": 12,
      "metadata": {
        "id": "SGxhXo7JvBGD"
      },
      "outputs": [],
      "source": [
        "X_train, X_test, y_train, y_test  = train_test_split(X, y, \\\n",
        "                                                     test_size=0.3,\\\n",
        "                                                     shuffle=True,\n",
        "                                                     random_state=0)"
      ]
    },
    {
      "cell_type": "code",
      "execution_count": 13,
      "metadata": {
        "id": "pPZeQ-IFvBGD",
        "outputId": "36d6bb10-22cb-47d5-efba-85c31ed52d67",
        "colab": {
          "base_uri": "https://localhost:8080/"
        }
      },
      "outputs": [
        {
          "output_type": "execute_result",
          "data": {
            "text/plain": [
              "1    222\n",
              "0    198\n",
              "Name: target, dtype: int64"
            ]
          },
          "metadata": {},
          "execution_count": 13
        }
      ],
      "source": [
        "y_train.value_counts()"
      ]
    },
    {
      "cell_type": "code",
      "execution_count": 14,
      "metadata": {
        "id": "KYy6ay6dvBGD",
        "outputId": "5fc562bd-a576-45e5-c3e6-906910f6ee32",
        "colab": {
          "base_uri": "https://localhost:8080/"
        }
      },
      "outputs": [
        {
          "output_type": "execute_result",
          "data": {
            "text/plain": [
              "0    102\n",
              "1     78\n",
              "Name: target, dtype: int64"
            ]
          },
          "metadata": {},
          "execution_count": 14
        }
      ],
      "source": [
        "y_test.value_counts()"
      ]
    },
    {
      "cell_type": "code",
      "execution_count": 15,
      "metadata": {
        "id": "obfi0rbBvBGD",
        "outputId": "fcf3eee1-f1d0-49b2-9614-e8c79b13f004",
        "colab": {
          "base_uri": "https://localhost:8080/"
        }
      },
      "outputs": [
        {
          "output_type": "execute_result",
          "data": {
            "text/plain": [
              "((420, 19), (420,))"
            ]
          },
          "metadata": {},
          "execution_count": 15
        }
      ],
      "source": [
        "X_train.shape, y_train.shape"
      ]
    },
    {
      "cell_type": "markdown",
      "metadata": {
        "id": "PhVS1M1vvBGD"
      },
      "source": [
        "#### Нормируем данные"
      ]
    },
    {
      "cell_type": "code",
      "execution_count": 16,
      "metadata": {
        "id": "2zO5ofQSvBGD"
      },
      "outputs": [],
      "source": [
        "from sklearn.preprocessing import StandardScaler"
      ]
    },
    {
      "cell_type": "code",
      "execution_count": 17,
      "metadata": {
        "id": "vZ9Lwyd-vBGE"
      },
      "outputs": [],
      "source": [
        "scaler = StandardScaler()\n",
        "X_train = scaler.fit_transform(X_train)\n",
        "X_test = scaler.transform(X_test)"
      ]
    },
    {
      "cell_type": "markdown",
      "metadata": {
        "id": "JfWWQ6dwvBGE"
      },
      "source": [
        "#### Импортируем класс модели"
      ]
    },
    {
      "cell_type": "code",
      "execution_count": 18,
      "metadata": {
        "id": "0NjEqQxvvBGE"
      },
      "outputs": [],
      "source": [
        "from sklearn.linear_model import LinearRegression"
      ]
    },
    {
      "cell_type": "code",
      "execution_count": 19,
      "metadata": {
        "id": "_ctviJz6vBGE"
      },
      "outputs": [],
      "source": [
        "from sklearn.metrics import accuracy_score # функция оценки качества"
      ]
    },
    {
      "cell_type": "code",
      "execution_count": 20,
      "metadata": {
        "id": "wCVhex9KvBGE",
        "outputId": "eed8a8ae-779d-4222-8863-92f84eda77e4",
        "colab": {
          "base_uri": "https://localhost:8080/",
          "height": 74
        }
      },
      "outputs": [
        {
          "output_type": "execute_result",
          "data": {
            "text/plain": [
              "LinearRegression()"
            ],
            "text/html": [
              "<style>#sk-container-id-1 {color: black;background-color: white;}#sk-container-id-1 pre{padding: 0;}#sk-container-id-1 div.sk-toggleable {background-color: white;}#sk-container-id-1 label.sk-toggleable__label {cursor: pointer;display: block;width: 100%;margin-bottom: 0;padding: 0.3em;box-sizing: border-box;text-align: center;}#sk-container-id-1 label.sk-toggleable__label-arrow:before {content: \"▸\";float: left;margin-right: 0.25em;color: #696969;}#sk-container-id-1 label.sk-toggleable__label-arrow:hover:before {color: black;}#sk-container-id-1 div.sk-estimator:hover label.sk-toggleable__label-arrow:before {color: black;}#sk-container-id-1 div.sk-toggleable__content {max-height: 0;max-width: 0;overflow: hidden;text-align: left;background-color: #f0f8ff;}#sk-container-id-1 div.sk-toggleable__content pre {margin: 0.2em;color: black;border-radius: 0.25em;background-color: #f0f8ff;}#sk-container-id-1 input.sk-toggleable__control:checked~div.sk-toggleable__content {max-height: 200px;max-width: 100%;overflow: auto;}#sk-container-id-1 input.sk-toggleable__control:checked~label.sk-toggleable__label-arrow:before {content: \"▾\";}#sk-container-id-1 div.sk-estimator input.sk-toggleable__control:checked~label.sk-toggleable__label {background-color: #d4ebff;}#sk-container-id-1 div.sk-label input.sk-toggleable__control:checked~label.sk-toggleable__label {background-color: #d4ebff;}#sk-container-id-1 input.sk-hidden--visually {border: 0;clip: rect(1px 1px 1px 1px);clip: rect(1px, 1px, 1px, 1px);height: 1px;margin: -1px;overflow: hidden;padding: 0;position: absolute;width: 1px;}#sk-container-id-1 div.sk-estimator {font-family: monospace;background-color: #f0f8ff;border: 1px dotted black;border-radius: 0.25em;box-sizing: border-box;margin-bottom: 0.5em;}#sk-container-id-1 div.sk-estimator:hover {background-color: #d4ebff;}#sk-container-id-1 div.sk-parallel-item::after {content: \"\";width: 100%;border-bottom: 1px solid gray;flex-grow: 1;}#sk-container-id-1 div.sk-label:hover label.sk-toggleable__label {background-color: #d4ebff;}#sk-container-id-1 div.sk-serial::before {content: \"\";position: absolute;border-left: 1px solid gray;box-sizing: border-box;top: 0;bottom: 0;left: 50%;z-index: 0;}#sk-container-id-1 div.sk-serial {display: flex;flex-direction: column;align-items: center;background-color: white;padding-right: 0.2em;padding-left: 0.2em;position: relative;}#sk-container-id-1 div.sk-item {position: relative;z-index: 1;}#sk-container-id-1 div.sk-parallel {display: flex;align-items: stretch;justify-content: center;background-color: white;position: relative;}#sk-container-id-1 div.sk-item::before, #sk-container-id-1 div.sk-parallel-item::before {content: \"\";position: absolute;border-left: 1px solid gray;box-sizing: border-box;top: 0;bottom: 0;left: 50%;z-index: -1;}#sk-container-id-1 div.sk-parallel-item {display: flex;flex-direction: column;z-index: 1;position: relative;background-color: white;}#sk-container-id-1 div.sk-parallel-item:first-child::after {align-self: flex-end;width: 50%;}#sk-container-id-1 div.sk-parallel-item:last-child::after {align-self: flex-start;width: 50%;}#sk-container-id-1 div.sk-parallel-item:only-child::after {width: 0;}#sk-container-id-1 div.sk-dashed-wrapped {border: 1px dashed gray;margin: 0 0.4em 0.5em 0.4em;box-sizing: border-box;padding-bottom: 0.4em;background-color: white;}#sk-container-id-1 div.sk-label label {font-family: monospace;font-weight: bold;display: inline-block;line-height: 1.2em;}#sk-container-id-1 div.sk-label-container {text-align: center;}#sk-container-id-1 div.sk-container {/* jupyter's `normalize.less` sets `[hidden] { display: none; }` but bootstrap.min.css set `[hidden] { display: none !important; }` so we also need the `!important` here to be able to override the default hidden behavior on the sphinx rendered scikit-learn.org. See: https://github.com/scikit-learn/scikit-learn/issues/21755 */display: inline-block !important;position: relative;}#sk-container-id-1 div.sk-text-repr-fallback {display: none;}</style><div id=\"sk-container-id-1\" class=\"sk-top-container\"><div class=\"sk-text-repr-fallback\"><pre>LinearRegression()</pre><b>In a Jupyter environment, please rerun this cell to show the HTML representation or trust the notebook. <br />On GitHub, the HTML representation is unable to render, please try loading this page with nbviewer.org.</b></div><div class=\"sk-container\" hidden><div class=\"sk-item\"><div class=\"sk-estimator sk-toggleable\"><input class=\"sk-toggleable__control sk-hidden--visually\" id=\"sk-estimator-id-1\" type=\"checkbox\" checked><label for=\"sk-estimator-id-1\" class=\"sk-toggleable__label sk-toggleable__label-arrow\">LinearRegression</label><div class=\"sk-toggleable__content\"><pre>LinearRegression()</pre></div></div></div></div></div>"
            ]
          },
          "metadata": {},
          "execution_count": 20
        }
      ],
      "source": [
        "clf_lr = LinearRegression()\n",
        "clf_lr.fit(X_train, y_train)"
      ]
    },
    {
      "cell_type": "code",
      "execution_count": 21,
      "metadata": {
        "id": "ZZmvDR0FvBGE"
      },
      "outputs": [],
      "source": [
        "y_pred = clf_lr.predict(X_test)"
      ]
    },
    {
      "cell_type": "code",
      "execution_count": 22,
      "metadata": {
        "id": "6galfLHLvBGE",
        "outputId": "f21b7917-c131-4e7b-f230-e0f526f10f77",
        "colab": {
          "base_uri": "https://localhost:8080/"
        }
      },
      "outputs": [
        {
          "output_type": "execute_result",
          "data": {
            "text/plain": [
              "0.6388888888888888"
            ]
          },
          "metadata": {},
          "execution_count": 22
        }
      ],
      "source": [
        "accuracy_score(y_test, y_pred > 0.5)"
      ]
    },
    {
      "cell_type": "markdown",
      "metadata": {
        "id": "fFxxJdNPvBGE"
      },
      "source": [
        "#### Важности и веса признаков\n",
        "Большинство алгоритмов умеют так или иначе оценивать важности признаков. \n",
        "В линейной модели в качестве важностей можно рассматривать веса признаков. Они хранятся в атрибуте coef\\_ и появляются, конечно, только после вызова процедуры обучения."
      ]
    },
    {
      "cell_type": "code",
      "execution_count": 23,
      "metadata": {
        "id": "5zvjg_b8vBGE",
        "outputId": "fe82f7cf-0e0a-4743-a4b9-b323ec353fe5",
        "colab": {
          "base_uri": "https://localhost:8080/"
        }
      },
      "outputs": [
        {
          "output_type": "execute_result",
          "data": {
            "text/plain": [
              "array([ 0.03344627, -0.0779239 ,  0.08754819, -0.02066605,  0.03067396,\n",
              "        0.06774134, -0.00975411,  0.00109616,  0.0185817 , -0.04661195,\n",
              "        0.00099741, -0.00569433,  0.01735849, -0.03505761,  0.06359324,\n",
              "       -0.0134745 ,  0.06344944, -0.0416773 ,  0.05088774])"
            ]
          },
          "metadata": {},
          "execution_count": 23
        }
      ],
      "source": [
        "clf_lr.coef_"
      ]
    },
    {
      "cell_type": "markdown",
      "metadata": {
        "id": "tZNwwulrvBGE"
      },
      "source": [
        "__Задание.__ Оформить веса признаков в виде датафрейма: первый столбец - имя признака, второй столбец - вес, и отсортировать датафрейм по увеличению веса.\n",
        "\n",
        "__Решение:__"
      ]
    },
    {
      "cell_type": "code",
      "execution_count": null,
      "metadata": {
        "id": "DxBqVyD8vBGE"
      },
      "outputs": [],
      "source": []
    },
    {
      "cell_type": "markdown",
      "metadata": {
        "id": "NGJP9nNavBGF"
      },
      "source": [
        "Признаки отсортировались по логичным критериям: плата за съем жилья, число кредитов, заемщик-иностранец уменьшают шанс получить кредит; наличие собственности, машины, работы, счета в банке - увеличивают шансы.\n",
        "\n",
        "Впрочем, некоторые признаки отсортировались менее логично: например, наличие поручителя тоже голосует в \"минус\", хотя и с маленьким весом.\n",
        "\n",
        "__Обратите внимание:__ интерпретировать величину весов можно, только если данные отнормированы. Иначе модуль веса будет зависеть от масштаба признака."
      ]
    },
    {
      "cell_type": "markdown",
      "metadata": {
        "id": "OMh69JPAvBGF"
      },
      "source": [
        "#### Работа с категориальным признаком"
      ]
    },
    {
      "cell_type": "markdown",
      "metadata": {
        "id": "c_tJVxOJvBGF"
      },
      "source": [
        "Применим метод one-hot-encoding к переменной \"цель получения кредита\", чобы включить ее в модель. Для этого воспользуемся функцией pd.get_dummies"
      ]
    },
    {
      "cell_type": "code",
      "execution_count": 24,
      "metadata": {
        "id": "WU6MYiLfvBGF"
      },
      "outputs": [],
      "source": [
        "tab_ohe = pd.get_dummies(tab, \"purpose\")"
      ]
    },
    {
      "cell_type": "code",
      "execution_count": 25,
      "metadata": {
        "id": "TNV8NcMovBGF",
        "outputId": "4fea293e-abc3-4551-d977-19d8abf72bf6",
        "colab": {
          "base_uri": "https://localhost:8080/",
          "height": 299
        }
      },
      "outputs": [
        {
          "output_type": "execute_result",
          "data": {
            "text/plain": [
              "   account  duration  credit_history   amount  savings  employment  \\\n",
              "0        1      0.18               2  0.13110        2           2   \n",
              "1       -1      0.18               0  0.15520        1           3   \n",
              "2       -1      0.12               2  0.04510        1           3   \n",
              "3       -1      0.30               0  0.40360        0           1   \n",
              "4        0      0.36               2  0.09095        1           2   \n",
              "\n",
              "   guarantors  residence   age  credits_number  ...  purpose_business  \\\n",
              "0           1          4  0.34               1  ...                 1   \n",
              "1           1          1  0.31               1  ...                 1   \n",
              "2           1          4  0.21               1  ...                 0   \n",
              "3           1          3  0.25               3  ...                 1   \n",
              "4           1          4  0.37               1  ...                 0   \n",
              "\n",
              "   purpose_car_new  purpose_car_used  purpose_domestic_appliances  \\\n",
              "0                0                 0                            0   \n",
              "1                0                 0                            0   \n",
              "2                0                 0                            0   \n",
              "3                0                 0                            0   \n",
              "4                0                 0                            0   \n",
              "\n",
              "   purpose_education  purpose_furniture  purpose_others  purpose_repairs  \\\n",
              "0                  0                  0               0                0   \n",
              "1                  0                  0               0                0   \n",
              "2                  0                  0               0                0   \n",
              "3                  0                  0               0                0   \n",
              "4                  1                  0               0                0   \n",
              "\n",
              "   purpose_retraining  purpose_television  \n",
              "0                   0                   0  \n",
              "1                   0                   0  \n",
              "2                   1                   0  \n",
              "3                   0                   0  \n",
              "4                   0                   0  \n",
              "\n",
              "[5 rows x 30 columns]"
            ],
            "text/html": [
              "\n",
              "  <div id=\"df-5fb51818-9da2-46ec-8d83-d4ffbf1429d2\">\n",
              "    <div class=\"colab-df-container\">\n",
              "      <div>\n",
              "<style scoped>\n",
              "    .dataframe tbody tr th:only-of-type {\n",
              "        vertical-align: middle;\n",
              "    }\n",
              "\n",
              "    .dataframe tbody tr th {\n",
              "        vertical-align: top;\n",
              "    }\n",
              "\n",
              "    .dataframe thead th {\n",
              "        text-align: right;\n",
              "    }\n",
              "</style>\n",
              "<table border=\"1\" class=\"dataframe\">\n",
              "  <thead>\n",
              "    <tr style=\"text-align: right;\">\n",
              "      <th></th>\n",
              "      <th>account</th>\n",
              "      <th>duration</th>\n",
              "      <th>credit_history</th>\n",
              "      <th>amount</th>\n",
              "      <th>savings</th>\n",
              "      <th>employment</th>\n",
              "      <th>guarantors</th>\n",
              "      <th>residence</th>\n",
              "      <th>age</th>\n",
              "      <th>credits_number</th>\n",
              "      <th>...</th>\n",
              "      <th>purpose_business</th>\n",
              "      <th>purpose_car_new</th>\n",
              "      <th>purpose_car_used</th>\n",
              "      <th>purpose_domestic_appliances</th>\n",
              "      <th>purpose_education</th>\n",
              "      <th>purpose_furniture</th>\n",
              "      <th>purpose_others</th>\n",
              "      <th>purpose_repairs</th>\n",
              "      <th>purpose_retraining</th>\n",
              "      <th>purpose_television</th>\n",
              "    </tr>\n",
              "  </thead>\n",
              "  <tbody>\n",
              "    <tr>\n",
              "      <th>0</th>\n",
              "      <td>1</td>\n",
              "      <td>0.18</td>\n",
              "      <td>2</td>\n",
              "      <td>0.13110</td>\n",
              "      <td>2</td>\n",
              "      <td>2</td>\n",
              "      <td>1</td>\n",
              "      <td>4</td>\n",
              "      <td>0.34</td>\n",
              "      <td>1</td>\n",
              "      <td>...</td>\n",
              "      <td>1</td>\n",
              "      <td>0</td>\n",
              "      <td>0</td>\n",
              "      <td>0</td>\n",
              "      <td>0</td>\n",
              "      <td>0</td>\n",
              "      <td>0</td>\n",
              "      <td>0</td>\n",
              "      <td>0</td>\n",
              "      <td>0</td>\n",
              "    </tr>\n",
              "    <tr>\n",
              "      <th>1</th>\n",
              "      <td>-1</td>\n",
              "      <td>0.18</td>\n",
              "      <td>0</td>\n",
              "      <td>0.15520</td>\n",
              "      <td>1</td>\n",
              "      <td>3</td>\n",
              "      <td>1</td>\n",
              "      <td>1</td>\n",
              "      <td>0.31</td>\n",
              "      <td>1</td>\n",
              "      <td>...</td>\n",
              "      <td>1</td>\n",
              "      <td>0</td>\n",
              "      <td>0</td>\n",
              "      <td>0</td>\n",
              "      <td>0</td>\n",
              "      <td>0</td>\n",
              "      <td>0</td>\n",
              "      <td>0</td>\n",
              "      <td>0</td>\n",
              "      <td>0</td>\n",
              "    </tr>\n",
              "    <tr>\n",
              "      <th>2</th>\n",
              "      <td>-1</td>\n",
              "      <td>0.12</td>\n",
              "      <td>2</td>\n",
              "      <td>0.04510</td>\n",
              "      <td>1</td>\n",
              "      <td>3</td>\n",
              "      <td>1</td>\n",
              "      <td>4</td>\n",
              "      <td>0.21</td>\n",
              "      <td>1</td>\n",
              "      <td>...</td>\n",
              "      <td>0</td>\n",
              "      <td>0</td>\n",
              "      <td>0</td>\n",
              "      <td>0</td>\n",
              "      <td>0</td>\n",
              "      <td>0</td>\n",
              "      <td>0</td>\n",
              "      <td>0</td>\n",
              "      <td>1</td>\n",
              "      <td>0</td>\n",
              "    </tr>\n",
              "    <tr>\n",
              "      <th>3</th>\n",
              "      <td>-1</td>\n",
              "      <td>0.30</td>\n",
              "      <td>0</td>\n",
              "      <td>0.40360</td>\n",
              "      <td>0</td>\n",
              "      <td>1</td>\n",
              "      <td>1</td>\n",
              "      <td>3</td>\n",
              "      <td>0.25</td>\n",
              "      <td>3</td>\n",
              "      <td>...</td>\n",
              "      <td>1</td>\n",
              "      <td>0</td>\n",
              "      <td>0</td>\n",
              "      <td>0</td>\n",
              "      <td>0</td>\n",
              "      <td>0</td>\n",
              "      <td>0</td>\n",
              "      <td>0</td>\n",
              "      <td>0</td>\n",
              "      <td>0</td>\n",
              "    </tr>\n",
              "    <tr>\n",
              "      <th>4</th>\n",
              "      <td>0</td>\n",
              "      <td>0.36</td>\n",
              "      <td>2</td>\n",
              "      <td>0.09095</td>\n",
              "      <td>1</td>\n",
              "      <td>2</td>\n",
              "      <td>1</td>\n",
              "      <td>4</td>\n",
              "      <td>0.37</td>\n",
              "      <td>1</td>\n",
              "      <td>...</td>\n",
              "      <td>0</td>\n",
              "      <td>0</td>\n",
              "      <td>0</td>\n",
              "      <td>0</td>\n",
              "      <td>1</td>\n",
              "      <td>0</td>\n",
              "      <td>0</td>\n",
              "      <td>0</td>\n",
              "      <td>0</td>\n",
              "      <td>0</td>\n",
              "    </tr>\n",
              "  </tbody>\n",
              "</table>\n",
              "<p>5 rows × 30 columns</p>\n",
              "</div>\n",
              "      <button class=\"colab-df-convert\" onclick=\"convertToInteractive('df-5fb51818-9da2-46ec-8d83-d4ffbf1429d2')\"\n",
              "              title=\"Convert this dataframe to an interactive table.\"\n",
              "              style=\"display:none;\">\n",
              "        \n",
              "  <svg xmlns=\"http://www.w3.org/2000/svg\" height=\"24px\"viewBox=\"0 0 24 24\"\n",
              "       width=\"24px\">\n",
              "    <path d=\"M0 0h24v24H0V0z\" fill=\"none\"/>\n",
              "    <path d=\"M18.56 5.44l.94 2.06.94-2.06 2.06-.94-2.06-.94-.94-2.06-.94 2.06-2.06.94zm-11 1L8.5 8.5l.94-2.06 2.06-.94-2.06-.94L8.5 2.5l-.94 2.06-2.06.94zm10 10l.94 2.06.94-2.06 2.06-.94-2.06-.94-.94-2.06-.94 2.06-2.06.94z\"/><path d=\"M17.41 7.96l-1.37-1.37c-.4-.4-.92-.59-1.43-.59-.52 0-1.04.2-1.43.59L10.3 9.45l-7.72 7.72c-.78.78-.78 2.05 0 2.83L4 21.41c.39.39.9.59 1.41.59.51 0 1.02-.2 1.41-.59l7.78-7.78 2.81-2.81c.8-.78.8-2.07 0-2.86zM5.41 20L4 18.59l7.72-7.72 1.47 1.35L5.41 20z\"/>\n",
              "  </svg>\n",
              "      </button>\n",
              "      \n",
              "  <style>\n",
              "    .colab-df-container {\n",
              "      display:flex;\n",
              "      flex-wrap:wrap;\n",
              "      gap: 12px;\n",
              "    }\n",
              "\n",
              "    .colab-df-convert {\n",
              "      background-color: #E8F0FE;\n",
              "      border: none;\n",
              "      border-radius: 50%;\n",
              "      cursor: pointer;\n",
              "      display: none;\n",
              "      fill: #1967D2;\n",
              "      height: 32px;\n",
              "      padding: 0 0 0 0;\n",
              "      width: 32px;\n",
              "    }\n",
              "\n",
              "    .colab-df-convert:hover {\n",
              "      background-color: #E2EBFA;\n",
              "      box-shadow: 0px 1px 2px rgba(60, 64, 67, 0.3), 0px 1px 3px 1px rgba(60, 64, 67, 0.15);\n",
              "      fill: #174EA6;\n",
              "    }\n",
              "\n",
              "    [theme=dark] .colab-df-convert {\n",
              "      background-color: #3B4455;\n",
              "      fill: #D2E3FC;\n",
              "    }\n",
              "\n",
              "    [theme=dark] .colab-df-convert:hover {\n",
              "      background-color: #434B5C;\n",
              "      box-shadow: 0px 1px 3px 1px rgba(0, 0, 0, 0.15);\n",
              "      filter: drop-shadow(0px 1px 2px rgba(0, 0, 0, 0.3));\n",
              "      fill: #FFFFFF;\n",
              "    }\n",
              "  </style>\n",
              "\n",
              "      <script>\n",
              "        const buttonEl =\n",
              "          document.querySelector('#df-5fb51818-9da2-46ec-8d83-d4ffbf1429d2 button.colab-df-convert');\n",
              "        buttonEl.style.display =\n",
              "          google.colab.kernel.accessAllowed ? 'block' : 'none';\n",
              "\n",
              "        async function convertToInteractive(key) {\n",
              "          const element = document.querySelector('#df-5fb51818-9da2-46ec-8d83-d4ffbf1429d2');\n",
              "          const dataTable =\n",
              "            await google.colab.kernel.invokeFunction('convertToInteractive',\n",
              "                                                     [key], {});\n",
              "          if (!dataTable) return;\n",
              "\n",
              "          const docLinkHtml = 'Like what you see? Visit the ' +\n",
              "            '<a target=\"_blank\" href=https://colab.research.google.com/notebooks/data_table.ipynb>data table notebook</a>'\n",
              "            + ' to learn more about interactive tables.';\n",
              "          element.innerHTML = '';\n",
              "          dataTable['output_type'] = 'display_data';\n",
              "          await google.colab.output.renderOutput(dataTable, element);\n",
              "          const docLink = document.createElement('div');\n",
              "          docLink.innerHTML = docLinkHtml;\n",
              "          element.appendChild(docLink);\n",
              "        }\n",
              "      </script>\n",
              "    </div>\n",
              "  </div>\n",
              "  "
            ]
          },
          "metadata": {},
          "execution_count": 25
        }
      ],
      "source": [
        "tab_ohe.head()"
      ]
    },
    {
      "cell_type": "code",
      "execution_count": 26,
      "metadata": {
        "id": "N7rT_SrRvBGF"
      },
      "outputs": [],
      "source": [
        "# удаляем целевую переменную с помощью метода drop\n",
        "X_ohe = tab_ohe.drop(\"target\", axis=1)\n",
        "# axis=1 показывает, что мы отим удалить столбец, а не строку (axis=0)"
      ]
    },
    {
      "cell_type": "code",
      "execution_count": 27,
      "metadata": {
        "id": "qxN2om20vBGG"
      },
      "outputs": [],
      "source": [
        "X_train_ohe, X_test_ohe, y_train, y_test  = train_test_split(X_ohe, y, \\\n",
        "                                                     test_size=0.3,\\\n",
        "                                                     shuffle=True,\n",
        "                                                     random_state=0)"
      ]
    },
    {
      "cell_type": "code",
      "execution_count": 28,
      "metadata": {
        "id": "votK4TaPvBGG"
      },
      "outputs": [],
      "source": [
        "scaler = StandardScaler()\n",
        "X_train_ohe = scaler.fit_transform(X_train_ohe)\n",
        "X_test_ohe = scaler.transform(X_test_ohe)"
      ]
    },
    {
      "cell_type": "markdown",
      "metadata": {
        "id": "hK3AL9MavBGG"
      },
      "source": [
        "Благодаря фиксации random_state=0 мы получаем одно и то же разделение."
      ]
    },
    {
      "cell_type": "markdown",
      "metadata": {
        "id": "Y5ZUZcOyvBGG"
      },
      "source": [
        "Оформим обучение классификатора и подсчет качества в виде функции:"
      ]
    },
    {
      "cell_type": "code",
      "execution_count": 29,
      "metadata": {
        "id": "rcu1XOFBvBGG"
      },
      "outputs": [],
      "source": [
        "def get_accuracy(clf):\n",
        "    clf.fit(X_train_ohe, y_train)\n",
        "    y_pred = clf.predict(X_test_ohe)\n",
        "    return accuracy_score(y_test, y_pred > 0.5)"
      ]
    },
    {
      "cell_type": "code",
      "execution_count": 30,
      "metadata": {
        "id": "9lzHF9FhvBGG",
        "outputId": "5bddb716-4ac9-4d42-f814-ee4bd1678525",
        "colab": {
          "base_uri": "https://localhost:8080/"
        }
      },
      "outputs": [
        {
          "output_type": "stream",
          "name": "stdout",
          "text": [
            "0.6666666666666666\n"
          ]
        }
      ],
      "source": [
        "print(get_accuracy(LinearRegression()))"
      ]
    },
    {
      "cell_type": "markdown",
      "metadata": {
        "id": "Vbu4U41jvBGG"
      },
      "source": [
        "Качество с новым признаком повысилось."
      ]
    },
    {
      "cell_type": "markdown",
      "metadata": {
        "id": "Y3nc40acvBGG"
      },
      "source": [
        "А что, если мы просто пронумеруем категории? Для этого воспользуемся классом LabelEncoder:"
      ]
    },
    {
      "cell_type": "code",
      "execution_count": 31,
      "metadata": {
        "id": "4bC-Qk5MvBGG"
      },
      "outputs": [],
      "source": [
        "from sklearn.preprocessing import LabelEncoder"
      ]
    },
    {
      "cell_type": "code",
      "execution_count": 32,
      "metadata": {
        "id": "xzsz1qb9vBGH"
      },
      "outputs": [],
      "source": [
        "le = LabelEncoder()\n",
        "tab[\"purpose\"] = le.fit_transform(tab[\"purpose\"])"
      ]
    },
    {
      "cell_type": "code",
      "execution_count": 33,
      "metadata": {
        "id": "BI7f73OrvBGH"
      },
      "outputs": [],
      "source": [
        "X_le = tab[tab.columns[:-1]]"
      ]
    },
    {
      "cell_type": "code",
      "execution_count": 34,
      "metadata": {
        "id": "-7AJfvPcvBGH"
      },
      "outputs": [],
      "source": [
        "X_train_le, X_test_le, y_train, y_test  = train_test_split(X_le, y, \\\n",
        "                                                     test_size=0.3,\\\n",
        "                                                     shuffle=True,\n",
        "                                                     random_state=0)"
      ]
    },
    {
      "cell_type": "code",
      "execution_count": 35,
      "metadata": {
        "id": "uUbO82mAvBGH"
      },
      "outputs": [],
      "source": [
        "scaler = StandardScaler()\n",
        "X_train_le = scaler.fit_transform(X_train_le)\n",
        "X_test_le = scaler.transform(X_test_le)"
      ]
    },
    {
      "cell_type": "code",
      "execution_count": 36,
      "metadata": {
        "id": "kUr45asbvBGI"
      },
      "outputs": [],
      "source": [
        "def get_accuracy(clf):\n",
        "    clf.fit(X_train_le, y_train)\n",
        "    y_pred = clf.predict(X_test_le)\n",
        "    return accuracy_score(y_test, y_pred > 0.5)"
      ]
    },
    {
      "cell_type": "code",
      "execution_count": 37,
      "metadata": {
        "id": "X_KMhK5ZvBGI",
        "outputId": "48d5a631-770c-4261-c67a-6516e416ec9c",
        "colab": {
          "base_uri": "https://localhost:8080/"
        }
      },
      "outputs": [
        {
          "output_type": "stream",
          "name": "stdout",
          "text": [
            "0.65\n"
          ]
        }
      ],
      "source": [
        "print(get_accuracy(LinearRegression()))"
      ]
    },
    {
      "cell_type": "markdown",
      "metadata": {
        "id": "4cGfnTMivBGI"
      },
      "source": [
        "Посчитаем метрики нашей модели. Метрики разобранные на лекции уже реализованы в библиотеке scikit-learn."
      ]
    },
    {
      "cell_type": "code",
      "execution_count": 38,
      "metadata": {
        "id": "pTv9uRsNvBGI"
      },
      "outputs": [],
      "source": [
        "from sklearn.metrics import precision_score, recall_score, confusion_matrix, f1_score"
      ]
    },
    {
      "cell_type": "code",
      "execution_count": 39,
      "metadata": {
        "id": "OcXhen9MvBGI",
        "outputId": "4efb692b-358b-4112-a0f1-ce3c85518597",
        "colab": {
          "base_uri": "https://localhost:8080/"
        }
      },
      "outputs": [
        {
          "output_type": "execute_result",
          "data": {
            "text/plain": [
              "array([[53, 49],\n",
              "       [16, 62]])"
            ]
          },
          "metadata": {},
          "execution_count": 39
        }
      ],
      "source": [
        "confusion_matrix(y_test, y_pred > 0.5)"
      ]
    },
    {
      "cell_type": "code",
      "execution_count": 40,
      "metadata": {
        "id": "OA9G599jvBGJ",
        "outputId": "bfe8648c-b651-48b8-90be-48f6bebb507e",
        "colab": {
          "base_uri": "https://localhost:8080/"
        }
      },
      "outputs": [
        {
          "output_type": "execute_result",
          "data": {
            "text/plain": [
              "0.5585585585585585"
            ]
          },
          "metadata": {},
          "execution_count": 40
        }
      ],
      "source": [
        "precision_score(y_test, y_pred > 0.5)"
      ]
    },
    {
      "cell_type": "code",
      "execution_count": 41,
      "metadata": {
        "id": "70bPz6N8vBGJ",
        "outputId": "ab121fe5-21bd-47ad-a238-2093e85ee3dd",
        "colab": {
          "base_uri": "https://localhost:8080/"
        }
      },
      "outputs": [
        {
          "output_type": "execute_result",
          "data": {
            "text/plain": [
              "0.7948717948717948"
            ]
          },
          "metadata": {},
          "execution_count": 41
        }
      ],
      "source": [
        "recall_score(y_test, y_pred > 0.5)"
      ]
    },
    {
      "cell_type": "code",
      "execution_count": 42,
      "metadata": {
        "id": "HHhr7cr8vBGJ",
        "outputId": "99263513-098a-45d2-e400-515c12dae3ed",
        "colab": {
          "base_uri": "https://localhost:8080/"
        }
      },
      "outputs": [
        {
          "output_type": "execute_result",
          "data": {
            "text/plain": [
              "0.656084656084656"
            ]
          },
          "metadata": {},
          "execution_count": 42
        }
      ],
      "source": [
        "f1_score(y_test, y_pred > 0.5)"
      ]
    },
    {
      "cell_type": "markdown",
      "metadata": {
        "id": "63DLGMV2vBGJ"
      },
      "source": [
        "Порог 0.5 мы выбрали самостоятельно, и мы можем его менять. Как увелечиение порога отразится на precision/recall?\n",
        "\n",
        "На практике, перед нами всегда встает трейдофф - потерять часть сигнала взамен на большую точность или получить false positives взамен на больший recall."
      ]
    },
    {
      "cell_type": "markdown",
      "metadata": {
        "id": "66ol31hYvBGJ"
      },
      "source": [
        "Постройте на одном графике precision, recall и f1 score в зависимости от порога."
      ]
    },
    {
      "cell_type": "code",
      "execution_count": null,
      "metadata": {
        "id": "5YfeAaJ4vBGK"
      },
      "outputs": [],
      "source": []
    },
    {
      "cell_type": "markdown",
      "metadata": {
        "id": "wl4gZSPlvBGK"
      },
      "source": [
        "Какой порог соответствует максимизации f1 score?"
      ]
    },
    {
      "cell_type": "code",
      "execution_count": null,
      "metadata": {
        "id": "SsXB880bvBGK"
      },
      "outputs": [],
      "source": []
    },
    {
      "cell_type": "markdown",
      "metadata": {
        "id": "LaN8V2V1vBGK"
      },
      "source": [
        "Обучите линейную регрессию с регуляризацией и подберите параметр регуляризации исходя из максимального f1-score."
      ]
    },
    {
      "cell_type": "code",
      "execution_count": null,
      "metadata": {
        "id": "tWnstl1NvBGK"
      },
      "outputs": [],
      "source": []
    }
  ],
  "metadata": {
    "kernelspec": {
      "display_name": "Python 3",
      "language": "python",
      "name": "python3"
    },
    "language_info": {
      "codemirror_mode": {
        "name": "ipython",
        "version": 3
      },
      "file_extension": ".py",
      "mimetype": "text/x-python",
      "name": "python",
      "nbconvert_exporter": "python",
      "pygments_lexer": "ipython3",
      "version": "3.8.8"
    },
    "colab": {
      "provenance": []
    }
  },
  "nbformat": 4,
  "nbformat_minor": 0
}