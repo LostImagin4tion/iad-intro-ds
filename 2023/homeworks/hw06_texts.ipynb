{
 "cells": [
  {
   "cell_type": "markdown",
   "metadata": {
    "id": "xrvOD02o3HvH"
   },
   "source": [
    "# Домашнее задание 6: классификация текстов"
   ]
  },
  {
   "cell_type": "markdown",
   "metadata": {
    "id": "sxwj_Iie3HvJ"
   },
   "source": [
    "В этом домашнем задании вам предстоит построить классификатор текстов!\n",
    "\n",
    "Данные мы будем использовать из Kaggle соревнования: https://www.kaggle.com/competitions/nlp-getting-started/data \n",
    "\n",
    "\n",
    "Оттуда надо скачать файл train.csv. На обучающую и тестовую выборки его поделим кодом ниже, менять его не надо!"
   ]
  },
  {
   "cell_type": "markdown",
   "metadata": {
    "id": "qQVgqLg93HvJ"
   },
   "source": [
    "Мы будем работать с датасетом постов из твиттера. Нам предстоит решать задачу бинарной классификации - определять содержатся ли в твитте информация о настоящей катастрофе/инциденте или нет."
   ]
  },
  {
   "cell_type": "code",
   "execution_count": 389,
   "metadata": {
    "id": "TcjEYh7R3HvK",
    "ExecuteTime": {
     "start_time": "2023-05-03T22:45:51.683153Z",
     "end_time": "2023-05-03T22:45:51.698704Z"
    }
   },
   "outputs": [],
   "source": [
    "import numpy as np\n",
    "import pandas as pd\n",
    "from typing import  List\n",
    "import matplotlib.pyplot as plt\n",
    "import seaborn as sns\n",
    "from string import punctuation"
   ]
  },
  {
   "cell_type": "code",
   "execution_count": 390,
   "metadata": {
    "id": "mjwffGiB3HvK",
    "ExecuteTime": {
     "start_time": "2023-05-03T22:45:55.471481Z",
     "end_time": "2023-05-03T22:45:55.509176Z"
    }
   },
   "outputs": [],
   "source": [
    "data = pd.read_csv('train.csv')"
   ]
  },
  {
   "cell_type": "code",
   "execution_count": 391,
   "metadata": {
    "colab": {
     "base_uri": "https://localhost:8080/",
     "height": 206
    },
    "id": "v0uUoFTN3HvK",
    "outputId": "0d37d677-a00d-449c-8f86-6f85dce2ef4a",
    "ExecuteTime": {
     "start_time": "2023-05-03T22:45:56.520385Z",
     "end_time": "2023-05-03T22:45:56.568461Z"
    }
   },
   "outputs": [
    {
     "data": {
      "text/plain": "         id keyword location  \\\n0         1     NaN      NaN   \n1         4     NaN      NaN   \n2         5     NaN      NaN   \n3         6     NaN      NaN   \n4         7     NaN      NaN   \n...     ...     ...      ...   \n7608  10869     NaN      NaN   \n7609  10870     NaN      NaN   \n7610  10871     NaN      NaN   \n7611  10872     NaN      NaN   \n7612  10873     NaN      NaN   \n\n                                                   text  target  \n0     Our Deeds are the Reason of this #earthquake M...       1  \n1                Forest fire near La Ronge Sask. Canada       1  \n2     All residents asked to 'shelter in place' are ...       1  \n3     13,000 people receive #wildfires evacuation or...       1  \n4     Just got sent this photo from Ruby #Alaska as ...       1  \n...                                                 ...     ...  \n7608  Two giant cranes holding a bridge collapse int...       1  \n7609  @aria_ahrary @TheTawniest The out of control w...       1  \n7610  M1.94 [01:04 UTC]?5km S of Volcano Hawaii. htt...       1  \n7611  Police investigating after an e-bike collided ...       1  \n7612  The Latest: More Homes Razed by Northern Calif...       1  \n\n[7613 rows x 5 columns]",
      "text/html": "<div>\n<style scoped>\n    .dataframe tbody tr th:only-of-type {\n        vertical-align: middle;\n    }\n\n    .dataframe tbody tr th {\n        vertical-align: top;\n    }\n\n    .dataframe thead th {\n        text-align: right;\n    }\n</style>\n<table border=\"1\" class=\"dataframe\">\n  <thead>\n    <tr style=\"text-align: right;\">\n      <th></th>\n      <th>id</th>\n      <th>keyword</th>\n      <th>location</th>\n      <th>text</th>\n      <th>target</th>\n    </tr>\n  </thead>\n  <tbody>\n    <tr>\n      <th>0</th>\n      <td>1</td>\n      <td>NaN</td>\n      <td>NaN</td>\n      <td>Our Deeds are the Reason of this #earthquake M...</td>\n      <td>1</td>\n    </tr>\n    <tr>\n      <th>1</th>\n      <td>4</td>\n      <td>NaN</td>\n      <td>NaN</td>\n      <td>Forest fire near La Ronge Sask. Canada</td>\n      <td>1</td>\n    </tr>\n    <tr>\n      <th>2</th>\n      <td>5</td>\n      <td>NaN</td>\n      <td>NaN</td>\n      <td>All residents asked to 'shelter in place' are ...</td>\n      <td>1</td>\n    </tr>\n    <tr>\n      <th>3</th>\n      <td>6</td>\n      <td>NaN</td>\n      <td>NaN</td>\n      <td>13,000 people receive #wildfires evacuation or...</td>\n      <td>1</td>\n    </tr>\n    <tr>\n      <th>4</th>\n      <td>7</td>\n      <td>NaN</td>\n      <td>NaN</td>\n      <td>Just got sent this photo from Ruby #Alaska as ...</td>\n      <td>1</td>\n    </tr>\n    <tr>\n      <th>...</th>\n      <td>...</td>\n      <td>...</td>\n      <td>...</td>\n      <td>...</td>\n      <td>...</td>\n    </tr>\n    <tr>\n      <th>7608</th>\n      <td>10869</td>\n      <td>NaN</td>\n      <td>NaN</td>\n      <td>Two giant cranes holding a bridge collapse int...</td>\n      <td>1</td>\n    </tr>\n    <tr>\n      <th>7609</th>\n      <td>10870</td>\n      <td>NaN</td>\n      <td>NaN</td>\n      <td>@aria_ahrary @TheTawniest The out of control w...</td>\n      <td>1</td>\n    </tr>\n    <tr>\n      <th>7610</th>\n      <td>10871</td>\n      <td>NaN</td>\n      <td>NaN</td>\n      <td>M1.94 [01:04 UTC]?5km S of Volcano Hawaii. htt...</td>\n      <td>1</td>\n    </tr>\n    <tr>\n      <th>7611</th>\n      <td>10872</td>\n      <td>NaN</td>\n      <td>NaN</td>\n      <td>Police investigating after an e-bike collided ...</td>\n      <td>1</td>\n    </tr>\n    <tr>\n      <th>7612</th>\n      <td>10873</td>\n      <td>NaN</td>\n      <td>NaN</td>\n      <td>The Latest: More Homes Razed by Northern Calif...</td>\n      <td>1</td>\n    </tr>\n  </tbody>\n</table>\n<p>7613 rows × 5 columns</p>\n</div>"
     },
     "execution_count": 391,
     "metadata": {},
     "output_type": "execute_result"
    }
   ],
   "source": [
    "data"
   ]
  },
  {
   "cell_type": "code",
   "execution_count": 392,
   "metadata": {
    "id": "f49NdWY23HvL",
    "ExecuteTime": {
     "start_time": "2023-05-03T22:45:57.310328Z",
     "end_time": "2023-05-03T22:45:57.353214Z"
    }
   },
   "outputs": [],
   "source": [
    "from sklearn.model_selection import train_test_split\n",
    "\n",
    "train, test = train_test_split(data, test_size=0.3, random_state=42)"
   ]
  },
  {
   "cell_type": "markdown",
   "metadata": {
    "id": "YlLemInT3HvL"
   },
   "source": [
    "## Задание 1 (0.5 балла)\n",
    "\n",
    "Выведете на экран информацию о пропусках в данных. Если пропуски присутствуют заполните их пустой строкой."
   ]
  },
  {
   "cell_type": "code",
   "source": [
    "train_filled = train.fillna(\"\")\n",
    "test_filled = test.fillna(\"\")\n",
    "\n",
    "print(f'NaNs in train: {train_filled.isna().sum().sum()}')\n",
    "print(f'NaNs in test: {test_filled.isna().sum().sum()}')"
   ],
   "metadata": {
    "id": "96aJxmkV4105",
    "ExecuteTime": {
     "start_time": "2023-05-03T22:46:08.581862Z",
     "end_time": "2023-05-03T22:46:08.637877Z"
    }
   },
   "execution_count": 395,
   "outputs": [
    {
     "name": "stdout",
     "output_type": "stream",
     "text": [
      "NaNs in train: 0\n",
      "NaNs in test: 0\n"
     ]
    }
   ]
  },
  {
   "cell_type": "markdown",
   "metadata": {
    "id": "A8CPBUal3HvL"
   },
   "source": [
    "## Задание 2 (1 балл)\n",
    "Давайте немного посмотрим на наши данные. Визуализируйте (где явно просят) или выведете информацию о следующем:\n",
    "\n",
    "1. Какое распределение классов в обучающей выборке?\n"
   ]
  },
  {
   "cell_type": "code",
   "source": [
    "grouped_train = train_filled.groupby('target')['target'].agg(['count'])\n",
    "\n",
    "display(grouped_train)\n",
    "\n",
    "negative = grouped_train['count'][0]\n",
    "positive = grouped_train['count'][1]\n",
    "\n",
    "print(f'part of negatives: {negative / (negative + positive)}')\n",
    "print(f'part of positives: {positive / (negative + positive)}')"
   ],
   "metadata": {
    "id": "WvJ_EU9o5BGm",
    "ExecuteTime": {
     "start_time": "2023-05-03T22:46:12.832817Z",
     "end_time": "2023-05-03T22:46:12.859232Z"
    }
   },
   "execution_count": 396,
   "outputs": [
    {
     "data": {
      "text/plain": "        count\ntarget       \n0        3024\n1        2305",
      "text/html": "<div>\n<style scoped>\n    .dataframe tbody tr th:only-of-type {\n        vertical-align: middle;\n    }\n\n    .dataframe tbody tr th {\n        vertical-align: top;\n    }\n\n    .dataframe thead th {\n        text-align: right;\n    }\n</style>\n<table border=\"1\" class=\"dataframe\">\n  <thead>\n    <tr style=\"text-align: right;\">\n      <th></th>\n      <th>count</th>\n    </tr>\n    <tr>\n      <th>target</th>\n      <th></th>\n    </tr>\n  </thead>\n  <tbody>\n    <tr>\n      <th>0</th>\n      <td>3024</td>\n    </tr>\n    <tr>\n      <th>1</th>\n      <td>2305</td>\n    </tr>\n  </tbody>\n</table>\n</div>"
     },
     "metadata": {},
     "output_type": "display_data"
    },
    {
     "name": "stdout",
     "output_type": "stream",
     "text": [
      "part of negatives: 0.5674610621129668\n",
      "part of positives: 0.43253893788703324\n"
     ]
    }
   ]
  },
  {
   "cell_type": "markdown",
   "source": [
    "2. Посмотрите на колонку \"keyword\" - возьмите 10 наиболее встречающихся значений, постройте ступенчатую диаграмму распределения классов в зависимости от значения keyword, сделайте выводы."
   ],
   "metadata": {
    "id": "f08KScbP5q2y"
   }
  },
  {
   "cell_type": "code",
   "execution_count": 397,
   "outputs": [
    {
     "data": {
      "text/plain": "['damage',\n 'siren',\n 'wreckage',\n 'fatalities',\n 'deluge',\n 'refugees',\n 'derail',\n 'fear',\n 'tsunami',\n 'fatality']"
     },
     "execution_count": 397,
     "metadata": {},
     "output_type": "execute_result"
    }
   ],
   "source": [
    "most_frequent = train_filled['keyword'].value_counts()[1:11].index.tolist() # самой частой оказалась пустая строка\n",
    "most_frequent"
   ],
   "metadata": {
    "collapsed": false,
    "ExecuteTime": {
     "start_time": "2023-05-03T22:46:24.980210Z",
     "end_time": "2023-05-03T22:46:25.013122Z"
    }
   }
  },
  {
   "cell_type": "code",
   "execution_count": 398,
   "outputs": [
    {
     "data": {
      "text/plain": "keyword   target\n          0         12\n          1         32\nablaze    0         16\n          1          4\naccident  0          6\n                    ..\nwreck     0         21\n          1          4\nwreckage  1         34\nwrecked   0         25\n          1          1\nName: keyword, Length: 434, dtype: int64"
     },
     "execution_count": 398,
     "metadata": {},
     "output_type": "execute_result"
    }
   ],
   "source": [
    "group_by_keyword_and_target = train_filled.groupby(['keyword', 'target'])['keyword'].count()\n",
    "\n",
    "group_by_keyword_and_target"
   ],
   "metadata": {
    "collapsed": false,
    "ExecuteTime": {
     "start_time": "2023-05-03T22:46:28.887361Z",
     "end_time": "2023-05-03T22:46:28.994897Z"
    }
   }
  },
  {
   "cell_type": "code",
   "source": [
    "negatives = []\n",
    "positives = []\n",
    "\n",
    "index = group_by_keyword_and_target.loc\n",
    "\n",
    "for word in most_frequent:\n",
    "    try:\n",
    "        negatives.append(index[word][0])\n",
    "    except KeyError:\n",
    "        negatives.append(0)\n",
    "\n",
    "    try:\n",
    "        positives.append(index[word][1])\n",
    "    except KeyError:\n",
    "        positives.append(0)\n",
    "\n",
    "figure = plt.figure(figsize=(10, 4))\n",
    "\n",
    "plt.fill_between(most_frequent, negatives, step='mid', alpha=0.5)\n",
    "plt.fill_between(most_frequent, positives, step='mid', alpha=0.5)\n",
    "\n",
    "plt.step(\n",
    "    x=most_frequent,\n",
    "    y=negatives,\n",
    "    label='0',\n",
    "    where='mid',\n",
    ")\n",
    "\n",
    "plt.step(\n",
    "    x=most_frequent,\n",
    "    y=positives,\n",
    "    label='1',\n",
    "    where='mid'\n",
    ")\n",
    "\n",
    "plt.ylabel('Count')\n",
    "plt.xlabel('keyword')\n",
    "\n",
    "plt.tight_layout()\n",
    "plt.legend()\n",
    "\n",
    "plt.show()"
   ],
   "metadata": {
    "colab": {
     "base_uri": "https://localhost:8080/",
     "height": 372
    },
    "id": "r9wSwm4L9REm",
    "outputId": "3c6827d4-d35f-47ac-c756-6ab4740ed0b9",
    "ExecuteTime": {
     "start_time": "2023-05-03T22:46:35.419856Z",
     "end_time": "2023-05-03T22:46:36.553040Z"
    }
   },
   "execution_count": 399,
   "outputs": [
    {
     "data": {
      "text/plain": "<Figure size 1000x400 with 1 Axes>",
      "image/png": "[encoded data removed]"
     },
     "metadata": {},
     "output_type": "display_data"
    }
   ]
  },
  {
   "cell_type": "markdown",
   "source": [
    "**Выводы**:\n",
    "если твит содержит упоминание `wreckage` (крушение? обломки?), то как будто бы катастрофа 100% случилась, но скорее всего просто отрицательные классы не попали в выборку\n",
    "также можно заметить, что если твит содержит упоминание `siren`, `deluge` или `fear`, то маловероятно, что катастрофа настоящая. Сирены могут быть учебными, потопы могут быть от соседей :)\n",
    "В целом, еще можно заметить, что большинство твитов не содержат информацию о настоящей катастрофе\n",
    "\n",
    "а еще я ненавижу строить графики"
   ],
   "metadata": {
    "id": "l4al3g9E-P09"
   }
  },
  {
   "cell_type": "markdown",
   "metadata": {
    "id": "c006nNBP3HvM"
   },
   "source": [
    "## Задание 3 (0.5 балла) \n",
    "\n",
    "В этом задании предлагается объединить все три текстовых столбца в один (просто сконкатенировать cтроки) и убрать столбец с индексом."
   ]
  },
  {
   "cell_type": "code",
   "source": [
    "train_filled.loc[[6590, 7122, 2769]]"
   ],
   "metadata": {
    "colab": {
     "base_uri": "https://localhost:8080/",
     "height": 143
    },
    "id": "GdF9gFmL-c0r",
    "outputId": "ebe008b7-4d0e-4bc2-89f3-60a575c1b1fd",
    "ExecuteTime": {
     "start_time": "2023-05-03T22:48:50.921343Z",
     "end_time": "2023-05-03T22:48:50.942055Z"
    }
   },
   "execution_count": 400,
   "outputs": [
    {
     "data": {
      "text/plain": "         id          keyword      location  \\\n6590   9436        survivors  Marietta, GA   \n7122  10203  violent%20storm                 \n2769   3980      devastation  Atlanta g.a.   \n\n                                                   text  target  \n6590  Stemming from my #Cubs talk- the team rosters ...       1  \n7122  If you were the NWS wth a rotating storm w/ a ...       1  \n2769  http://t.co/Gxgm1T3W0J From Devastation to Ela...       0  ",
      "text/html": "<div>\n<style scoped>\n    .dataframe tbody tr th:only-of-type {\n        vertical-align: middle;\n    }\n\n    .dataframe tbody tr th {\n        vertical-align: top;\n    }\n\n    .dataframe thead th {\n        text-align: right;\n    }\n</style>\n<table border=\"1\" class=\"dataframe\">\n  <thead>\n    <tr style=\"text-align: right;\">\n      <th></th>\n      <th>id</th>\n      <th>keyword</th>\n      <th>location</th>\n      <th>text</th>\n      <th>target</th>\n    </tr>\n  </thead>\n  <tbody>\n    <tr>\n      <th>6590</th>\n      <td>9436</td>\n      <td>survivors</td>\n      <td>Marietta, GA</td>\n      <td>Stemming from my #Cubs talk- the team rosters ...</td>\n      <td>1</td>\n    </tr>\n    <tr>\n      <th>7122</th>\n      <td>10203</td>\n      <td>violent%20storm</td>\n      <td></td>\n      <td>If you were the NWS wth a rotating storm w/ a ...</td>\n      <td>1</td>\n    </tr>\n    <tr>\n      <th>2769</th>\n      <td>3980</td>\n      <td>devastation</td>\n      <td>Atlanta g.a.</td>\n      <td>http://t.co/Gxgm1T3W0J From Devastation to Ela...</td>\n      <td>0</td>\n    </tr>\n  </tbody>\n</table>\n</div>"
     },
     "execution_count": 400,
     "metadata": {},
     "output_type": "execute_result"
    }
   ]
  },
  {
   "cell_type": "code",
   "source": [
    "train_new = pd.DataFrame()\n",
    "train_new['text'] = train_filled[['keyword', 'location', 'text']].agg(' '.join, axis=1)\n",
    "train_new['target'] = train_filled['target']\n",
    "\n",
    "train_new"
   ],
   "metadata": {
    "id": "lwwJKX_l-eoh",
    "ExecuteTime": {
     "start_time": "2023-05-03T22:48:55.268666Z",
     "end_time": "2023-05-03T22:48:55.324907Z"
    }
   },
   "execution_count": 401,
   "outputs": [
    {
     "data": {
      "text/plain": "                                                   text  target\n1186  bridge%20collapse  Ashes 2015: AustraliaÛªs c...       0\n4071  hail Carol Stream, Illinois GREAT MICHIGAN TEC...       1\n5461  police Houston  CNN: Tennessee movie theater s...       1\n5787  rioting  Still rioting in a couple of hours le...       1\n7445  wounds Lake Highlands Crack in the path where ...       0\n...                                                 ...     ...\n5226  obliteration Merica! @Eganator2000 There aren'...       0\n5390  panic  just had a panic attack bc I don't have...       0\n860   blood  Omron HEM-712C Automatic Blood Pressure...       0\n7603    Officials say a quarantine is in place at an...       1\n7270  whirlwind Stamford & Cork (& Shropshire) I mov...       1\n\n[5329 rows x 2 columns]",
      "text/html": "<div>\n<style scoped>\n    .dataframe tbody tr th:only-of-type {\n        vertical-align: middle;\n    }\n\n    .dataframe tbody tr th {\n        vertical-align: top;\n    }\n\n    .dataframe thead th {\n        text-align: right;\n    }\n</style>\n<table border=\"1\" class=\"dataframe\">\n  <thead>\n    <tr style=\"text-align: right;\">\n      <th></th>\n      <th>text</th>\n      <th>target</th>\n    </tr>\n  </thead>\n  <tbody>\n    <tr>\n      <th>1186</th>\n      <td>bridge%20collapse  Ashes 2015: AustraliaÛªs c...</td>\n      <td>0</td>\n    </tr>\n    <tr>\n      <th>4071</th>\n      <td>hail Carol Stream, Illinois GREAT MICHIGAN TEC...</td>\n      <td>1</td>\n    </tr>\n    <tr>\n      <th>5461</th>\n      <td>police Houston  CNN: Tennessee movie theater s...</td>\n      <td>1</td>\n    </tr>\n    <tr>\n      <th>5787</th>\n      <td>rioting  Still rioting in a couple of hours le...</td>\n      <td>1</td>\n    </tr>\n    <tr>\n      <th>7445</th>\n      <td>wounds Lake Highlands Crack in the path where ...</td>\n      <td>0</td>\n    </tr>\n    <tr>\n      <th>...</th>\n      <td>...</td>\n      <td>...</td>\n    </tr>\n    <tr>\n      <th>5226</th>\n      <td>obliteration Merica! @Eganator2000 There aren'...</td>\n      <td>0</td>\n    </tr>\n    <tr>\n      <th>5390</th>\n      <td>panic  just had a panic attack bc I don't have...</td>\n      <td>0</td>\n    </tr>\n    <tr>\n      <th>860</th>\n      <td>blood  Omron HEM-712C Automatic Blood Pressure...</td>\n      <td>0</td>\n    </tr>\n    <tr>\n      <th>7603</th>\n      <td>Officials say a quarantine is in place at an...</td>\n      <td>1</td>\n    </tr>\n    <tr>\n      <th>7270</th>\n      <td>whirlwind Stamford &amp; Cork (&amp; Shropshire) I mov...</td>\n      <td>1</td>\n    </tr>\n  </tbody>\n</table>\n<p>5329 rows × 2 columns</p>\n</div>"
     },
     "execution_count": 401,
     "metadata": {},
     "output_type": "execute_result"
    }
   ]
  },
  {
   "cell_type": "code",
   "source": [
    "train_new.loc[[6590, 7122, 2769]]"
   ],
   "metadata": {
    "colab": {
     "base_uri": "https://localhost:8080/",
     "height": 143
    },
    "id": "jk7P70XX_CpT",
    "outputId": "5cf01b29-8ada-46d7-f7ee-74e7aed37996",
    "ExecuteTime": {
     "start_time": "2023-05-03T22:48:56.200885Z",
     "end_time": "2023-05-03T22:48:56.223337Z"
    }
   },
   "execution_count": 402,
   "outputs": [
    {
     "data": {
      "text/plain": "                                                   text  target\n6590  survivors Marietta, GA Stemming from my #Cubs ...       1\n7122  violent%20storm  If you were the NWS wth a rot...       1\n2769  devastation Atlanta g.a. http://t.co/Gxgm1T3W0...       0",
      "text/html": "<div>\n<style scoped>\n    .dataframe tbody tr th:only-of-type {\n        vertical-align: middle;\n    }\n\n    .dataframe tbody tr th {\n        vertical-align: top;\n    }\n\n    .dataframe thead th {\n        text-align: right;\n    }\n</style>\n<table border=\"1\" class=\"dataframe\">\n  <thead>\n    <tr style=\"text-align: right;\">\n      <th></th>\n      <th>text</th>\n      <th>target</th>\n    </tr>\n  </thead>\n  <tbody>\n    <tr>\n      <th>6590</th>\n      <td>survivors Marietta, GA Stemming from my #Cubs ...</td>\n      <td>1</td>\n    </tr>\n    <tr>\n      <th>7122</th>\n      <td>violent%20storm  If you were the NWS wth a rot...</td>\n      <td>1</td>\n    </tr>\n    <tr>\n      <th>2769</th>\n      <td>devastation Atlanta g.a. http://t.co/Gxgm1T3W0...</td>\n      <td>0</td>\n    </tr>\n  </tbody>\n</table>\n</div>"
     },
     "execution_count": 402,
     "metadata": {},
     "output_type": "execute_result"
    }
   ]
  },
  {
   "cell_type": "markdown",
   "metadata": {
    "id": "ViXdGTxP3HvM"
   },
   "source": [
    "## Задание 4 (0.5 балла)\n",
    "\n",
    "Далее мы будем пока работать только с train частью.\n",
    "\n",
    "1. Предобработайте данные (train часть) с помощью CountVectorizer.\n",
    "2. Какого размера получилась матрица?\n"
   ]
  },
  {
   "cell_type": "code",
   "source": [
    "from sklearn.feature_extraction.text import CountVectorizer\n",
    "\n",
    "vectorizer = CountVectorizer()\n",
    "X = vectorizer.fit_transform(train_new.text)"
   ],
   "metadata": {
    "id": "oB1MTqUVAbPA",
    "ExecuteTime": {
     "start_time": "2023-05-03T22:48:58.820140Z",
     "end_time": "2023-05-03T22:48:58.943446Z"
    }
   },
   "execution_count": 403,
   "outputs": []
  },
  {
   "cell_type": "code",
   "execution_count": 404,
   "outputs": [
    {
     "data": {
      "text/plain": "<5329x18455 sparse matrix of type '<class 'numpy.int64'>'\n\twith 86671 stored elements in Compressed Sparse Row format>"
     },
     "execution_count": 404,
     "metadata": {},
     "output_type": "execute_result"
    }
   ],
   "source": [
    "X"
   ],
   "metadata": {
    "collapsed": false,
    "ExecuteTime": {
     "start_time": "2023-05-03T22:49:05.673301Z",
     "end_time": "2023-05-03T22:49:05.683310Z"
    }
   }
  },
  {
   "cell_type": "markdown",
   "metadata": {
    "id": "A4waLlnC3HvM"
   },
   "source": [
    "## Задание 5 (1 балл)\n",
    "\n",
    "В предыдущем пункте у вас должна была получиться достаточно большая матрица.\n",
    "Если вы взгляните на текст, то увидете, что там есть множество специальных символов, ссылок и прочего мусора.\n",
    "\n",
    "Давайте также посмотрим на словарь, который получился в результате построения CountVectorizer, его можно найти в поле vocabulary_ инстанса этого класса. Давайте напишем функцию, которая печает ответы на следующие вопросы:\n",
    "\n",
    "1. Найдите в этом словаре все слова, которые содержат цифры. Сколько таких слов нашлось?\n",
    "\n",
    "2. Найдите все слова, которые содержат символы пунктуации. Сколько таких слов нашлось? \n",
    "\n",
    "3. Сколько хэштегов (токен начинается на #) и упоминаний (токен начинается на @) осталось в словаре?"
   ]
  },
  {
   "cell_type": "code",
   "execution_count": 405,
   "outputs": [],
   "source": [
    "import re\n",
    "from string import punctuation"
   ],
   "metadata": {
    "collapsed": false,
    "ExecuteTime": {
     "start_time": "2023-05-03T22:49:11.633171Z",
     "end_time": "2023-05-03T22:49:11.675487Z"
    }
   }
  },
  {
   "cell_type": "code",
   "source": [
    "punctuation_set = set(punctuation)\n",
    "\n",
    "def contains_digit(s: str) -> bool:\n",
    "    return any(char.isdigit() for char in s)\n",
    "\n",
    "def contains_punctuation(s: str) -> bool:\n",
    "    return any(char in punctuation_set for char in s)\n",
    "\n",
    "def is_hashtag(s: str) -> bool:\n",
    "    return len(s) != 0 and s[0] == '#'\n",
    "\n",
    "def is_mention(s: str) -> bool:\n",
    "    return len(s) != 0 and s[0] == '@'\n",
    "\n",
    "def investigate_vocabulary(vocabulary):\n",
    "    # -- YOUR CODE HERE --\n",
    "    print('With digit:      ', sum([contains_digit(s) for s in vocabulary.keys()]))\n",
    "\n",
    "    print('With punctuation:', sum([contains_punctuation(s) for s in vocabulary.keys()]))\n",
    "\n",
    "    print('Hashtags:        ', sum([is_hashtag(s) for s in vocabulary.keys()]))\n",
    "\n",
    "    print('Mentions:        ', sum([is_mention(s) for s in vocabulary.keys()]))\n",
    "\n",
    "\n"
   ],
   "metadata": {
    "id": "7PhQSWqcHhU8",
    "ExecuteTime": {
     "start_time": "2023-05-03T22:50:11.556259Z",
     "end_time": "2023-05-03T22:50:11.573275Z"
    }
   },
   "execution_count": 409,
   "outputs": []
  },
  {
   "cell_type": "code",
   "source": [
    "dummy_vocab = {'th1nk' : 0,\n",
    "               'think333' : 1,\n",
    "               'think.' : 2,\n",
    "               'th!nk' : 3,\n",
    "               'th...nk' : 4,\n",
    "               '#think' : 5,\n",
    "               '@think' : 6,\n",
    "               '@thinking':7,\n",
    "               '@nothink' : 8,\n",
    "               'think' : 9}\n",
    "investigate_vocabulary(dummy_vocab)"
   ],
   "metadata": {
    "colab": {
     "base_uri": "https://localhost:8080/"
    },
    "id": "s8hL5ZcQIdp6",
    "outputId": "c8b50455-38f2-455d-c9f6-96b03a7e09ce",
    "ExecuteTime": {
     "start_time": "2023-05-03T22:50:12.103945Z",
     "end_time": "2023-05-03T22:50:12.112921Z"
    }
   },
   "execution_count": 410,
   "outputs": [
    {
     "name": "stdout",
     "output_type": "stream",
     "text": [
      "With digit:       2\n",
      "With punctuation: 7\n",
      "Hashtags:         1\n",
      "Mentions:         3\n"
     ]
    }
   ]
  },
  {
   "cell_type": "code",
   "source": [
    "investigate_vocabulary(vectorizer.vocabulary_)"
   ],
   "metadata": {
    "id": "VpW8R_SuKR_l",
    "ExecuteTime": {
     "start_time": "2023-05-03T22:50:12.705928Z",
     "end_time": "2023-05-03T22:50:12.785989Z"
    }
   },
   "execution_count": 411,
   "outputs": [
    {
     "name": "stdout",
     "output_type": "stream",
     "text": [
      "With digit:       3812\n",
      "With punctuation: 315\n",
      "Hashtags:         0\n",
      "Mentions:         0\n"
     ]
    }
   ]
  },
  {
   "cell_type": "markdown",
   "metadata": {
    "id": "bfNLaxX93HvM"
   },
   "source": [
    "## Задание 6 (0.5 балла)\n",
    "\n",
    "Вспомним, что на семинаре по текстам мы узнали, что в nltk есть специальный токенизатор для текстов - TweetTokenizer. Попробуем применить CountVectorizer с этим токенизатором. Ответьте на все вопросы из предыдущего пункта для TweetTokenizer и сравните результаты."
   ]
  },
  {
   "cell_type": "code",
   "execution_count": 412,
   "metadata": {
    "id": "xnlRoXUS3HvM",
    "ExecuteTime": {
     "start_time": "2023-05-03T22:50:16.531320Z",
     "end_time": "2023-05-03T22:50:16.552270Z"
    }
   },
   "outputs": [],
   "source": [
    "from nltk.tokenize import TweetTokenizer\n",
    "# Чтобы узнать, какие параметры есть у этого токенайзера - используйте help(TweetTokenizer)\n",
    "# Для того, чтобы передать токенайзер в CountVectorizer используйте параметр tokenizer"
   ]
  },
  {
   "cell_type": "code",
   "source": [
    "def tokenizer(text):\n",
    "    tok = TweetTokenizer()\n",
    "    return tok.tokenize(text)\n",
    "\n",
    "tweet_vectorizer = CountVectorizer(tokenizer=tokenizer)\n",
    "\n",
    "tweet_X = tweet_vectorizer.fit_transform(train_new.text)\n",
    "\n",
    "tweet_X"
   ],
   "metadata": {
    "id": "8lPMIf6UKccT",
    "ExecuteTime": {
     "start_time": "2023-05-03T22:50:17.241928Z",
     "end_time": "2023-05-03T22:50:18.227362Z"
    }
   },
   "execution_count": 413,
   "outputs": [
    {
     "name": "stderr",
     "output_type": "stream",
     "text": [
      "C:\\Users\\user\\lib\\site-packages\\sklearn\\feature_extraction\\text.py:528: UserWarning: The parameter 'token_pattern' will not be used since 'tokenizer' is not None'\n",
      "  warnings.warn(\n"
     ]
    },
    {
     "data": {
      "text/plain": "<5329x19670 sparse matrix of type '<class 'numpy.int64'>'\n\twith 94563 stored elements in Compressed Sparse Row format>"
     },
     "execution_count": 413,
     "metadata": {},
     "output_type": "execute_result"
    }
   ]
  },
  {
   "cell_type": "code",
   "source": [
    "investigate_vocabulary(tweet_vectorizer.vocabulary_)"
   ],
   "metadata": {
    "id": "7oR5kNKVLLpm",
    "ExecuteTime": {
     "start_time": "2023-05-03T18:53:06.407397Z",
     "end_time": "2023-05-03T18:53:06.451098Z"
    }
   },
   "execution_count": 279,
   "outputs": [
    {
     "name": "stdout",
     "output_type": "stream",
     "text": [
      "With digit:       3939\n",
      "With punctuation: 7338\n",
      "Hashtags:         1470\n",
      "Mentions:         1679\n"
     ]
    }
   ]
  },
  {
   "cell_type": "markdown",
   "source": [
    "**Сравнение:** `TweeTokenizer` нашёл всего больше)) в случае с хэштегами и упоминаниями, скорее всего в одном токене с ними есть еще обычный текст перемешаны с обычным текстом в одном токене"
   ],
   "metadata": {
    "id": "Wetr80-ILULV"
   }
  },
  {
   "cell_type": "markdown",
   "metadata": {
    "id": "6_k_-i1x3HvM"
   },
   "source": [
    "## Задание 7 (2 балла)\n",
    "\n",
    "В scikit-learn мы можем оценивать процесс подсчета матрицы через CountVectorizer. У CountVectorizer, как и у других наследников \\_VectorizerMixin, есть аргумент tokenizer и preprocessor. preprocessor применится в самом начале к каждой строке вашего датасета, tokenizer же должен принять строку и вернуть токены.\n",
    "Давайте напишем кастомный токенайзер, которые сделает все, что нам нужно: \n",
    "\n",
    "0. Приведет все буквы к нижнему регистру\n",
    "1. Разобьет текст на токены с помощью TweetTokenizer из пакета nltk\n",
    "2. Удалит все токены содержащие не латинские буквы, кроме смайликов (будем считать ими токены содержащие только пунктуацию и, как минимум, одну скобочку) и хэштегов, которые после начальной # содержат только латинские буквы.\n",
    "3. Удалит все токены, которые перечислены в nltk.corpus.stopwords.words('english')\n",
    "4. Проведет стемминг с помощью SnowballStemmer\n",
    "\n"
   ]
  },
  {
   "cell_type": "code",
   "execution_count": 443,
   "outputs": [
    {
     "data": {
      "text/plain": "['i',\n 'me',\n 'my',\n 'myself',\n 'we',\n 'our',\n 'ours',\n 'ourselves',\n 'you',\n \"you're\",\n \"you've\",\n \"you'll\",\n \"you'd\",\n 'your',\n 'yours',\n 'yourself',\n 'yourselves',\n 'he',\n 'him',\n 'his',\n 'himself',\n 'she',\n \"she's\",\n 'her',\n 'hers',\n 'herself',\n 'it',\n \"it's\",\n 'its',\n 'itself',\n 'they',\n 'them',\n 'their',\n 'theirs',\n 'themselves',\n 'what',\n 'which',\n 'who',\n 'whom',\n 'this',\n 'that',\n \"that'll\",\n 'these',\n 'those',\n 'am',\n 'is',\n 'are',\n 'was',\n 'were',\n 'be',\n 'been',\n 'being',\n 'have',\n 'has',\n 'had',\n 'having',\n 'do',\n 'does',\n 'did',\n 'doing',\n 'a',\n 'an',\n 'the',\n 'and',\n 'but',\n 'if',\n 'or',\n 'because',\n 'as',\n 'until',\n 'while',\n 'of',\n 'at',\n 'by',\n 'for',\n 'with',\n 'about',\n 'against',\n 'between',\n 'into',\n 'through',\n 'during',\n 'before',\n 'after',\n 'above',\n 'below',\n 'to',\n 'from',\n 'up',\n 'down',\n 'in',\n 'out',\n 'on',\n 'off',\n 'over',\n 'under',\n 'again',\n 'further',\n 'then',\n 'once',\n 'here',\n 'there',\n 'when',\n 'where',\n 'why',\n 'how',\n 'all',\n 'any',\n 'both',\n 'each',\n 'few',\n 'more',\n 'most',\n 'other',\n 'some',\n 'such',\n 'no',\n 'nor',\n 'not',\n 'only',\n 'own',\n 'same',\n 'so',\n 'than',\n 'too',\n 'very',\n 's',\n 't',\n 'can',\n 'will',\n 'just',\n 'don',\n \"don't\",\n 'should',\n \"should've\",\n 'now',\n 'd',\n 'll',\n 'm',\n 'o',\n 're',\n 've',\n 'y',\n 'ain',\n 'aren',\n \"aren't\",\n 'couldn',\n \"couldn't\",\n 'didn',\n \"didn't\",\n 'doesn',\n \"doesn't\",\n 'hadn',\n \"hadn't\",\n 'hasn',\n \"hasn't\",\n 'haven',\n \"haven't\",\n 'isn',\n \"isn't\",\n 'ma',\n 'mightn',\n \"mightn't\",\n 'mustn',\n \"mustn't\",\n 'needn',\n \"needn't\",\n 'shan',\n \"shan't\",\n 'shouldn',\n \"shouldn't\",\n 'wasn',\n \"wasn't\",\n 'weren',\n \"weren't\",\n 'won',\n \"won't\",\n 'wouldn',\n \"wouldn't\"]"
     },
     "execution_count": 443,
     "metadata": {},
     "output_type": "execute_result"
    }
   ],
   "source": [
    "import nltk\n",
    "from nltk.corpus import stopwords\n",
    "from nltk.stem.snowball import SnowballStemmer\n",
    "\n",
    "nltk.download(\"stopwords\", quiet=True)\n",
    "stopwords.words(\"english\")"
   ],
   "metadata": {
    "collapsed": false,
    "ExecuteTime": {
     "start_time": "2023-05-03T22:55:34.406199Z",
     "end_time": "2023-05-03T22:55:34.433131Z"
    }
   }
  },
  {
   "cell_type": "code",
   "source": [
    "stopwords = set(stopwords.words('english'))\n",
    "\n",
    "def contains_only_latin_letters(s: str) -> bool:\n",
    "    return all(char.isalpha() and char.isascii() for char in s)\n",
    "\n",
    "def is_emoji(s: str) -> bool:\n",
    "    bracket_counter = 0\n",
    "\n",
    "    for char in s:\n",
    "        if char == ')' or char == '(':\n",
    "            bracket_counter += 1\n",
    "        elif char not in punctuation_set:\n",
    "            return False\n",
    "\n",
    "    return bracket_counter > 0\n",
    "\n",
    "def is_hashtag(s: str) -> bool:\n",
    "    return len(s) > 1 and s[0] == '#' and all(char.isalpha() for char in s[1:])\n",
    "\n",
    "def custom_tokenizer(s: str) -> List[str]:\n",
    "    stemmer = SnowballStemmer('english')\n",
    "    tokenizer = TweetTokenizer()\n",
    "    tokenized_str = tokenizer.tokenize(s.lower())\n",
    "\n",
    "    result = []\n",
    "    for token in tokenized_str:\n",
    "        if token not in stopwords and (contains_only_latin_letters(token) or is_emoji(token) or is_hashtag(token)):\n",
    "            result.append(stemmer.stem(token))\n",
    "\n",
    "    return result\n"
   ],
   "metadata": {
    "id": "qhwmi7DEMD25",
    "ExecuteTime": {
     "start_time": "2023-05-03T22:55:34.582455Z",
     "end_time": "2023-05-03T22:55:34.611068Z"
    }
   },
   "execution_count": 444,
   "outputs": []
  },
  {
   "cell_type": "code",
   "source": [
    "custom_tokenizer('She LOVES painting :-) #art')"
   ],
   "metadata": {
    "colab": {
     "base_uri": "https://localhost:8080/"
    },
    "id": "vYzPZzf8O6vj",
    "outputId": "b1107f8a-eef7-49f7-8ed3-910be791d645",
    "ExecuteTime": {
     "start_time": "2023-05-03T22:55:34.739195Z",
     "end_time": "2023-05-03T22:55:34.784270Z"
    }
   },
   "execution_count": 445,
   "outputs": [
    {
     "data": {
      "text/plain": "['love', 'paint', ':-)', '#art']"
     },
     "execution_count": 445,
     "metadata": {},
     "output_type": "execute_result"
    }
   ]
  },
  {
   "cell_type": "markdown",
   "source": [
    "Продемонстрируйте работу вашей функции на первых десяти текстах в обучающей выборке."
   ],
   "metadata": {
    "id": "2S_-ThAf5It4"
   }
  },
  {
   "cell_type": "code",
   "source": [
    "for i in range(0, 10):\n",
    "    text = train_new['text'].iloc[i]\n",
    "    print(custom_tokenizer(text))"
   ],
   "metadata": {
    "id": "A1fh3_itPz7D",
    "ExecuteTime": {
     "start_time": "2023-05-03T22:55:35.062131Z",
     "end_time": "2023-05-03T22:55:35.115007Z"
    }
   },
   "execution_count": 446,
   "outputs": [
    {
     "name": "stdout",
     "output_type": "stream",
     "text": [
      "['bridg', 'ash', 'australia', 'collaps', 'trent', 'bridg', 'among', 'worst', 'histori', 'england', 'bundl', 'australia']\n",
      "['hail', 'carol', 'stream', 'illinoi', 'great', 'michigan', 'techniqu', 'camp', 'thank', '#goblu', '#wrestleon']\n",
      "['polic', 'houston', 'cnn', 'tennesse', 'movi', 'theater', 'shoot', 'suspect', 'kill', 'polic']\n",
      "['riot', 'still', 'riot', 'coupl', 'hour', 'left', 'class']\n",
      "['wound', 'lake', 'highland', 'crack', 'path', 'wipe', 'morn', 'beach', 'run', 'surfac', 'wound', 'left', 'elbow', 'right', 'knee']\n",
      "['airplan', 'somewher', 'expert', 'franc', 'begin', 'examin', 'airplan', 'debri', 'found', 'reunion', 'island', 'french', 'air', 'accid', 'expert', '#mlb']\n",
      "['bloodi', 'isol', 'citi', 'world', 'perth', 'came', 'kill', 'indian', 'fun', 'video', 'smirk', 'remorseless', 'pakistani', 'killer', 'show', 'boast']\n",
      "['burn', 'except', 'idk', 'realli', 'burn']\n",
      "['destroy', '(', 'ask', ')', 'destroy', 'hous']\n",
      "['wound', 'maracay', 'nirgua', 'venezuela', 'polic', 'offic', 'wound', 'suspect', 'dead', 'exchang', 'shot']\n"
     ]
    }
   ]
  },
  {
   "cell_type": "markdown",
   "metadata": {
    "id": "a5lNZ4tb3HvN"
   },
   "source": [
    "## Задание 8 (1 балл)\n",
    "\n",
    "1. Примените CountVectorizer с реализованным выше токенизатором к обучающим и тестовым выборкам.\n"
   ]
  },
  {
   "cell_type": "code",
   "execution_count": 447,
   "outputs": [
    {
     "data": {
      "text/plain": "                                                   text  target\n2644  destruction  So you have a new weapon that can...       1\n2227  deluge  The f$&amp;@ing things I do for #GISHW...       0\n5448  police UK DT @georgegalloway: RT @Galloway4May...       1\n132   aftershock  Aftershock back to school kick off...       0\n6845  trauma Montgomery County, MD in response to tr...       0\n...                                                 ...     ...\n4307  hellfire 570 Vanderbilt; Brooklyn, NY New cock...       0\n3375  evacuation USA Bend Post Office roofers cut ga...       1\n1710  collided  Monsoon flooding - Monsoon rains hav...       1\n4898  massacre Ireland Remember this was a massacre ...       1\n6753  tornado Asheville, NC I liked a @YouTube video...       1\n\n[2284 rows x 2 columns]",
      "text/html": "<div>\n<style scoped>\n    .dataframe tbody tr th:only-of-type {\n        vertical-align: middle;\n    }\n\n    .dataframe tbody tr th {\n        vertical-align: top;\n    }\n\n    .dataframe thead th {\n        text-align: right;\n    }\n</style>\n<table border=\"1\" class=\"dataframe\">\n  <thead>\n    <tr style=\"text-align: right;\">\n      <th></th>\n      <th>text</th>\n      <th>target</th>\n    </tr>\n  </thead>\n  <tbody>\n    <tr>\n      <th>2644</th>\n      <td>destruction  So you have a new weapon that can...</td>\n      <td>1</td>\n    </tr>\n    <tr>\n      <th>2227</th>\n      <td>deluge  The f$&amp;amp;@ing things I do for #GISHW...</td>\n      <td>0</td>\n    </tr>\n    <tr>\n      <th>5448</th>\n      <td>police UK DT @georgegalloway: RT @Galloway4May...</td>\n      <td>1</td>\n    </tr>\n    <tr>\n      <th>132</th>\n      <td>aftershock  Aftershock back to school kick off...</td>\n      <td>0</td>\n    </tr>\n    <tr>\n      <th>6845</th>\n      <td>trauma Montgomery County, MD in response to tr...</td>\n      <td>0</td>\n    </tr>\n    <tr>\n      <th>...</th>\n      <td>...</td>\n      <td>...</td>\n    </tr>\n    <tr>\n      <th>4307</th>\n      <td>hellfire 570 Vanderbilt; Brooklyn, NY New cock...</td>\n      <td>0</td>\n    </tr>\n    <tr>\n      <th>3375</th>\n      <td>evacuation USA Bend Post Office roofers cut ga...</td>\n      <td>1</td>\n    </tr>\n    <tr>\n      <th>1710</th>\n      <td>collided  Monsoon flooding - Monsoon rains hav...</td>\n      <td>1</td>\n    </tr>\n    <tr>\n      <th>4898</th>\n      <td>massacre Ireland Remember this was a massacre ...</td>\n      <td>1</td>\n    </tr>\n    <tr>\n      <th>6753</th>\n      <td>tornado Asheville, NC I liked a @YouTube video...</td>\n      <td>1</td>\n    </tr>\n  </tbody>\n</table>\n<p>2284 rows × 2 columns</p>\n</div>"
     },
     "execution_count": 447,
     "metadata": {},
     "output_type": "execute_result"
    }
   ],
   "source": [
    "test_new = pd.DataFrame()\n",
    "test_new['text'] = test_filled[['keyword', 'location', 'text']].agg(' '.join, axis=1)\n",
    "test_new['target'] = test_filled['target']\n",
    "\n",
    "test_new"
   ],
   "metadata": {
    "collapsed": false,
    "ExecuteTime": {
     "start_time": "2023-05-03T22:55:35.512124Z",
     "end_time": "2023-05-03T22:55:35.563784Z"
    }
   }
  },
  {
   "cell_type": "code",
   "source": [
    "vectorizer = CountVectorizer(tokenizer=custom_tokenizer)\n",
    "\n",
    "tokenized_train = vectorizer.fit_transform(train_new.text)\n",
    "tokenized_test = vectorizer.transform(test_new.text)\n",
    "\n",
    "display(tokenized_train)\n",
    "display(tokenized_test)"
   ],
   "metadata": {
    "id": "LDqixz7QQEbn",
    "ExecuteTime": {
     "start_time": "2023-05-03T22:55:35.774870Z",
     "end_time": "2023-05-03T22:55:39.345795Z"
    }
   },
   "execution_count": 448,
   "outputs": [
    {
     "name": "stderr",
     "output_type": "stream",
     "text": [
      "C:\\Users\\user\\lib\\site-packages\\sklearn\\feature_extraction\\text.py:528: UserWarning: The parameter 'token_pattern' will not be used since 'tokenizer' is not None'\n",
      "  warnings.warn(\n"
     ]
    },
    {
     "data": {
      "text/plain": "<5329x10485 sparse matrix of type '<class 'numpy.int64'>'\n\twith 50925 stored elements in Compressed Sparse Row format>"
     },
     "metadata": {},
     "output_type": "display_data"
    },
    {
     "data": {
      "text/plain": "<2284x10485 sparse matrix of type '<class 'numpy.int64'>'\n\twith 19275 stored elements in Compressed Sparse Row format>"
     },
     "metadata": {},
     "output_type": "display_data"
    }
   ]
  },
  {
   "cell_type": "markdown",
   "source": [
    "2. Обучите LogisticRegression на полученных признаках.\n"
   ],
   "metadata": {
    "id": "YcetwuEi5ds9"
   }
  },
  {
   "cell_type": "code",
   "source": [
    "from sklearn.linear_model import LogisticRegression\n",
    "\n",
    "Y_train = train_new['target']\n",
    "Y_test = test_new['target']\n",
    "\n",
    "logreg = LogisticRegression(random_state=42).fit(tokenized_train, Y_train)\n",
    "\n",
    "prediction = logreg.predict(tokenized_test)"
   ],
   "metadata": {
    "id": "BVj03QV2QbWl",
    "ExecuteTime": {
     "start_time": "2023-05-03T22:55:39.352781Z",
     "end_time": "2023-05-03T22:55:39.532573Z"
    }
   },
   "execution_count": 449,
   "outputs": []
  },
  {
   "cell_type": "markdown",
   "source": [
    "3. Посчитайте метрику f1-score на тестовых данных."
   ],
   "metadata": {
    "id": "6Ch6uz2P5e-T"
   }
  },
  {
   "cell_type": "code",
   "source": [
    "from sklearn.metrics import f1_score\n",
    "\n",
    "print(f'F1 score: {f1_score(Y_test, prediction)}')"
   ],
   "metadata": {
    "colab": {
     "base_uri": "https://localhost:8080/"
    },
    "id": "osyC0pdT3cSD",
    "outputId": "cd957d5f-5118-4b7f-d7ba-01bb5a524086",
    "ExecuteTime": {
     "start_time": "2023-05-03T22:55:39.524594Z",
     "end_time": "2023-05-03T22:55:39.537559Z"
    }
   },
   "execution_count": 450,
   "outputs": [
    {
     "name": "stdout",
     "output_type": "stream",
     "text": [
      "F1 score: 0.7533584094572812\n"
     ]
    }
   ]
  },
  {
   "cell_type": "markdown",
   "metadata": {
    "id": "aFIEYOMZ3HvN"
   },
   "source": [
    "## Задание 9 (1 балл)\n",
    "\n",
    "1. Повторите 8 задание, но с tf-idf векторизатором. Как изменилось качество?\n"
   ]
  },
  {
   "cell_type": "code",
   "source": [
    "from sklearn.feature_extraction.text import TfidfVectorizer\n",
    "\n",
    "tf_idf_vectorizer = TfidfVectorizer(tokenizer=custom_tokenizer)\n",
    "\n",
    "tf_idf_train = tf_idf_vectorizer.fit_transform(train_new.text)\n",
    "tf_idf_test = tf_idf_vectorizer.transform(test_new.text)\n",
    "\n",
    "display(tf_idf_train)\n",
    "display(tf_idf_test)"
   ],
   "metadata": {
    "colab": {
     "base_uri": "https://localhost:8080/"
    },
    "id": "cDqs61hl3ve3",
    "outputId": "fdd72125-dfde-4183-d614-3b0bc9002ada",
    "ExecuteTime": {
     "start_time": "2023-05-03T22:55:39.540552Z",
     "end_time": "2023-05-03T22:55:42.678916Z"
    }
   },
   "execution_count": 451,
   "outputs": [
    {
     "name": "stderr",
     "output_type": "stream",
     "text": [
      "C:\\Users\\user\\lib\\site-packages\\sklearn\\feature_extraction\\text.py:528: UserWarning: The parameter 'token_pattern' will not be used since 'tokenizer' is not None'\n",
      "  warnings.warn(\n"
     ]
    },
    {
     "data": {
      "text/plain": "<5329x10485 sparse matrix of type '<class 'numpy.float64'>'\n\twith 50925 stored elements in Compressed Sparse Row format>"
     },
     "metadata": {},
     "output_type": "display_data"
    },
    {
     "data": {
      "text/plain": "<2284x10485 sparse matrix of type '<class 'numpy.float64'>'\n\twith 19275 stored elements in Compressed Sparse Row format>"
     },
     "metadata": {},
     "output_type": "display_data"
    }
   ]
  },
  {
   "cell_type": "code",
   "execution_count": 452,
   "outputs": [
    {
     "name": "stdout",
     "output_type": "stream",
     "text": [
      "F1 score: 0.7429205996668518\n"
     ]
    }
   ],
   "source": [
    "tf_idf_logreg = LogisticRegression(random_state=42).fit(tf_idf_train, Y_train)\n",
    "\n",
    "prediction = tf_idf_logreg.predict(tf_idf_test)\n",
    "\n",
    "print(f'F1 score: {f1_score(Y_test, prediction)}')"
   ],
   "metadata": {
    "collapsed": false,
    "ExecuteTime": {
     "start_time": "2023-05-03T22:55:42.671935Z",
     "end_time": "2023-05-03T22:55:42.763973Z"
    }
   }
  },
  {
   "cell_type": "markdown",
   "source": [
    "1. **Ответ:** score незначительно уменьшился"
   ],
   "metadata": {
    "id": "SXaNclTZSFjO"
   }
  },
  {
   "cell_type": "markdown",
   "source": [
    "2. Мы можем еще сильнее уменьшить размер нашей матрицы, если отбросим значения df близкие к единице. Скорее всего такие слова не несут много информации о категории, так как встречаются достаточно часто. Ограничьте максимальный df в параметрах TfIdfVectorizer, поставьте верхнюю границу равную 0.9. Как изменился размер матрицы, как изменилось качество?\n"
   ],
   "metadata": {
    "id": "CPtk0lCA5POY"
   }
  },
  {
   "cell_type": "code",
   "source": [
    "tf_idf_vectorizer = TfidfVectorizer(max_df=0.9, tokenizer=custom_tokenizer)\n",
    "\n",
    "tf_idf_train = tf_idf_vectorizer.fit_transform(train_new.text)\n",
    "tf_idf_test = tf_idf_vectorizer.transform(test_new.text)\n",
    "\n",
    "display(tf_idf_train)\n",
    "display(tf_idf_test)\n",
    "\n",
    "tf_idf_logreg = LogisticRegression(random_state=42).fit(tf_idf_train, Y_train)\n",
    "\n",
    "prediction = tf_idf_logreg.predict(tf_idf_test)\n",
    "\n",
    "print(f'F1 score: {f1_score(Y_test, prediction)}')"
   ],
   "metadata": {
    "colab": {
     "base_uri": "https://localhost:8080/"
    },
    "id": "EU-MRXyRSHLm",
    "outputId": "6b5353a8-5f3b-4220-fcd4-64eecfe20054",
    "ExecuteTime": {
     "start_time": "2023-05-03T22:55:42.767098Z",
     "end_time": "2023-05-03T22:55:45.666187Z"
    }
   },
   "execution_count": 453,
   "outputs": [
    {
     "name": "stderr",
     "output_type": "stream",
     "text": [
      "C:\\Users\\user\\lib\\site-packages\\sklearn\\feature_extraction\\text.py:528: UserWarning: The parameter 'token_pattern' will not be used since 'tokenizer' is not None'\n",
      "  warnings.warn(\n"
     ]
    },
    {
     "data": {
      "text/plain": "<5329x10485 sparse matrix of type '<class 'numpy.float64'>'\n\twith 50925 stored elements in Compressed Sparse Row format>"
     },
     "metadata": {},
     "output_type": "display_data"
    },
    {
     "data": {
      "text/plain": "<2284x10485 sparse matrix of type '<class 'numpy.float64'>'\n\twith 19275 stored elements in Compressed Sparse Row format>"
     },
     "metadata": {},
     "output_type": "display_data"
    },
    {
     "name": "stdout",
     "output_type": "stream",
     "text": [
      "F1 score: 0.7429205996668518\n"
     ]
    }
   ]
  },
  {
   "cell_type": "markdown",
   "source": [
    "2. **Ответ:** Рофла не понял, ничего не поменялось.."
   ],
   "metadata": {
    "id": "4Two_O3rSVmh"
   }
  },
  {
   "cell_type": "markdown",
   "source": [
    "3. Также мы можем уменьшить размер матрицы, удаляя слова со слишком маленьким df. Удалось ли добиться улучшения качества? "
   ],
   "metadata": {
    "id": "VhyjbI5X5QnG"
   }
  },
  {
   "cell_type": "code",
   "source": [
    "tf_idf_vectorizer = TfidfVectorizer(\n",
    "    min_df=0.001,\n",
    "    max_df=0.9,\n",
    "    tokenizer=custom_tokenizer\n",
    ")\n",
    "\n",
    "tf_idf_train = tf_idf_vectorizer.fit_transform(train_new.text)\n",
    "tf_idf_test = tf_idf_vectorizer.transform(test_new.text)\n",
    "\n",
    "display(tf_idf_train)\n",
    "display(tf_idf_test)\n",
    "\n",
    "tf_idf_logreg = LogisticRegression(random_state=42).fit(tf_idf_train, Y_train)\n",
    "\n",
    "prediction = tf_idf_logreg.predict(tf_idf_test)\n",
    "\n",
    "print(f'F1 score: {f1_score(Y_test, prediction)}')"
   ],
   "metadata": {
    "colab": {
     "base_uri": "https://localhost:8080/"
    },
    "id": "9mNpIxv6SfKc",
    "outputId": "607ec22e-1fdb-4c29-bbc4-6447ed266349",
    "ExecuteTime": {
     "start_time": "2023-05-03T22:55:45.674234Z",
     "end_time": "2023-05-03T22:55:48.880172Z"
    }
   },
   "execution_count": 454,
   "outputs": [
    {
     "name": "stderr",
     "output_type": "stream",
     "text": [
      "C:\\Users\\user\\lib\\site-packages\\sklearn\\feature_extraction\\text.py:528: UserWarning: The parameter 'token_pattern' will not be used since 'tokenizer' is not None'\n",
      "  warnings.warn(\n"
     ]
    },
    {
     "data": {
      "text/plain": "<5329x1740 sparse matrix of type '<class 'numpy.float64'>'\n\twith 37026 stored elements in Compressed Sparse Row format>"
     },
     "metadata": {},
     "output_type": "display_data"
    },
    {
     "data": {
      "text/plain": "<2284x1740 sparse matrix of type '<class 'numpy.float64'>'\n\twith 15224 stored elements in Compressed Sparse Row format>"
     },
     "metadata": {},
     "output_type": "display_data"
    },
    {
     "name": "stdout",
     "output_type": "stream",
     "text": [
      "F1 score: 0.7445175438596492\n"
     ]
    }
   ]
  },
  {
   "cell_type": "markdown",
   "source": [
    "3. **Ответ:** у всех токенов слишком низкий df, увеличение скора начинается только примерно с `min_df` = 0.001"
   ],
   "metadata": {
    "id": "imeD8skxSqdg"
   }
  },
  {
   "cell_type": "markdown",
   "metadata": {
    "id": "1l1sx4nB3HvN"
   },
   "source": [
    "## Задание 10 (1 балл)\n",
    "\n",
    "Еще один популяпный трюк, который позволит уменьшить количество признаков называется hashing trick. Его суть в том, то мы случайно группируем признаки ииии  ..... складываем их! А потом удаляем исходные признаки. В итоге все наши признаки это просто суммы исходных. Звучит странно, но это отлично работает. Давайте проверим этот трюк в нашем сеттинге.\n",
    "Также при таком подходе вам не нужно хранить словарь token->index, что тоже иногда полезно.\n",
    "\n",
    "1. Повторите задание 8 с HashingVectorizer, укажите количество фичей равное 5000.\n"
   ]
  },
  {
   "cell_type": "code",
   "source": [
    "from sklearn.feature_extraction.text import HashingVectorizer\n",
    "\n",
    "hash_vectorizer = HashingVectorizer(n_features=5000, tokenizer=custom_tokenizer)\n",
    "\n",
    "hash_train = hash_vectorizer.fit_transform(train_new.text)\n",
    "hash_test = hash_vectorizer.transform(test_new.text)\n",
    "\n",
    "display(hash_train)\n",
    "display(hash_test)\n",
    "\n",
    "hash_logreg = LogisticRegression(random_state=42).fit(hash_train, Y_train)\n",
    "\n",
    "hash_prediction = hash_logreg.predict(hash_test)\n",
    "\n",
    "print(f'F1 score: {f1_score(Y_test, hash_prediction)}')"
   ],
   "metadata": {
    "colab": {
     "base_uri": "https://localhost:8080/"
    },
    "id": "8qSoW894RXxz",
    "outputId": "720818f4-f774-4273-bb10-918ecc72ef44",
    "ExecuteTime": {
     "start_time": "2023-05-03T22:55:49.140129Z",
     "end_time": "2023-05-03T22:55:53.562878Z"
    }
   },
   "execution_count": 455,
   "outputs": [
    {
     "name": "stderr",
     "output_type": "stream",
     "text": [
      "C:\\Users\\user\\lib\\site-packages\\sklearn\\feature_extraction\\text.py:528: UserWarning: The parameter 'token_pattern' will not be used since 'tokenizer' is not None'\n",
      "  warnings.warn(\n"
     ]
    },
    {
     "data": {
      "text/plain": "<5329x5000 sparse matrix of type '<class 'numpy.float64'>'\n\twith 50887 stored elements in Compressed Sparse Row format>"
     },
     "metadata": {},
     "output_type": "display_data"
    },
    {
     "data": {
      "text/plain": "<2284x5000 sparse matrix of type '<class 'numpy.float64'>'\n\twith 21798 stored elements in Compressed Sparse Row format>"
     },
     "metadata": {},
     "output_type": "display_data"
    },
    {
     "name": "stdout",
     "output_type": "stream",
     "text": [
      "F1 score: 0.7194645844952593\n"
     ]
    }
   ]
  },
  {
   "cell_type": "markdown",
   "source": [
    "2. Какой из подходов показал самый высокий результат?"
   ],
   "metadata": {
    "id": "1C3I4ceg6AG-"
   }
  },
  {
   "cell_type": "markdown",
   "source": [
    "2. **Ответ:** Пока что предыдущий подход самый лучший :/"
   ],
   "metadata": {
    "id": "_bIfyVlOS9Lu"
   }
  },
  {
   "cell_type": "markdown",
   "metadata": {
    "id": "zylJ6l0R3HvN"
   },
   "source": [
    "## Задание 11 (1 балл)\n",
    "\n",
    "В этом задании нужно добиться f1 меры хотя в 0.75 на тестовых данных."
   ]
  },
  {
   "cell_type": "code",
   "source": [
    "tf_idf_vectorizer = TfidfVectorizer(\n",
    "    min_df=0.001,\n",
    "    max_df=0.1,\n",
    "    tokenizer=custom_tokenizer\n",
    ")\n",
    "\n",
    "tf_idf_train = tf_idf_vectorizer.fit_transform(train_new.text)\n",
    "tf_idf_test = tf_idf_vectorizer.transform(test_new.text)\n",
    "\n",
    "display(tf_idf_train)\n",
    "display(tf_idf_test)\n",
    "\n",
    "tf_idf_logreg = LogisticRegression(random_state=42).fit(tf_idf_train, Y_train)\n",
    "\n",
    "prediction = tf_idf_logreg.predict(tf_idf_test)\n",
    "\n",
    "print(f'F1 score: {f1_score(Y_test, prediction)}')"
   ],
   "metadata": {
    "id": "GSTVApFeS-OY",
    "ExecuteTime": {
     "start_time": "2023-05-03T22:55:53.520925Z",
     "end_time": "2023-05-03T22:55:56.287378Z"
    }
   },
   "execution_count": 456,
   "outputs": [
    {
     "name": "stderr",
     "output_type": "stream",
     "text": [
      "C:\\Users\\user\\lib\\site-packages\\sklearn\\feature_extraction\\text.py:528: UserWarning: The parameter 'token_pattern' will not be used since 'tokenizer' is not None'\n",
      "  warnings.warn(\n"
     ]
    },
    {
     "data": {
      "text/plain": "<5329x1740 sparse matrix of type '<class 'numpy.float64'>'\n\twith 37026 stored elements in Compressed Sparse Row format>"
     },
     "metadata": {},
     "output_type": "display_data"
    },
    {
     "data": {
      "text/plain": "<2284x1740 sparse matrix of type '<class 'numpy.float64'>'\n\twith 15224 stored elements in Compressed Sparse Row format>"
     },
     "metadata": {},
     "output_type": "display_data"
    },
    {
     "name": "stdout",
     "output_type": "stream",
     "text": [
      "F1 score: 0.7445175438596492\n"
     ]
    }
   ]
  },
  {
   "cell_type": "markdown",
   "source": [
    "Это максимум, что я смог выжать с tf-idf :(\n",
    "Не знаю, можно ли использовать BOW, но если да, то там будет 0,75:"
   ],
   "metadata": {
    "collapsed": false
   }
  },
  {
   "cell_type": "code",
   "execution_count": 457,
   "outputs": [
    {
     "name": "stderr",
     "output_type": "stream",
     "text": [
      "C:\\Users\\user\\lib\\site-packages\\sklearn\\feature_extraction\\text.py:528: UserWarning: The parameter 'token_pattern' will not be used since 'tokenizer' is not None'\n",
      "  warnings.warn(\n"
     ]
    },
    {
     "data": {
      "text/plain": "<5329x10485 sparse matrix of type '<class 'numpy.int64'>'\n\twith 50925 stored elements in Compressed Sparse Row format>"
     },
     "metadata": {},
     "output_type": "display_data"
    },
    {
     "data": {
      "text/plain": "<2284x10485 sparse matrix of type '<class 'numpy.int64'>'\n\twith 19275 stored elements in Compressed Sparse Row format>"
     },
     "metadata": {},
     "output_type": "display_data"
    },
    {
     "name": "stdout",
     "output_type": "stream",
     "text": [
      "F1 score: 0.7533584094572812\n"
     ]
    }
   ],
   "source": [
    "bow_vectorizer = CountVectorizer(tokenizer=custom_tokenizer)\n",
    "bow_train = bow_vectorizer.fit_transform(train_new.text)\n",
    "bow_test = bow_vectorizer.transform(test_new.text)\n",
    "\n",
    "display(bow_train)\n",
    "display(bow_test)\n",
    "\n",
    "bow_logreg = LogisticRegression(random_state=42).fit(bow_train, Y_train)\n",
    "\n",
    "prediction = bow_logreg.predict(bow_test)\n",
    "\n",
    "print(f'F1 score: {f1_score(Y_test, prediction)}')"
   ],
   "metadata": {
    "collapsed": false,
    "ExecuteTime": {
     "start_time": "2023-05-03T22:57:28.787452Z",
     "end_time": "2023-05-03T22:57:30.714073Z"
    }
   }
  },
  {
   "cell_type": "markdown",
   "source": [
    "![](https://upload.wikimedia.org/wikipedia/commons/thumb/7/7e/%D0%AD%D1%82%D0%BE_%D0%BD%D0%B5%D0%BC%D0%BD%D0%BE%D0%B3%D0%BE%2C_%D0%BD%D0%BE_%D1%8D%D1%82%D0%BE_%D1%87%D0%B5%D1%81%D1%82%D0%BD%D0%B0%D1%8F_%D1%80%D0%B0%D0%B1%D0%BE%D1%82%D0%B0.jpg/1200px-%D0%AD%D1%82%D0%BE_%D0%BD%D0%B5%D0%BC%D0%BD%D0%BE%D0%B3%D0%BE%2C_%D0%BD%D0%BE_%D1%8D%D1%82%D0%BE_%D1%87%D0%B5%D1%81%D1%82%D0%BD%D0%B0%D1%8F_%D1%80%D0%B0%D0%B1%D0%BE%D1%82%D0%B0.jpg)"
   ],
   "metadata": {
    "collapsed": false
   }
  },
  {
   "cell_type": "code",
   "execution_count": null,
   "outputs": [],
   "source": [],
   "metadata": {
    "collapsed": false
   }
  }
 ],
 "metadata": {
  "kernelspec": {
   "display_name": "Python 3 (ipykernel)",
   "language": "python",
   "name": "python3"
  },
  "language_info": {
   "codemirror_mode": {
    "name": "ipython",
    "version": 3
   },
   "file_extension": ".py",
   "mimetype": "text/x-python",
   "name": "python",
   "nbconvert_exporter": "python",
   "pygments_lexer": "ipython3",
   "version": "3.8.5"
  },
  "colab": {
   "provenance": [],
   "collapsed_sections": [
    "YlLemInT3HvL",
    "A8CPBUal3HvL"
   ]
  }
 },
 "nbformat": 4,
 "nbformat_minor": 0
}
