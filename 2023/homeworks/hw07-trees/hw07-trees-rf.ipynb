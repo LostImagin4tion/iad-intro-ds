{
 "cells": [
  {
   "cell_type": "markdown",
   "metadata": {},
   "source": [
    "# Интеллектуальный анализ данных – весна 2022\n",
    "\n",
    "# Домашнее задание 7: Деревья. Случайный лес\n",
    "\n",
    "Правила:\n",
    "\n",
    "- Домашнее задание оценивается в 10 баллов (+1 бонусный балл).\n",
    "\n",
    "\n",
    "- Можно использовать без доказательства любые результаты, встречавшиеся на лекциях или семинарах по курсу, если получение этих результатов не является вопросом задания.\n",
    "\n",
    "\n",
    "- Можно использовать любые свободные источники с обязательным указанием ссылки на них.\n",
    "\n",
    "\n",
    "- Плагиат не допускается. При обнаружении случаев списывания, 0 за работу выставляется всем участникам нарушения, даже если можно установить, кто у кого списал.\n",
    "\n",
    "<!-- ![](meme.jpg) -->\n",
    "<img src=\"meme.jpg\" alt=\"Drawing\" style=\"width: 700px;\"/>"
   ]
  },
  {
   "cell_type": "markdown",
   "metadata": {},
   "source": [
    "## Часть 1: Основы построения решающие дерева (1.5 балла)\n",
    "\n",
    "В этой части все расчёты необходимо реализовывать в виде запрограммированных формул, например, на `numpy`. **Нельзя использовать готовые реализации**. Например, если в задании требуется рассчитать энтропию, то требуется в каком-то виде релизовать расчёт по формуле, но нельзя использовать готовую реализацию `some_module.entropy()`."
   ]
  },
  {
   "cell_type": "code",
   "execution_count": 1,
   "metadata": {
    "ExecuteTime": {
     "end_time": "2023-05-29T18:21:23.790090600Z",
     "start_time": "2023-05-29T18:21:22.840235600Z"
    }
   },
   "outputs": [],
   "source": [
    "import numpy as np\n",
    "import pandas as pd\n",
    "import matplotlib.pyplot as plt"
   ]
  },
  {
   "cell_type": "markdown",
   "metadata": {},
   "source": [
    "**Задание 1.1 (0.5 балла)** Пусть известно, что в вершину решающего дерева попали 10 объектов, 8 из которых имеют метку класса $k_1$, а 2 имеют метку класса $k_2$. Рассчитайте энтропию такого распределения классов (с натуральным логарифмом). Ответ округлите до двух знаков после запятой."
   ]
  },
  {
   "cell_type": "markdown",
   "source": [
    "Пусть $k_1 = 1, k_2 = 0$"
   ],
   "metadata": {
    "collapsed": false
   }
  },
  {
   "cell_type": "code",
   "execution_count": 2,
   "metadata": {
    "ExecuteTime": {
     "end_time": "2023-05-29T18:21:27.135908400Z",
     "start_time": "2023-05-29T18:21:27.123150700Z"
    }
   },
   "outputs": [
    {
     "data": {
      "text/plain": "0.5004024235381879"
     },
     "execution_count": 2,
     "metadata": {},
     "output_type": "execute_result"
    }
   ],
   "source": [
    "objects = [1, 1, 1, 1, 1, 1, 1, 1, 0, 0]\n",
    "probabilities = np.bincount(objects) / len(objects)\n",
    "-np.sum(list(map(lambda p: p * np.log(p), probabilities)))"
   ]
  },
  {
   "cell_type": "markdown",
   "metadata": {},
   "source": [
    "**Задание 1.2 (0.5 балла)** Пусть дополнительно известно, что вершина из предыдущего задания не является листовой и возможно такое разбиение, что в левое поддерево попадут все объекты класса $k_1$, а в правое - класса $k_2$. Посчитайте критерий информативности:\n",
    "\n",
    "$$\n",
    "Q(R_m, j, t) = H(R_m) - \\frac{|R_\\ell|}{|R_m|}H(R_\\ell) - \\frac{|R_r|}{|R_m|}H(R_r),\n",
    "$$\n",
    "\n",
    "где $R_m$ - множество объектов в разбиваемой вершине, $j$ - номер признака, по которому происходит разбиение, $t$ - порог разбиения, $R_\\ell$ - множество объектов в левом поддереве, $R_r$ - множество объектов в правом поддереве.\n",
    "\n",
    "Теперь в качестве $H(R)$ будем использовать индекс Джини:\n",
    "\n",
    "$$\n",
    "H(R) = \\sum_{k=1}^J p_k(1-p_k),\n",
    "$$\n",
    "где $J$ – общее количество классов (в нашем случае, $J = 2$).\n",
    "\n",
    "Ответ округлите до двух знаков после запятой."
   ]
  },
  {
   "cell_type": "code",
   "execution_count": 3,
   "metadata": {
    "ExecuteTime": {
     "end_time": "2023-05-29T18:21:28.693256600Z",
     "start_time": "2023-05-29T18:21:28.673743200Z"
    }
   },
   "outputs": [
    {
     "data": {
      "text/plain": "0.32"
     },
     "execution_count": 3,
     "metadata": {},
     "output_type": "execute_result"
    }
   ],
   "source": [
    "def calc_jini(objects: list):\n",
    "    probs = np.bincount(objects) / len(objects)\n",
    "    return np.sum(list(map(lambda p: p * (1 - p), probs)))\n",
    "\n",
    "Rl_objects = [1, 1, 1, 1, 1, 1, 1, 1]\n",
    "Rr_objects = [0, 0]\n",
    "Rm_objects = Rl_objects + Rr_objects\n",
    "\n",
    "Rl = len(Rl_objects)\n",
    "Rr = len(Rr_objects)\n",
    "Rm = len(Rm_objects)\n",
    "\n",
    "Q = calc_jini(Rm_objects) - Rl / Rm * calc_jini(Rl_objects) - Rr / Rm * calc_jini(Rr_objects)\n",
    "Q = round(Q, 2)\n",
    "Q"
   ]
  },
  {
   "cell_type": "markdown",
   "metadata": {},
   "source": [
    "**Задание 1.3 (0.5 балла)** Пусть при построении дерева образовалась листовая вершина с 10 объектами, значения целевой переменной для которых следующие: [1, 10, 5, 18, 100, 30, 50, 61, 84, 47] (решается задача регрессии). Чему будут равны предсказания модели для этих объектов?"
   ]
  },
  {
   "cell_type": "markdown",
   "source": [
    "В задаче регрессии предсказание в листе равно среднему значению целевой переменной для всех объектов в листе"
   ],
   "metadata": {
    "collapsed": false
   }
  },
  {
   "cell_type": "code",
   "execution_count": 4,
   "metadata": {
    "ExecuteTime": {
     "end_time": "2023-05-29T18:21:30.558663700Z",
     "start_time": "2023-05-29T18:21:30.540872900Z"
    }
   },
   "outputs": [
    {
     "data": {
      "text/plain": "40.6"
     },
     "execution_count": 4,
     "metadata": {},
     "output_type": "execute_result"
    }
   ],
   "source": [
    "targets = [1, 10, 5, 18, 100, 30, 50, 61, 84, 47]\n",
    "np.mean(targets)"
   ]
  },
  {
   "cell_type": "markdown",
   "metadata": {},
   "source": [
    "## Часть 2: Решающие деревья (4.5 балла)\n",
    "\n",
    "В этой части мы напишем и протестируем собственную реализацию решающего дерева."
   ]
  },
  {
   "cell_type": "code",
   "execution_count": 5,
   "metadata": {
    "ExecuteTime": {
     "end_time": "2023-05-29T18:21:32.036739700Z",
     "start_time": "2023-05-29T18:21:32.021691800Z"
    }
   },
   "outputs": [],
   "source": [
    "from collections import Counter\n",
    "from typing import Dict, List, Tuple, Union"
   ]
  },
  {
   "cell_type": "markdown",
   "metadata": {},
   "source": [
    "**Задание 2.1 (1.5 балла)** Реализуйте функцию `find_best_split()`, которая должна находить оптимальное разбиение подмножества обучающей выборки в соответствии с информационным критерием из **Задания 1.2**. В качестве меры хаотичности $H(R)$ для задачи регрессии испольуйте дисперсию подвыборки, а для задачи классификации – критерий Джини (определён в том же задании).\n",
    "\n",
    "Для категориальных признаков применяется наивный алгоритм разбиения: мы пытаемся найти одно значение, разбиение по которому сильнее всего увеличит критерий информативности. Иными словами, объекты с конкретным значением признака отправляем в левое поддерево, остальные - в правое. Обратите внимание, что это далеко не оптимальные способ учёта категориальных признаков. Например, можно было бы на каждое значение категориального признака создавать отдельное поддерево или использовать более сложные подходы. Подробнее об этом можно прочитать в конспектах [лекций](https://github.com/esokolov/ml-course-hse/blob/master/2019-fall/lecture-notes/lecture07-trees.pdf) по машинному обучению на ПМИ (раздел «Учёт категориальных признаков»).\n",
    "\n",
    "В качестве подсказок реализации можете пользоваться кодом из бонусной части семинара по решающим деревьям.\n",
    "\n",
    "**Бонус:** Разрешается делать цикл для перебора порогов, но возможна имплементация без него. За имплементацию без цикла – **бонус 1 балл**."
   ]
  },
  {
   "cell_type": "markdown",
   "source": [
    "Для подсчёта критерия информативности буду использовать эту формулку, потому что она оптимальнее:\n",
    "$$\n",
    "Q(R_m, j, t) = \\frac{|R_\\ell|}{|R_m|}H(R_\\ell) + \\frac{|R_r|}{|R_m|}H(R_r) → \\min_{j, t}\n",
    "$$"
   ],
   "metadata": {
    "collapsed": false
   }
  },
  {
   "cell_type": "code",
   "execution_count": 6,
   "outputs": [],
   "source": [
    "# Хаотичность для задачи классификации\n",
    "def calc_jini(objects: List):\n",
    "    if len(objects) == 0:\n",
    "        raise ValueError('objects list cant be empty')\n",
    "\n",
    "    probs = np.bincount(objects) / len(objects)\n",
    "    return np.sum(list(map(lambda p: p * (1 - p),probs)))"
   ],
   "metadata": {
    "collapsed": false,
    "ExecuteTime": {
     "end_time": "2023-05-29T18:21:34.642596200Z",
     "start_time": "2023-05-29T18:21:34.624643200Z"
    }
   }
  },
  {
   "cell_type": "code",
   "execution_count": 7,
   "outputs": [],
   "source": [
    "# Хаотичность для задачи регрессии\n",
    "def calc_dispersion(objects: List):\n",
    "    if len(objects) == 0:\n",
    "        raise ValueError('objects list cant be empty')\n",
    "\n",
    "    mean = np.sum(objects) / len(objects)\n",
    "    return np.sum(list(map(lambda item: item - mean, objects))) / len(objects)"
   ],
   "metadata": {
    "collapsed": false,
    "ExecuteTime": {
     "end_time": "2023-05-29T18:21:35.368333900Z",
     "start_time": "2023-05-29T18:21:35.361347300Z"
    }
   }
  },
  {
   "cell_type": "code",
   "execution_count": 8,
   "outputs": [],
   "source": [
    "# Критерий информативности\n",
    "def calc_informative_criterion(\n",
    "    left_child_variance: float,\n",
    "    right_child_variance: float,\n",
    "    left_child_size: int,\n",
    "    right_child_size: int,\n",
    ") -> float:\n",
    "    if left_child_size == 0 and right_child_size == 0:\n",
    "        raise ValueError('children sizes cant be zero')\n",
    "\n",
    "    parent_size = left_child_size + right_child_size\n",
    "\n",
    "    return left_child_variance * left_child_size / parent_size + right_child_variance * right_child_size / parent_size"
   ],
   "metadata": {
    "collapsed": false,
    "ExecuteTime": {
     "end_time": "2023-05-29T18:21:36.383851100Z",
     "start_time": "2023-05-29T18:21:36.375857300Z"
    }
   }
  },
  {
   "cell_type": "code",
   "execution_count": 10,
   "outputs": [],
   "source": [
    "# Сплитуем по индексу\n",
    "def calc_node_split(\n",
    "    parent_objects: Union[np.ndarray, pd.DataFrame],\n",
    "    threshold: int\n",
    ") -> Tuple[list, list]:\n",
    "\n",
    "    left_child: np.ndarray = parent_objects[:threshold]\n",
    "    right_child: np.ndarray = parent_objects[threshold:]\n",
    "\n",
    "    return list(left_child), list(right_child)"
   ],
   "metadata": {
    "collapsed": false,
    "ExecuteTime": {
     "end_time": "2023-05-29T18:23:53.674401200Z",
     "start_time": "2023-05-29T18:23:53.656550600Z"
    }
   }
  },
  {
   "cell_type": "code",
   "execution_count": 25,
   "outputs": [],
   "source": [
    "# Обрабатываем наше разбиение\n",
    "def process_split(\n",
    "        index: int,\n",
    "        data: pd.DataFrame,\n",
    "        thresholds: List[int],\n",
    "        criterions: List,\n",
    "        feature_type: str,\n",
    "        task: str\n",
    "):\n",
    "    # создаем разбиение\n",
    "    left, right = calc_node_split(data['target'], index)\n",
    "\n",
    "    # проверка, что дети непустые\n",
    "    if left and right:\n",
    "\n",
    "        if feature_type == 'real':\n",
    "            # если признак вещественный, то берем среднее соседей\n",
    "            current_threshold = np.mean([data['feature'][index - 1], data['feature'][index]])\n",
    "        else:\n",
    "            # иначе - первое значение в правом листе\n",
    "            current_threshold = data['feature'][index]\n",
    "\n",
    "        # Считаем хаотичность детей. Так как в случае задачи регрессии\n",
    "        # для категориальных признаков мы не можем посчитать дисперсию,\n",
    "        # то будем считать коэффициент Джини\n",
    "        if task == 'classification' or feature_type == 'categorical':\n",
    "            variance_left = calc_jini(left)\n",
    "            variance_right = calc_jini(right)\n",
    "        else:\n",
    "            variance_left = calc_dispersion(left)\n",
    "            variance_right = calc_dispersion(right)\n",
    "\n",
    "        # считаем критерий информативности для детей\n",
    "        informative_criterion = calc_informative_criterion(\n",
    "            left_child_variance=variance_left,\n",
    "            right_child_variance=variance_right,\n",
    "            left_child_size=len(left),\n",
    "            right_child_size=len(right)\n",
    "        )\n",
    "\n",
    "        criterions.append(informative_criterion)\n",
    "        thresholds.append(current_threshold)"
   ],
   "metadata": {
    "collapsed": false,
    "ExecuteTime": {
     "end_time": "2023-05-29T18:32:15.145576400Z",
     "start_time": "2023-05-29T18:32:15.131612600Z"
    }
   }
  },
  {
   "cell_type": "code",
   "execution_count": 31,
   "metadata": {
    "ExecuteTime": {
     "end_time": "2023-05-29T18:32:33.510435100Z",
     "start_time": "2023-05-29T18:32:33.460734200Z"
    }
   },
   "outputs": [],
   "source": [
    "def find_best_split(\n",
    "    feature_vector: Union[np.ndarray, pd.DataFrame], \n",
    "    target_vector: Union[np.ndarray, pd.Series],\n",
    "    task: str = \"classification\",\n",
    "    feature_type: str = \"real\"\n",
    ") -> Tuple[np.ndarray, np.ndarray, float, float]:\n",
    "    \"\"\"\n",
    "    Указания:\n",
    "    * Пороги, приводящие к попаданию в одно из поддеревьев пустого множества объектов, не рассматриваются.\n",
    "    * В качестве порогов, нужно брать среднее двух соседних (при сортировке) значений признака\n",
    "    * Поведение функции в случае константного признака может быть любым.\n",
    "    * При одинаковых приростах Джини или дисперсии нужно выбирать минимальный сплит.\n",
    "    * За наличие в функции циклов балл будет снижен. Векторизуйте! :)\n",
    "\n",
    "    :param feature_vector: вещественнозначный вектор значений признака\n",
    "    :param target_vector: вектор классов объектов, len(feature_vector) == len(target_vector)\n",
    "    :param task: либо `classification`, либо `regression`\n",
    "    :param feature_type: либо `real`, либо `categorical`\n",
    "    \n",
    "    :return thresholds: отсортированный по возрастанию вектор со всеми возможными порогами, по которым объекты можно\n",
    "     разделить на две различные подвыборки, или поддерева\n",
    "    :return ginis: вектор со значениями критерия Джини для каждого из порогов в thresholds len(ginis) == len(thresholds)\n",
    "    :return threshold_best: оптимальный порог (число)\n",
    "    :return gini_best: оптимальное значение критерия Джини (число)\n",
    "    \"\"\"\n",
    "\n",
    "    if task != 'classification' and task != 'regression':\n",
    "        raise ValueError('task can be either classification or regresion')\n",
    "\n",
    "    thresholds = []\n",
    "    criterions = []\n",
    "\n",
    "    data = pd.DataFrame(feature_vector, columns=['feature'])\n",
    "    data['target'] = target_vector\n",
    "\n",
    "    if feature_type == 'real':\n",
    "        data.sort_values(by='feature')\n",
    "    elif feature_type != 'categorical':\n",
    "        raise ValueError('feature must be either real or categorical')\n",
    "\n",
    "    lambda_function = lambda index: process_split(\n",
    "        index=index,\n",
    "        data=data,\n",
    "        thresholds=thresholds,\n",
    "        criterions=criterions,\n",
    "        feature_type=feature_type,\n",
    "        task=task\n",
    "    )\n",
    "\n",
    "    # векторизируем функцию\n",
    "    vectorized_function = np.vectorize(lambda_function)\n",
    "\n",
    "    vectorized_function(data['feature'].index)\n",
    "\n",
    "    criterion_best = min(criterions)\n",
    "    threshold_best = thresholds[criterions.index(criterion_best)]\n",
    "\n",
    "    return thresholds, criterions, threshold_best, criterion_best\n"
   ]
  },
  {
   "cell_type": "markdown",
   "metadata": {},
   "source": [
    "Эту функцию можно протестировать на датасете `California`."
   ]
  },
  {
   "cell_type": "code",
   "execution_count": 32,
   "metadata": {
    "ExecuteTime": {
     "end_time": "2023-05-29T18:32:34.536094300Z",
     "start_time": "2023-05-29T18:32:34.510943900Z"
    }
   },
   "outputs": [],
   "source": [
    "from sklearn.datasets import fetch_california_housing"
   ]
  },
  {
   "cell_type": "code",
   "execution_count": 33,
   "metadata": {
    "ExecuteTime": {
     "end_time": "2023-05-29T18:32:35.019792600Z",
     "start_time": "2023-05-29T18:32:34.973787300Z"
    }
   },
   "outputs": [
    {
     "data": {
      "text/plain": "   MedInc  HouseAge  AveRooms  AveBedrms  Population  AveOccup  Latitude  \\\n0  8.3252      41.0  6.984127   1.023810       322.0  2.555556     37.88   \n1  8.3014      21.0  6.238137   0.971880      2401.0  2.109842     37.86   \n2  7.2574      52.0  8.288136   1.073446       496.0  2.802260     37.85   \n3  5.6431      52.0  5.817352   1.073059       558.0  2.547945     37.85   \n4  3.8462      52.0  6.281853   1.081081       565.0  2.181467     37.85   \n\n   Longitude  \n0    -122.23  \n1    -122.22  \n2    -122.24  \n3    -122.25  \n4    -122.25  ",
      "text/html": "<div>\n<style scoped>\n    .dataframe tbody tr th:only-of-type {\n        vertical-align: middle;\n    }\n\n    .dataframe tbody tr th {\n        vertical-align: top;\n    }\n\n    .dataframe thead th {\n        text-align: right;\n    }\n</style>\n<table border=\"1\" class=\"dataframe\">\n  <thead>\n    <tr style=\"text-align: right;\">\n      <th></th>\n      <th>MedInc</th>\n      <th>HouseAge</th>\n      <th>AveRooms</th>\n      <th>AveBedrms</th>\n      <th>Population</th>\n      <th>AveOccup</th>\n      <th>Latitude</th>\n      <th>Longitude</th>\n    </tr>\n  </thead>\n  <tbody>\n    <tr>\n      <th>0</th>\n      <td>8.3252</td>\n      <td>41.0</td>\n      <td>6.984127</td>\n      <td>1.023810</td>\n      <td>322.0</td>\n      <td>2.555556</td>\n      <td>37.88</td>\n      <td>-122.23</td>\n    </tr>\n    <tr>\n      <th>1</th>\n      <td>8.3014</td>\n      <td>21.0</td>\n      <td>6.238137</td>\n      <td>0.971880</td>\n      <td>2401.0</td>\n      <td>2.109842</td>\n      <td>37.86</td>\n      <td>-122.22</td>\n    </tr>\n    <tr>\n      <th>2</th>\n      <td>7.2574</td>\n      <td>52.0</td>\n      <td>8.288136</td>\n      <td>1.073446</td>\n      <td>496.0</td>\n      <td>2.802260</td>\n      <td>37.85</td>\n      <td>-122.24</td>\n    </tr>\n    <tr>\n      <th>3</th>\n      <td>5.6431</td>\n      <td>52.0</td>\n      <td>5.817352</td>\n      <td>1.073059</td>\n      <td>558.0</td>\n      <td>2.547945</td>\n      <td>37.85</td>\n      <td>-122.25</td>\n    </tr>\n    <tr>\n      <th>4</th>\n      <td>3.8462</td>\n      <td>52.0</td>\n      <td>6.281853</td>\n      <td>1.081081</td>\n      <td>565.0</td>\n      <td>2.181467</td>\n      <td>37.85</td>\n      <td>-122.25</td>\n    </tr>\n  </tbody>\n</table>\n</div>"
     },
     "execution_count": 33,
     "metadata": {},
     "output_type": "execute_result"
    }
   ],
   "source": [
    "data = fetch_california_housing()\n",
    "X = pd.DataFrame(data=data[\"data\"], columns=data[\"feature_names\"])\n",
    "y = data[\"target\"]\n",
    "X.head()"
   ]
  },
  {
   "cell_type": "markdown",
   "source": [
    "В датасете 20к объектов, сплит идет примерно 2 минуты..."
   ],
   "metadata": {
    "collapsed": false
   }
  },
  {
   "cell_type": "code",
   "execution_count": 35,
   "metadata": {
    "ExecuteTime": {
     "end_time": "2023-05-29T18:36:49.716066300Z",
     "start_time": "2023-05-29T18:35:03.688499700Z"
    }
   },
   "outputs": [],
   "source": [
    "thresholds, criterions, threshold_best, criterion_best = find_best_split(\n",
    "    X['MedInc'].to_numpy(),\n",
    "    y,\n",
    "    task='regression',\n",
    "    feature_type='real'\n",
    ")"
   ]
  },
  {
   "cell_type": "markdown",
   "metadata": {
    "ExecuteTime": {
     "end_time": "2023-05-27T13:17:05.150457300Z",
     "start_time": "2023-05-27T13:15:06.073306200Z"
    }
   },
   "source": [
    "Выведите график зависимости значения критерия ошибки от порогового значения при разбиении вершины по признаку `MedInc`."
   ],
   "execution_count": 81,
   "outputs": []
  },
  {
   "cell_type": "code",
   "execution_count": 36,
   "metadata": {
    "ExecuteTime": {
     "end_time": "2023-05-29T18:37:37.258674900Z",
     "start_time": "2023-05-29T18:37:36.805139Z"
    }
   },
   "outputs": [
    {
     "data": {
      "text/plain": "<Figure size 800x600 with 1 Axes>",
      "image/png": "[encoded data removed]"
     },
     "metadata": {},
     "output_type": "display_data"
    }
   ],
   "source": [
    "plt.figure(figsize=(8, 6))\n",
    "plt.scatter(thresholds, criterions)\n",
    "\n",
    "plt.title('Error criterion dependence on threshold')\n",
    "plt.xlabel('Threshold')\n",
    "plt.ylabel('Informative criterion');"
   ]
  },
  {
   "cell_type": "markdown",
   "metadata": {
    "ExecuteTime": {
     "end_time": "2023-05-27T13:17:51.228255Z",
     "start_time": "2023-05-27T13:17:50.959855700Z"
    }
   },
   "source": [
    "Найдите лучший, с вашей точки зрения, предикат первой вершины решающего дерева."
   ],
   "outputs": [
    {
     "data": {
      "text/plain": "<Figure size 800x600 with 1 Axes>",
      "image/png": "[encoded data removed]"
     },
     "metadata": {},
     "output_type": "display_data"
    }
   ],
   "execution_count": 82
  },
  {
   "cell_type": "code",
   "execution_count": 1,
   "metadata": {
    "ExecuteTime": {
     "end_time": "2023-05-27T13:50:22.038575200Z",
     "start_time": "2023-05-27T13:50:22.015355400Z"
    }
   },
   "outputs": [],
   "source": [
    "# ᕕ(╭ರ╭ ͟ʖ╮•́)⊃¤=(————"
   ]
  },
  {
   "cell_type": "markdown",
   "metadata": {},
   "source": [
    "**Задание 2.2 (1 балл)** Разберитесь с написанным кодом решающего дерева, заполните пропуски в коде и реализуйте недостающий метод `_predict_node()`.\n",
    "\n",
    "Построение дерева осуществляется согласно базовому жадному алгоритму, предложенному в лекции в разделе «Построение дерева».\n",
    "- **Выбор лучшего разбиения** необходимо производить по критерию Джини.\n",
    "- **Критерий останова:** все объекты в листе относятся к одному классу или ни по одному признаку нельзя разбить выборку.\n",
    "- **Ответ в листе:** наиболее часто встречающийся класс в листе.\n",
    "\n",
    "В задаче также предлагается получить два бонуса, по баллу на каждый!\n",
    "\n",
    "- **Реализуйте способ обрабатывать пропуски в даннх и реализуйте его, пояснив свои действия.**\n",
    "- **Реализуйте метод оценки важности признаков.**"
   ]
  },
  {
   "cell_type": "code",
   "execution_count": null,
   "metadata": {},
   "outputs": [],
   "source": [
    "class DecisionTree:\n",
    "    \n",
    "    def __init__(\n",
    "        self, \n",
    "        feature_types: Union[List[str], np.ndarray], \n",
    "        max_depth: int = None, \n",
    "        min_samples_split: int = None, \n",
    "        min_samples_leaf: int = None,\n",
    "        task: str = \"classification\"\n",
    "    ) -> None:\n",
    "        \n",
    "        if np.any(list(map(lambda x: x != \"real\" and x != \"categorical\", feature_types))):\n",
    "            raise ValueError(\"There is unknown feature type\")\n",
    "\n",
    "        # В этой переменной будем хранить узлы решающего дерева. Каждая вершина хранит в себе идентификатор того,\n",
    "        # является ли она листовой. Листовые вершины хранят значение класса для предсказания, нелистовые - правого и\n",
    "        # левого детей (поддеревья для продолжения процедуры предсказания)\n",
    "        self._tree = {}\n",
    "        \n",
    "        # типы признаков (категориальные или числовые)\n",
    "        self._feature_types = feature_types\n",
    "        \n",
    "        # гиперпараметры дерева\n",
    "        self._max_depth = max_depth\n",
    "        self._min_samples_split = min_samples_split\n",
    "        self._min_samples_leaf = min_samples_leaf\n",
    "        self.task = task\n",
    "        \n",
    "        # Переменная, если вы решите делать бонус\n",
    "        self._feature_importances = {}\n",
    "\n",
    "    def _fit_node(\n",
    "        self, \n",
    "        sub_X: np.ndarray, \n",
    "        sub_y: np.ndarray, \n",
    "        node: dict\n",
    "    ) -> None:\n",
    "        \n",
    "        # критерий останова\n",
    "        if np.all(sub_y == sub_y[0]):\n",
    "            node[\"type\"] = \"terminal\"\n",
    "            node[\"class\"] = sub_y[0]\n",
    "            return\n",
    "\n",
    "        feature_best, threshold_best, gini_best, split = None, None, None, None\n",
    "        for feature in range(sub_X.shape[1]):\n",
    "            feature_type = self._feature_types[feature]\n",
    "            categories_map = {}\n",
    "\n",
    "            # подготавливаем признак для поиска оптимального порога\n",
    "            if feature_type == \"real\":\n",
    "                feature_vector = sub_X[:, feature]\n",
    "            elif feature_type == \"categorical\":\n",
    "                # здесь могла быть реализация более сложного подхода к обработке категориального признака\n",
    "                feature_vector = sub_X[:, feature]\n",
    "\n",
    "            # ищем оптимальный порог\n",
    "            _, _, threshold, gini = find_best_split(feature_vector, sub_y, self.task, feature_type)\n",
    "            \n",
    "            if gini_best is None or gini > gini_best:\n",
    "                feature_best = feature\n",
    "                gini_best = gini\n",
    "\n",
    "                # split - маска на объекты, которые должны попасть в левое поддерево\n",
    "                if feature_type == \"real\":\n",
    "                    threshold_best = threshold\n",
    "                    split = np.argwhere(sub_X <= threshold_best) # ᕕ(╭ರ╭ ͟ʖ╮•́)⊃¤=(————\n",
    "                elif feature_type == \"categorical\":\n",
    "                    # в данной реализации это просто значение категории\n",
    "                    threshold_best = threshold\n",
    "                    split = np.argwhere(sub_X == threshold_best) # ᕕ(╭ರ╭ ͟ʖ╮•́)⊃¤=(————\n",
    "                else:\n",
    "                    raise ValueError\n",
    "\n",
    "        # записываем полученные сплиты в атрибуты класса\n",
    "        if feature_best is None:\n",
    "            node[\"type\"] = \"terminal\"\n",
    "            node[\"class\"] = Counter(sub_y).most_common(1)[0][0]\n",
    "            return\n",
    "\n",
    "        node[\"type\"] = \"nonterminal\"\n",
    "\n",
    "        node[\"feature_split\"] = feature_best\n",
    "        if self._feature_types[feature_best] == \"real\":\n",
    "            node[\"threshold\"] = threshold_best\n",
    "        elif self._feature_types[feature_best] == \"categorical\":\n",
    "            node[\"category_split\"] = threshold_best\n",
    "        else:\n",
    "            raise ValueError\n",
    "            \n",
    "        node[\"left_child\"], node[\"right_child\"] = {}, {}\n",
    "        self._fit_node(sub_X[split], sub_y[split], node[\"left_child\"])\n",
    "        self._fit_node(sub_X[np.logical_not(split)], sub_y[np.logical_not(split)], node[\"right_child\"])\n",
    "\n",
    "    # структура словаря node:\n",
    "    # type - листовая (terminal) или нелистовая (nonterminal) вершина\n",
    "    # class - класс листовой вершины\n",
    "    # feature_split - признак, по которому сплитуем\n",
    "    # threshold - порог сплита в случае вещественного признака\n",
    "    # category_split - категориальный признак по которому делаем сплит, если feature_split категориальный\n",
    "    # left_child, right_child - дети\n",
    "\n",
    "    def _predict_node(self, x: np.ndarray, node: dict) -> int:\n",
    "        \"\"\"\n",
    "        Предсказание начинается с корневой вершины дерева и рекурсивно идёт в левое или правое поддерево в зависимости от значения\n",
    "        предиката на объекте. Листовая вершина возвращает предсказание.\n",
    "        :param x: np.array, элемент выборки\n",
    "        :param node: dict, вершина дерева\n",
    "        \"\"\"\n",
    "        # ᕕ(╭ರ╭ ͟ʖ╮•́)⊃¤=(————\n",
    "        # буду делать рекурсивный обход дерева в глубину\n",
    "        if not node:\n",
    "            raise ValueError('node cant be None or empty')\n",
    "\n",
    "        if node['type'] == 'terminal':\n",
    "            return node['class']\n",
    "\n",
    "        elif self._feature_types[node['feature_split']] == 'real':\n",
    "            if x[node['feature_split']] <= node['threshold']:\n",
    "                return self._predict_node(x, node['left_child'])\n",
    "            else:\n",
    "                return self._predict_node(x, node['right_child'])\n",
    "        else:\n",
    "            if not x[node['category_split']]:\n",
    "                return self._predict_node(x, node['left_child'])\n",
    "            else:\n",
    "                return self._predict_node(x, node['right_child'])\n",
    "\n",
    "    def fit(self, X: np.ndarray, y: np.ndarray) -> None:\n",
    "        self._fit_node(X, y, self._tree)\n",
    "\n",
    "    def predict(self, X: np.ndarray) -> np.ndarray:\n",
    "        predicted = []\n",
    "        for x in X:\n",
    "            predicted.append(self._predict_node(x, self._tree))\n",
    "            \n",
    "        return np.array(predicted)"
   ]
  },
  {
   "cell_type": "markdown",
   "metadata": {},
   "source": [
    "**Задание 2.3 (1 балл)** Загрузите таблицу `students.csv` (это немного преобразованный датасет [User Knowledge](https://archive.ics.uci.edu/ml/datasets/User+Knowledge+Modeling)). В ней признаки объекта записаны в первых пяти столбцах, а в последнем записана целевая переменная (класс: 0 или 1). Постройте на одном изображении пять кривых \"порог — значение критерия Джини\" для всех пяти признаков. Отдельно визуализируйте диаграммы рассеяния \"значение признака — класс\" для всех пяти признаков."
   ]
  },
  {
   "cell_type": "code",
   "execution_count": null,
   "metadata": {},
   "outputs": [],
   "source": [
    "# ᕕ(╭ರ╭ ͟ʖ╮•́)⊃¤=(————"
   ]
  },
  {
   "cell_type": "markdown",
   "metadata": {},
   "source": [
    "Исходя из кривых значений критерия Джини, по какому признаку нужно производить деление выборки на два поддерева? Согласуется ли этот результат с визуальной оценкой диаграмм рассеяиния? Как бы охарактеризовали вид кривой для \"хороших\" признаков, по которым выборка делится почти идеально? Чем отличаются кривые для признаков, по которым деление практически невозможно?"
   ]
  },
  {
   "cell_type": "code",
   "execution_count": null,
   "metadata": {},
   "outputs": [],
   "source": [
    "# ᕕ(╭ರ╭ ͟ʖ╮•́)⊃¤=(————"
   ]
  },
  {
   "cell_type": "markdown",
   "metadata": {},
   "source": [
    "**Задание 2.4 (1 балл)** Протестируйте свое решающее дерево на датасете [mushrooms](https://archive.ics.uci.edu/ml/datasets/Mushroom). \n",
    "\n",
    "1. Скачайте таблицу `agaricus-lepiota.data` (из [Data Folder](https://archive.ics.uci.edu/ml/machine-learning-databases/mushroom/)), \n",
    "2. Считайте таблицу при помощи `pandas`,\n",
    "3. Примените к каждому столбцу `LabelEncoder` (из `sklearn`), чтобы преобразовать строковые имена категорий в натуральные числа. \n",
    "\n",
    "Первый столбец — это целевая переменная (e — edible, p — poisonous) Мы будем измерять качество с помощью accuracy, так что нам не очень важно, что будет классом 1, а что — классом 0. Обучите решающее дерево на половине случайно выбранных объектов (признаки в датасете категориальные) и сделайте предсказания для оставшейся половины. Вычислите accuracy."
   ]
  },
  {
   "cell_type": "code",
   "execution_count": null,
   "metadata": {},
   "outputs": [],
   "source": [
    "# ᕕ(╭ರ╭ ͟ʖ╮•́)⊃¤=(————"
   ]
  },
  {
   "cell_type": "markdown",
   "metadata": {},
   "source": [
    "## Часть 3: Бэггинг и случайный лес (4 балла)"
   ]
  },
  {
   "cell_type": "markdown",
   "metadata": {},
   "source": [
    "В данной части мы будем работать [с задачей предсказания диабета у пациента](https://www.kaggle.com/uciml/pima-indians-diabetes-database/data). Посмотрим на работу бэггинга над решающими деревьями и случайного леса, сравним их работу."
   ]
  },
  {
   "cell_type": "code",
   "execution_count": 123,
   "metadata": {
    "ExecuteTime": {
     "end_time": "2023-05-26T19:13:02.938530300Z",
     "start_time": "2023-05-26T19:13:02.911347100Z"
    }
   },
   "outputs": [],
   "source": [
    "from sklearn.ensemble import BaggingClassifier, RandomForestClassifier\n",
    "from sklearn.metrics import accuracy_score, precision_score, recall_score, roc_auc_score\n",
    "from sklearn.model_selection import train_test_split\n",
    "from sklearn.tree import DecisionTreeClassifier"
   ]
  },
  {
   "cell_type": "code",
   "execution_count": 124,
   "metadata": {
    "scrolled": true,
    "ExecuteTime": {
     "end_time": "2023-05-26T19:13:03.699946600Z",
     "start_time": "2023-05-26T19:13:03.654468700Z"
    }
   },
   "outputs": [
    {
     "name": "stdout",
     "output_type": "stream",
     "text": [
      "Dataset shape: (768, 9)\n"
     ]
    },
    {
     "data": {
      "text/plain": "   Pregnancies  Glucose  BloodPressure  SkinThickness  Insulin   BMI  \\\n0            6      148             72             35        0  33.6   \n1            1       85             66             29        0  26.6   \n2            8      183             64              0        0  23.3   \n3            1       89             66             23       94  28.1   \n4            0      137             40             35      168  43.1   \n\n   DiabetesPedigreeFunction  Age  Outcome  \n0                     0.627   50        1  \n1                     0.351   31        0  \n2                     0.672   32        1  \n3                     0.167   21        0  \n4                     2.288   33        1  ",
      "text/html": "<div>\n<style scoped>\n    .dataframe tbody tr th:only-of-type {\n        vertical-align: middle;\n    }\n\n    .dataframe tbody tr th {\n        vertical-align: top;\n    }\n\n    .dataframe thead th {\n        text-align: right;\n    }\n</style>\n<table border=\"1\" class=\"dataframe\">\n  <thead>\n    <tr style=\"text-align: right;\">\n      <th></th>\n      <th>Pregnancies</th>\n      <th>Glucose</th>\n      <th>BloodPressure</th>\n      <th>SkinThickness</th>\n      <th>Insulin</th>\n      <th>BMI</th>\n      <th>DiabetesPedigreeFunction</th>\n      <th>Age</th>\n      <th>Outcome</th>\n    </tr>\n  </thead>\n  <tbody>\n    <tr>\n      <th>0</th>\n      <td>6</td>\n      <td>148</td>\n      <td>72</td>\n      <td>35</td>\n      <td>0</td>\n      <td>33.6</td>\n      <td>0.627</td>\n      <td>50</td>\n      <td>1</td>\n    </tr>\n    <tr>\n      <th>1</th>\n      <td>1</td>\n      <td>85</td>\n      <td>66</td>\n      <td>29</td>\n      <td>0</td>\n      <td>26.6</td>\n      <td>0.351</td>\n      <td>31</td>\n      <td>0</td>\n    </tr>\n    <tr>\n      <th>2</th>\n      <td>8</td>\n      <td>183</td>\n      <td>64</td>\n      <td>0</td>\n      <td>0</td>\n      <td>23.3</td>\n      <td>0.672</td>\n      <td>32</td>\n      <td>1</td>\n    </tr>\n    <tr>\n      <th>3</th>\n      <td>1</td>\n      <td>89</td>\n      <td>66</td>\n      <td>23</td>\n      <td>94</td>\n      <td>28.1</td>\n      <td>0.167</td>\n      <td>21</td>\n      <td>0</td>\n    </tr>\n    <tr>\n      <th>4</th>\n      <td>0</td>\n      <td>137</td>\n      <td>40</td>\n      <td>35</td>\n      <td>168</td>\n      <td>43.1</td>\n      <td>2.288</td>\n      <td>33</td>\n      <td>1</td>\n    </tr>\n  </tbody>\n</table>\n</div>"
     },
     "execution_count": 124,
     "metadata": {},
     "output_type": "execute_result"
    }
   ],
   "source": [
    "data = pd.read_csv('diabetes.csv')\n",
    "print(f\"Dataset shape: {data.shape}\")\n",
    "data.head()"
   ]
  },
  {
   "cell_type": "markdown",
   "metadata": {},
   "source": [
    "Посмотрим на распределение целевой переменной"
   ]
  },
  {
   "cell_type": "code",
   "execution_count": 126,
   "metadata": {
    "ExecuteTime": {
     "end_time": "2023-05-26T19:13:15.433577Z",
     "start_time": "2023-05-26T19:13:15.275084600Z"
    }
   },
   "outputs": [
    {
     "data": {
      "text/plain": "<Figure size 640x480 with 1 Axes>",
      "image/png": "[encoded data removed]"
     },
     "metadata": {},
     "output_type": "display_data"
    }
   ],
   "source": [
    "data['Outcome'].hist()\n",
    "plt.show()"
   ]
  },
  {
   "cell_type": "markdown",
   "metadata": {},
   "source": [
    "**Задание 3.1 (0.5 балла)** Разделите данные на признаки и целевую переменную. Разбейте датасет на обучающую и тестовую части в отношении 7:3. Затем разделите обучающую выборку на обучающую-обучающую и обучающую-валидационную в соотношении 7:3 (то есть в итоге должно получиться три выборки: обучающая-обучающая (0.49 от исходного датасета), обучающая-валидационная (0.21 от исходного датасета) и тестовая (0.3 от исходного датасета)."
   ]
  },
  {
   "cell_type": "code",
   "execution_count": 127,
   "metadata": {
    "ExecuteTime": {
     "end_time": "2023-05-26T19:13:24.119273400Z",
     "start_time": "2023-05-26T19:13:24.100324900Z"
    }
   },
   "outputs": [
    {
     "name": "stdout",
     "output_type": "stream",
     "text": [
      "training part: 0.49\n",
      "validation part: 0.21\n",
      "test part: 0.3\n"
     ]
    }
   ],
   "source": [
    "Y = data['Outcome']\n",
    "X = data.drop('Outcome', axis=1)\n",
    "\n",
    "X_train, X_test, Y_train, Y_test = train_test_split(X, Y, test_size=0.3, random_state=10)\n",
    "\n",
    "X_train_train, X_train_validate, Y_train_train, Y_train_validate = train_test_split(X_train, Y_train, test_size=0.3, random_state=10)\n",
    "\n",
    "print(f'training part: {round(X_train_train.shape[0] / X.shape[0], 2)}')\n",
    "print(f'validation part: {round(X_train_validate.shape[0] / X.shape[0], 2)}')\n",
    "print(f'test part: {round(X_test.shape[0] / X.shape[0], 2)}')"
   ]
  },
  {
   "cell_type": "markdown",
   "metadata": {},
   "source": [
    "**Задание 3.2 (1 балл)** На обучающей-валидационной выборке подберите оптимальные значения гиперпараметров `max_depth` и `min_samples_leaf` для `DecisionTreeClassifier`. Для этого:\n",
    "1. Создайте списки с возможными значениями для перебора.\n",
    "2. Для каждой пары значений обучите дерево на обучающей-обучающей выборке и определите качество на обучающей-валидационной выборке. В качестве критерия будем использовать `f1-меру`.\n",
    "3. Выберите ту пару значений, которая даёт наилучшее качество на обучающей-валидационной выборке. \n",
    "\n",
    "\n",
    "Обучите решающее дерево с подобранными гиперпараметрами на **полной обучающей** выборке. Оцените качество классификации на тестовой выборке по метрикам `accuracy`, `precision` и `recall`, `auc_roc`."
   ]
  },
  {
   "cell_type": "code",
   "execution_count": 128,
   "outputs": [],
   "source": [
    "from sklearn.metrics import f1_score, accuracy_score, precision_score, recall_score, roc_auc_score\n",
    "from sklearn.tree import DecisionTreeClassifier"
   ],
   "metadata": {
    "collapsed": false,
    "ExecuteTime": {
     "end_time": "2023-05-26T19:13:53.326505600Z",
     "start_time": "2023-05-26T19:13:53.308384400Z"
    }
   }
  },
  {
   "cell_type": "code",
   "execution_count": 129,
   "metadata": {
    "ExecuteTime": {
     "end_time": "2023-05-26T19:15:13.688613200Z",
     "start_time": "2023-05-26T19:15:13.539726900Z"
    }
   },
   "outputs": [
    {
     "name": "stdout",
     "output_type": "stream",
     "text": [
      "optimal max depth 7\n",
      "optimal min samples leaf 15\n"
     ]
    }
   ],
   "source": [
    "max_depths = [1, 2, 3, 5, 7, 10]\n",
    "min_samples_leafs = [1, 3, 5, 7, 10, 15]\n",
    "\n",
    "optimal_max_depth = None\n",
    "optimal_min_samples_leaf = None\n",
    "\n",
    "max_f1_score = None\n",
    "\n",
    "for i, max_depth in enumerate(max_depths):\n",
    "    for j, min_samples_leaf in enumerate(min_samples_leafs):\n",
    "        classifier = DecisionTreeClassifier(\n",
    "            max_depth=max_depth,\n",
    "            min_samples_leaf=min_samples_leaf,\n",
    "            random_state=10\n",
    "        )\n",
    "        classifier.fit(X_train_train, Y_train_train)\n",
    "\n",
    "        current_f1_score = f1_score(Y_train_validate, classifier.predict(X_train_validate))\n",
    "\n",
    "        if max_f1_score is None or current_f1_score > max_f1_score:\n",
    "            max_f1_score = current_f1_score\n",
    "            optimal_max_depth = max_depth\n",
    "            optimal_min_samples_leaf = min_samples_leaf\n",
    "\n",
    "print(f\"optimal max depth {optimal_max_depth}\")\n",
    "print(f\"optimal min samples leaf {optimal_min_samples_leaf}\")"
   ]
  },
  {
   "cell_type": "code",
   "execution_count": 131,
   "outputs": [
    {
     "name": "stdout",
     "output_type": "stream",
     "text": [
      "accuracy 0.723\n",
      "precision 0.646\n",
      "recall 0.586\n",
      "auc_roc 0.696\n"
     ]
    }
   ],
   "source": [
    "dt_classifier = DecisionTreeClassifier(\n",
    "    max_depth=optimal_max_depth,\n",
    "    min_samples_leaf=optimal_min_samples_leaf,\n",
    "    random_state=10\n",
    ")\n",
    "dt_classifier.fit(X_train, Y_train)\n",
    "\n",
    "dt_prediction = dt_classifier.predict(X_test)\n",
    "\n",
    "print(f'accuracy {round(accuracy_score(Y_test, dt_prediction), 3)}')\n",
    "print(f'precision {round(precision_score(Y_test, dt_prediction), 3)}')\n",
    "print(f'recall {round(recall_score(Y_test, dt_prediction), 3)}')\n",
    "print(f'auc_roc {round(roc_auc_score(Y_test, dt_prediction), 3)}')"
   ],
   "metadata": {
    "collapsed": false,
    "ExecuteTime": {
     "end_time": "2023-05-26T19:15:47.449489300Z",
     "start_time": "2023-05-26T19:15:47.411498300Z"
    }
   }
  },
  {
   "cell_type": "markdown",
   "metadata": {},
   "source": [
    "**Задание 3.3 (0.5 балла)** Обучите [`BaggingClassifier`](https://scikit-learn.org/stable/modules/generated/sklearn.ensemble.BaggingClassifier.html) на 50 деревьях на **полной обучающей** выборке. Оцените качество классификации на тестовой выборке по тем же метрикам."
   ]
  },
  {
   "cell_type": "code",
   "execution_count": 132,
   "outputs": [],
   "source": [
    "from sklearn.ensemble import BaggingClassifier"
   ],
   "metadata": {
    "collapsed": false,
    "ExecuteTime": {
     "end_time": "2023-05-26T19:15:51.047183500Z",
     "start_time": "2023-05-26T19:15:51.028375Z"
    }
   }
  },
  {
   "cell_type": "code",
   "execution_count": 135,
   "metadata": {
    "ExecuteTime": {
     "end_time": "2023-05-26T19:16:07.264270900Z",
     "start_time": "2023-05-26T19:16:07.192258900Z"
    }
   },
   "outputs": [],
   "source": [
    "bag_classifier = BaggingClassifier(\n",
    "    n_estimators=50,\n",
    "    n_jobs=4,\n",
    "    random_state=10\n",
    ")\n",
    "bag_classifier.fit(X_train, Y_train);"
   ]
  },
  {
   "cell_type": "code",
   "execution_count": 136,
   "outputs": [
    {
     "name": "stdout",
     "output_type": "stream",
     "text": [
      "accuracy 0.771\n",
      "precision 0.793\n",
      "recall 0.529\n",
      "auc_roc 0.723\n"
     ]
    }
   ],
   "source": [
    "bag_prediction = bag_classifier.predict(X_test)\n",
    "\n",
    "print(f'accuracy {round(accuracy_score(Y_test, bag_prediction), 3)}')\n",
    "print(f'precision {round(precision_score(Y_test, bag_prediction), 3)}')\n",
    "print(f'recall {round(recall_score(Y_test, bag_prediction), 3)}')\n",
    "print(f'auc_roc {round(roc_auc_score(Y_test, bag_prediction), 3)}')"
   ],
   "metadata": {
    "collapsed": false,
    "ExecuteTime": {
     "end_time": "2023-05-26T19:16:14.995160200Z",
     "start_time": "2023-05-26T19:16:14.955304100Z"
    }
   }
  },
  {
   "cell_type": "markdown",
   "metadata": {},
   "source": [
    "**Задание 3.4 (1 балл)** Выполните кросс-валидацию на полной обучающей выборке и подберите оптимальные значения гиперпараметров `max_depth` и `min_samples_split` для `Random Forest` с 50 деревьями. Для этого:\n",
    "\n",
    "1. Создайте списки с возможными значениями для перебора.\n",
    "2. Для каждой пары значений проведите кросс-валидацию на полной обучающей выборке. Количество разбиений выберите на ваш вкус. В качестве критерия будем использовать `f1-меру`. Усредните значение критерия по всем прогонам кросс-валидации. \n",
    "3. Выберите ту пару значений, которая даёт наилучшее среднее качество. \n",
    "\n",
    "Обучите случайный лес с подобранными гиперпараметрами на **полной обучающей** выборке. Оцените качество классификации по тем же метрикам. Какая из трёх построенных моделей показала себя лучше?"
   ]
  },
  {
   "cell_type": "code",
   "execution_count": 137,
   "outputs": [],
   "source": [
    "from sklearn.ensemble import RandomForestClassifier\n",
    "from sklearn.model_selection import cross_val_score\n",
    "from sklearn.metrics import make_scorer"
   ],
   "metadata": {
    "collapsed": false,
    "ExecuteTime": {
     "end_time": "2023-05-26T19:16:19.329252500Z",
     "start_time": "2023-05-26T19:16:19.310298300Z"
    }
   }
  },
  {
   "cell_type": "code",
   "execution_count": 138,
   "metadata": {
    "ExecuteTime": {
     "end_time": "2023-05-26T19:16:36.093182100Z",
     "start_time": "2023-05-26T19:16:24.458807200Z"
    }
   },
   "outputs": [
    {
     "name": "stdout",
     "output_type": "stream",
     "text": [
      "optimal max depth 7\n",
      "optimal min samples leaf 1\n"
     ]
    }
   ],
   "source": [
    "max_depths = [1, 2, 3, 5, 7, 10, 15, 20]\n",
    "min_samples_leafs = [1, 3, 5, 7, 10, 15]\n",
    "\n",
    "optimal_max_depth = None\n",
    "optimal_min_samples_leaf = None\n",
    "\n",
    "max_f1_score = None\n",
    "\n",
    "for i, max_depth in enumerate(max_depths):\n",
    "    for j, min_samples_leaf in enumerate(min_samples_leafs):\n",
    "        classifier = RandomForestClassifier(\n",
    "            n_estimators=50,\n",
    "            n_jobs=4,\n",
    "            max_depth=max_depth,\n",
    "            min_samples_leaf=min_samples_leaf,\n",
    "            random_state=10\n",
    "        )\n",
    "\n",
    "        f1_scores = cross_val_score(\n",
    "            estimator=classifier,\n",
    "            X=X_train,\n",
    "            y=Y_train,\n",
    "            cv=5,\n",
    "            scoring=make_scorer(f1_score)\n",
    "        )\n",
    "        mean_f1_score = f1_scores.mean()\n",
    "\n",
    "        if max_f1_score is None or mean_f1_score > max_f1_score:\n",
    "            max_f1_score = mean_f1_score\n",
    "            optimal_max_depth = max_depth\n",
    "            optimal_min_samples_leaf = min_samples_leaf\n",
    "\n",
    "print(f\"optimal max depth {optimal_max_depth}\")\n",
    "print(f\"optimal min samples leaf {optimal_min_samples_leaf}\")"
   ]
  },
  {
   "cell_type": "code",
   "execution_count": 140,
   "outputs": [],
   "source": [
    "rf_classifier = RandomForestClassifier(\n",
    "    n_estimators=50,\n",
    "    n_jobs=4,\n",
    "    max_depth=optimal_max_depth,\n",
    "    min_samples_leaf=optimal_min_samples_leaf,\n",
    "    random_state=10\n",
    ")\n",
    "\n",
    "rf_classifier.fit(X_train, Y_train);"
   ],
   "metadata": {
    "collapsed": false,
    "ExecuteTime": {
     "end_time": "2023-05-26T19:16:44.947632400Z",
     "start_time": "2023-05-26T19:16:44.880650400Z"
    }
   }
  },
  {
   "cell_type": "code",
   "execution_count": 141,
   "outputs": [
    {
     "name": "stdout",
     "output_type": "stream",
     "text": [
      "accuracy 0.74\n",
      "precision 0.765\n",
      "recall 0.448\n",
      "auc_roc 0.682\n"
     ]
    }
   ],
   "source": [
    "rf_prediction = rf_classifier.predict(X_test)\n",
    "\n",
    "print(f'accuracy {round(accuracy_score(Y_test, rf_prediction), 3)}')\n",
    "print(f'precision {round(precision_score(Y_test, rf_prediction), 3)}')\n",
    "print(f'recall {round(recall_score(Y_test, rf_prediction), 3)}')\n",
    "print(f'auc_roc {round(roc_auc_score(Y_test, rf_prediction), 3)}')"
   ],
   "metadata": {
    "collapsed": false,
    "ExecuteTime": {
     "end_time": "2023-05-26T19:16:47.790235300Z",
     "start_time": "2023-05-26T19:16:47.746438400Z"
    }
   }
  },
  {
   "cell_type": "markdown",
   "source": [
    "Для удобства оценивания сведем все вместе:"
   ],
   "metadata": {
    "collapsed": false
   }
  },
  {
   "cell_type": "code",
   "execution_count": 142,
   "outputs": [
    {
     "name": "stdout",
     "output_type": "stream",
     "text": [
      "Decision Tree scores:\n",
      "accuracy 0.723\n",
      "precision 0.646\n",
      "recall 0.586\n",
      "auc_roc 0.696\n",
      "\n",
      "Bagging:\n",
      "accuracy 0.771\n",
      "precision 0.793\n",
      "recall 0.529\n",
      "auc_roc 0.723\n",
      "\n",
      "Random Forest:\n",
      "accuracy 0.74\n",
      "precision 0.765\n",
      "recall 0.448\n",
      "auc_roc 0.682\n"
     ]
    }
   ],
   "source": [
    "print('Decision Tree scores:')\n",
    "print(f'accuracy {round(accuracy_score(Y_test, dt_prediction), 3)}')\n",
    "print(f'precision {round(precision_score(Y_test, dt_prediction), 3)}')\n",
    "print(f'recall {round(recall_score(Y_test, dt_prediction), 3)}')\n",
    "print(f'auc_roc {round(roc_auc_score(Y_test, dt_prediction), 3)}')\n",
    "\n",
    "print()\n",
    "print('Bagging:')\n",
    "print(f'accuracy {round(accuracy_score(Y_test, bag_prediction), 3)}')\n",
    "print(f'precision {round(precision_score(Y_test, bag_prediction), 3)}')\n",
    "print(f'recall {round(recall_score(Y_test, bag_prediction), 3)}')\n",
    "print(f'auc_roc {round(roc_auc_score(Y_test, bag_prediction), 3)}')\n",
    "\n",
    "print()\n",
    "print('Random Forest:')\n",
    "print(f'accuracy {round(accuracy_score(Y_test, rf_prediction), 3)}')\n",
    "print(f'precision {round(precision_score(Y_test, rf_prediction), 3)}')\n",
    "print(f'recall {round(recall_score(Y_test, rf_prediction), 3)}')\n",
    "print(f'auc_roc {round(roc_auc_score(Y_test, rf_prediction), 3)}')"
   ],
   "metadata": {
    "collapsed": false,
    "ExecuteTime": {
     "end_time": "2023-05-26T19:16:59.388352900Z",
     "start_time": "2023-05-26T19:16:59.356388200Z"
    }
   }
  },
  {
   "cell_type": "markdown",
   "source": [
    "Стоит заметить, что доля отрицательного класса примерно 66% от всего датасета, поэтому $accuracy \\in [0.66; 1]$, да и в целом анализировать accuracy из-за дисбаланса классов довольно сомнительно.\n",
    "\n",
    "Вывод:\n",
    "* мне кажется, что BaggingClassifier лучше всего показал себя, потому что у него самые высокие precision и auc_roc, и при этом средний recall"
   ],
   "metadata": {
    "collapsed": false
   }
  },
  {
   "cell_type": "markdown",
   "metadata": {},
   "source": [
    "**Задание 3.5 (0.5 балла)** Постройте график зависимости AUC ROC на тестовой выборке от числа деревьев (`n_estimators`) для случайного леса, обучаемого на **полной обучающей** выборке. Какие выводы можно сделать?"
   ]
  },
  {
   "cell_type": "code",
   "execution_count": 143,
   "metadata": {
    "ExecuteTime": {
     "end_time": "2023-05-26T19:17:20.556753100Z",
     "start_time": "2023-05-26T19:17:13.888036600Z"
    }
   },
   "outputs": [],
   "source": [
    "n_estimators = np.arange(start=1, stop=100, step=1)\n",
    "auc_roc_scores = []\n",
    "\n",
    "for n in n_estimators:\n",
    "    random_forest_class = RandomForestClassifier(\n",
    "        n_estimators=n,\n",
    "        n_jobs=4,\n",
    "        max_depth=7,\n",
    "        min_samples_leaf=1,\n",
    "        random_state=10\n",
    "    )\n",
    "    random_forest_class.fit(X_train, Y_train)\n",
    "    auc_roc_scores.append(roc_auc_score(Y_test, random_forest_class.predict(X_test)))"
   ]
  },
  {
   "cell_type": "code",
   "execution_count": 144,
   "outputs": [
    {
     "data": {
      "text/plain": "<Figure size 600x600 with 1 Axes>",
      "image/png": "[encoded data removed]"
     },
     "metadata": {},
     "output_type": "display_data"
    }
   ],
   "source": [
    "plt.figure(figsize=(6, 6))\n",
    "plt.plot(n_estimators, auc_roc_scores)\n",
    "plt.title('AUC ROC dependence on trees count')\n",
    "plt.xlabel('n_estimators')\n",
    "plt.ylabel('AUC ROC score');"
   ],
   "metadata": {
    "collapsed": false,
    "ExecuteTime": {
     "end_time": "2023-05-26T19:17:22.722796200Z",
     "start_time": "2023-05-26T19:17:22.490148600Z"
    }
   }
  },
  {
   "cell_type": "markdown",
   "source": [
    "Выводы:\n",
    "1) Самый заметный факт - это то, что примерно после 50 деревьев AUC ROC случайного леса перестает сильно изменяться и по сути выходит на плато. То есть можно сказать, что случайный лес не переобучается с увеличением количества деревьев\n",
    "2) Судя по графику, самое лучшее количество деревьев для этого датасета - примерно 5-7."
   ],
   "metadata": {
    "collapsed": false
   }
  },
  {
   "cell_type": "markdown",
   "metadata": {},
   "source": [
    "**Задание 3.6 (0.5 балла)** Для лучшей модели случайного леса из **Задания 3.4** посчитайте важность признаков и постройте bar plot. Какой признак оказался самым важным для определения диабета?"
   ]
  },
  {
   "cell_type": "code",
   "execution_count": 145,
   "outputs": [],
   "source": [
    "from sklearn.inspection import permutation_importance"
   ],
   "metadata": {
    "collapsed": false,
    "ExecuteTime": {
     "end_time": "2023-05-26T19:17:27.240583300Z",
     "start_time": "2023-05-26T19:17:27.218754300Z"
    }
   }
  },
  {
   "cell_type": "code",
   "execution_count": 146,
   "metadata": {
    "ExecuteTime": {
     "end_time": "2023-05-26T19:17:28.181258100Z",
     "start_time": "2023-05-26T19:17:28.102542400Z"
    }
   },
   "outputs": [],
   "source": [
    "rf_classifier = RandomForestClassifier(\n",
    "    n_estimators=50,\n",
    "    n_jobs=4,\n",
    "    max_depth=optimal_max_depth,\n",
    "    min_samples_leaf=optimal_min_samples_leaf,\n",
    "    random_state=10\n",
    ")\n",
    "rf_classifier.fit(X_train, Y_train);"
   ]
  },
  {
   "cell_type": "code",
   "execution_count": 147,
   "outputs": [
    {
     "data": {
      "text/plain": "Pregnancies                -0.001299\nGlucose                     0.093506\nBloodPressure               0.006061\nSkinThickness              -0.006926\nInsulin                    -0.008658\nBMI                         0.038961\nDiabetesPedigreeFunction   -0.004329\nAge                         0.010823\ndtype: float64"
     },
     "execution_count": 147,
     "metadata": {},
     "output_type": "execute_result"
    }
   ],
   "source": [
    "feature_importance = permutation_importance(\n",
    "    estimator=rf_classifier,\n",
    "    X=X_test,\n",
    "    y=Y_test,\n",
    "    n_repeats=10,\n",
    "    random_state=10,\n",
    "    n_jobs=4\n",
    ")\n",
    "random_forest_importances = pd.Series(data=feature_importance['importances_mean'], index=X_test.columns)\n",
    "random_forest_importances"
   ],
   "metadata": {
    "collapsed": false,
    "ExecuteTime": {
     "end_time": "2023-05-26T19:17:30.167855400Z",
     "start_time": "2023-05-26T19:17:29.225596600Z"
    }
   }
  },
  {
   "cell_type": "code",
   "execution_count": 148,
   "outputs": [
    {
     "data": {
      "text/plain": "<Figure size 640x480 with 1 Axes>",
      "image/png": "[encoded data removed]"
     },
     "metadata": {},
     "output_type": "display_data"
    }
   ],
   "source": [
    "figure, ax = plt.subplots()\n",
    "random_forest_importances.plot.bar(yerr=feature_importance['importances_std'], ax=ax)\n",
    "\n",
    "ax.set_title('Feature importance of RandomForestClassifier for diabetes detection')\n",
    "ax.set_ylabel('Mean importance');"
   ],
   "metadata": {
    "collapsed": false,
    "ExecuteTime": {
     "end_time": "2023-05-26T19:17:42.562385700Z",
     "start_time": "2023-05-26T19:17:42.344849Z"
    }
   }
  },
  {
   "cell_type": "markdown",
   "source": [
    "Вывод:\n",
    "Нетрудно заметить, что содержание глюкозы в крови является самым важным признаком для определения диабета. Также высокую значимость имеет индекс массы тела (BMI)."
   ],
   "metadata": {
    "collapsed": false
   }
  },
  {
   "cell_type": "code",
   "execution_count": null,
   "outputs": [],
   "source": [],
   "metadata": {
    "collapsed": false
   }
  }
 ],
 "metadata": {
  "kernelspec": {
   "display_name": "Python 3",
   "language": "python",
   "name": "python3"
  },
  "language_info": {
   "codemirror_mode": {
    "name": "ipython",
    "version": 3
   },
   "file_extension": ".py",
   "mimetype": "text/x-python",
   "name": "python",
   "nbconvert_exporter": "python",
   "pygments_lexer": "ipython3",
   "version": "3.8.5"
  }
 },
 "nbformat": 4,
 "nbformat_minor": 4
}
