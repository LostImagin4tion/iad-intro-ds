{
 "cells": [
  {
   "cell_type": "markdown",
   "metadata": {},
   "source": [
    "# Интеллектуальный анализ данных – весна 2022\n",
    "\n",
    "# Домашнее задание 7: Деревья. Случайный лес\n",
    "\n",
    "Правила:\n",
    "\n",
    "- Домашнее задание оценивается в 10 баллов (+1 бонусный балл).\n",
    "\n",
    "\n",
    "- Можно использовать без доказательства любые результаты, встречавшиеся на лекциях или семинарах по курсу, если получение этих результатов не является вопросом задания.\n",
    "\n",
    "\n",
    "- Можно использовать любые свободные источники с обязательным указанием ссылки на них.\n",
    "\n",
    "\n",
    "- Плагиат не допускается. При обнаружении случаев списывания, 0 за работу выставляется всем участникам нарушения, даже если можно установить, кто у кого списал.\n",
    "\n",
    "<!-- ![](meme.jpg) -->\n",
    "<img src=\"meme.jpg\" alt=\"Drawing\" style=\"width: 700px;\"/>"
   ]
  },
  {
   "cell_type": "markdown",
   "metadata": {},
   "source": [
    "## Часть 1: Основы построения решающие дерева (1.5 балла)\n",
    "\n",
    "В этой части все расчёты необходимо реализовывать в виде запрограммированных формул, например, на `numpy`. **Нельзя использовать готовые реализации**. Например, если в задании требуется рассчитать энтропию, то требуется в каком-то виде релизовать расчёт по формуле, но нельзя использовать готовую реализацию `some_module.entropy()`."
   ]
  },
  {
   "cell_type": "code",
   "execution_count": 154,
   "metadata": {
    "ExecuteTime": {
     "end_time": "2023-05-29T22:05:41.257674100Z",
     "start_time": "2023-05-29T22:05:41.237727Z"
    }
   },
   "outputs": [],
   "source": [
    "import numpy as np\n",
    "import pandas as pd\n",
    "import matplotlib.pyplot as plt"
   ]
  },
  {
   "cell_type": "markdown",
   "metadata": {},
   "source": [
    "**Задание 1.1 (0.5 балла)** Пусть известно, что в вершину решающего дерева попали 10 объектов, 8 из которых имеют метку класса $k_1$, а 2 имеют метку класса $k_2$. Рассчитайте энтропию такого распределения классов (с натуральным логарифмом). Ответ округлите до двух знаков после запятой."
   ]
  },
  {
   "cell_type": "markdown",
   "source": [
    "Пусть $k_1 = 1, k_2 = 0$"
   ],
   "metadata": {
    "collapsed": false
   }
  },
  {
   "cell_type": "code",
   "execution_count": 155,
   "metadata": {
    "ExecuteTime": {
     "end_time": "2023-05-29T22:05:42.702803600Z",
     "start_time": "2023-05-29T22:05:42.654930400Z"
    }
   },
   "outputs": [
    {
     "data": {
      "text/plain": "0.5004024235381879"
     },
     "execution_count": 155,
     "metadata": {},
     "output_type": "execute_result"
    }
   ],
   "source": [
    "objects = [1, 1, 1, 1, 1, 1, 1, 1, 0, 0]\n",
    "probabilities = np.bincount(objects) / len(objects)\n",
    "-np.sum(list(map(lambda p: p * np.log(p), probabilities)))"
   ]
  },
  {
   "cell_type": "markdown",
   "metadata": {},
   "source": [
    "**Задание 1.2 (0.5 балла)** Пусть дополнительно известно, что вершина из предыдущего задания не является листовой и возможно такое разбиение, что в левое поддерево попадут все объекты класса $k_1$, а в правое - класса $k_2$. Посчитайте критерий информативности:\n",
    "\n",
    "$$\n",
    "Q(R_m, j, t) = H(R_m) - \\frac{|R_\\ell|}{|R_m|}H(R_\\ell) - \\frac{|R_r|}{|R_m|}H(R_r),\n",
    "$$\n",
    "\n",
    "где $R_m$ - множество объектов в разбиваемой вершине, $j$ - номер признака, по которому происходит разбиение, $t$ - порог разбиения, $R_\\ell$ - множество объектов в левом поддереве, $R_r$ - множество объектов в правом поддереве.\n",
    "\n",
    "Теперь в качестве $H(R)$ будем использовать индекс Джини:\n",
    "\n",
    "$$\n",
    "H(R) = \\sum_{k=1}^J p_k(1-p_k),\n",
    "$$\n",
    "где $J$ – общее количество классов (в нашем случае, $J = 2$).\n",
    "\n",
    "Ответ округлите до двух знаков после запятой."
   ]
  },
  {
   "cell_type": "code",
   "execution_count": 156,
   "metadata": {
    "ExecuteTime": {
     "end_time": "2023-05-29T22:05:44.130945700Z",
     "start_time": "2023-05-29T22:05:44.100028900Z"
    }
   },
   "outputs": [
    {
     "data": {
      "text/plain": "0.32"
     },
     "execution_count": 156,
     "metadata": {},
     "output_type": "execute_result"
    }
   ],
   "source": [
    "def calc_jini(objects: list):\n",
    "    probs = np.bincount(objects) / len(objects)\n",
    "    return np.sum(list(map(lambda p: p * (1 - p), probs)))\n",
    "\n",
    "Rl_objects = [1, 1, 1, 1, 1, 1, 1, 1]\n",
    "Rr_objects = [0, 0]\n",
    "Rm_objects = Rl_objects + Rr_objects\n",
    "\n",
    "Rl = len(Rl_objects)\n",
    "Rr = len(Rr_objects)\n",
    "Rm = len(Rm_objects)\n",
    "\n",
    "Q = calc_jini(Rm_objects) - Rl / Rm * calc_jini(Rl_objects) - Rr / Rm * calc_jini(Rr_objects)\n",
    "Q = round(Q, 2)\n",
    "Q"
   ]
  },
  {
   "cell_type": "markdown",
   "metadata": {},
   "source": [
    "**Задание 1.3 (0.5 балла)** Пусть при построении дерева образовалась листовая вершина с 10 объектами, значения целевой переменной для которых следующие: [1, 10, 5, 18, 100, 30, 50, 61, 84, 47] (решается задача регрессии). Чему будут равны предсказания модели для этих объектов?"
   ]
  },
  {
   "cell_type": "markdown",
   "source": [
    "В задаче регрессии предсказание в листе равно среднему значению целевой переменной для всех объектов в листе"
   ],
   "metadata": {
    "collapsed": false
   }
  },
  {
   "cell_type": "code",
   "execution_count": 157,
   "metadata": {
    "ExecuteTime": {
     "end_time": "2023-05-29T22:05:45.670139Z",
     "start_time": "2023-05-29T22:05:45.653184500Z"
    }
   },
   "outputs": [
    {
     "data": {
      "text/plain": "40.6"
     },
     "execution_count": 157,
     "metadata": {},
     "output_type": "execute_result"
    }
   ],
   "source": [
    "targets = [1, 10, 5, 18, 100, 30, 50, 61, 84, 47]\n",
    "np.mean(targets)"
   ]
  },
  {
   "cell_type": "markdown",
   "metadata": {},
   "source": [
    "## Часть 2: Решающие деревья (4.5 балла)\n",
    "\n",
    "В этой части мы напишем и протестируем собственную реализацию решающего дерева."
   ]
  },
  {
   "cell_type": "code",
   "execution_count": 158,
   "metadata": {
    "ExecuteTime": {
     "end_time": "2023-05-29T22:05:46.617098100Z",
     "start_time": "2023-05-29T22:05:46.590726900Z"
    }
   },
   "outputs": [],
   "source": [
    "from collections import Counter\n",
    "from typing import Dict, List, Tuple, Union"
   ]
  },
  {
   "cell_type": "markdown",
   "metadata": {},
   "source": [
    "**Задание 2.1 (1.5 балла)** Реализуйте функцию `find_best_split()`, которая должна находить оптимальное разбиение подмножества обучающей выборки в соответствии с информационным критерием из **Задания 1.2**. В качестве меры хаотичности $H(R)$ для задачи регрессии испольуйте дисперсию подвыборки, а для задачи классификации – критерий Джини (определён в том же задании).\n",
    "\n",
    "Для категориальных признаков применяется наивный алгоритм разбиения: мы пытаемся найти одно значение, разбиение по которому сильнее всего увеличит критерий информативности. Иными словами, объекты с конкретным значением признака отправляем в левое поддерево, остальные - в правое. Обратите внимание, что это далеко не оптимальные способ учёта категориальных признаков. Например, можно было бы на каждое значение категориального признака создавать отдельное поддерево или использовать более сложные подходы. Подробнее об этом можно прочитать в конспектах [лекций](https://github.com/esokolov/ml-course-hse/blob/master/2019-fall/lecture-notes/lecture07-trees.pdf) по машинному обучению на ПМИ (раздел «Учёт категориальных признаков»).\n",
    "\n",
    "В качестве подсказок реализации можете пользоваться кодом из бонусной части семинара по решающим деревьям.\n",
    "\n",
    "**Бонус:** Разрешается делать цикл для перебора порогов, но возможна имплементация без него. За имплементацию без цикла – **бонус 1 балл**."
   ]
  },
  {
   "cell_type": "markdown",
   "source": [
    "Для подсчёта критерия информативности буду использовать эту формулку, потому что она оптимальнее:\n",
    "$$\n",
    "Q(R_m, j, t) = \\frac{|R_\\ell|}{|R_m|}H(R_\\ell) + \\frac{|R_r|}{|R_m|}H(R_r) → \\min_{j, t}\n",
    "$$"
   ],
   "metadata": {
    "collapsed": false
   }
  },
  {
   "cell_type": "code",
   "execution_count": 159,
   "outputs": [],
   "source": [
    "# Хаотичность для задачи классификации и категориальных признаков\n",
    "def calc_jini(objects: np.ndarray):\n",
    "    probs = list(map(lambda x: np.sum(objects == x) / objects.shape[0], np.unique(objects)))\n",
    "    return np.sum(list(map(lambda p: p * (1 - p), probs)))"
   ],
   "metadata": {
    "collapsed": false,
    "ExecuteTime": {
     "end_time": "2023-05-29T22:05:48.078699900Z",
     "start_time": "2023-05-29T22:05:48.054634700Z"
    }
   }
  },
  {
   "cell_type": "code",
   "execution_count": 160,
   "outputs": [],
   "source": [
    "# Хаотичность для задачи регрессии\n",
    "def calc_dispersion(objects: np.ndarray):\n",
    "    return objects.std()**2"
   ],
   "metadata": {
    "collapsed": false,
    "ExecuteTime": {
     "end_time": "2023-05-29T22:05:48.602956Z",
     "start_time": "2023-05-29T22:05:48.580119100Z"
    }
   }
  },
  {
   "cell_type": "code",
   "execution_count": 161,
   "outputs": [],
   "source": [
    "# Критерий информативности\n",
    "def calc_informative_criterion(\n",
    "    left_child_variance: float,\n",
    "    right_child_variance: float,\n",
    "    left_child_size: int,\n",
    "    right_child_size: int,\n",
    ") -> float:\n",
    "    if left_child_size == 0 and right_child_size == 0:\n",
    "        raise ValueError('children sizes cant be zero')\n",
    "\n",
    "    parent_size = left_child_size + right_child_size\n",
    "\n",
    "    return left_child_variance * left_child_size / parent_size + right_child_variance * right_child_size / parent_size"
   ],
   "metadata": {
    "collapsed": false,
    "ExecuteTime": {
     "end_time": "2023-05-29T22:05:49.075135100Z",
     "start_time": "2023-05-29T22:05:49.054984300Z"
    }
   }
  },
  {
   "cell_type": "code",
   "execution_count": 162,
   "outputs": [],
   "source": [
    "def calculate_criterion_regression(\n",
    "    features: Union[np.ndarray, pd.DataFrame],\n",
    "    target: Union[np.ndarray, pd.DataFrame],\n",
    "    threshold: Union[int, str],\n",
    "    feature_type: str\n",
    ") -> float:\n",
    "\n",
    "    if feature_type == 'real':\n",
    "        left_child: np.ndarray = target[features < threshold]\n",
    "        right_child: np.ndarray = target[features > threshold]\n",
    "\n",
    "        left_variance = calc_dispersion(left_child)\n",
    "        right_variance = calc_dispersion(right_child)\n",
    "\n",
    "    else:\n",
    "        left_child: np.ndarray = target[features == threshold]\n",
    "        right_child: np.ndarray = target[features != threshold]\n",
    "\n",
    "        left_variance = calc_jini(left_child)\n",
    "        right_variance = calc_jini(right_child)\n",
    "\n",
    "    return calc_informative_criterion(left_variance, right_variance, left_child.shape[0], right_child.shape[0])\n"
   ],
   "metadata": {
    "collapsed": false,
    "ExecuteTime": {
     "end_time": "2023-05-29T22:05:50.299519700Z",
     "start_time": "2023-05-29T22:05:50.279585400Z"
    }
   }
  },
  {
   "cell_type": "code",
   "execution_count": 131,
   "outputs": [],
   "source": [
    "def calculate_criterion_classification(\n",
    "    features: Union[np.ndarray, pd.DataFrame],\n",
    "    target: Union[np.ndarray, pd.DataFrame],\n",
    "    threshold: Union[int, str],\n",
    "    feature_type: str\n",
    "):\n",
    "    if feature_type == 'real':\n",
    "        left_child: np.ndarray = target[features < threshold]\n",
    "        right_child: np.ndarray = target[features > threshold]\n",
    "    else:\n",
    "        left_child: np.ndarray = target[features == threshold]\n",
    "        right_child: np.ndarray = target[features != threshold]\n",
    "\n",
    "    left_variance = calc_jini(left_child)\n",
    "    right_variance = calc_jini(right_child)\n",
    "\n",
    "    return calc_informative_criterion(left_variance, right_variance, left_child.shape[0], right_child.shape[0])"
   ],
   "metadata": {
    "collapsed": false,
    "ExecuteTime": {
     "end_time": "2023-05-29T22:04:43.670203900Z",
     "start_time": "2023-05-29T22:04:42.858301200Z"
    }
   }
  },
  {
   "cell_type": "code",
   "execution_count": 132,
   "outputs": [],
   "source": [
    "def find_best_split(\n",
    "    feature_vector: Union[np.ndarray, pd.DataFrame],\n",
    "    target_vector: Union[np.ndarray, pd.Series],\n",
    "    task: str = \"classification\",\n",
    "    feature_type: str = \"real\"\n",
    ") -> Tuple[np.ndarray, np.ndarray, float, float]:\n",
    "    \"\"\"\n",
    "    Указания:\n",
    "    * Пороги, приводящие к попаданию в одно из поддеревьев пустого множества объектов, не рассматриваются.\n",
    "    * В качестве порогов, нужно брать среднее двух соседних (при сортировке) значений признака\n",
    "    * Поведение функции в случае константного признака может быть любым.\n",
    "    * При одинаковых приростах Джини или дисперсии нужно выбирать минимальный сплит.\n",
    "    * За наличие в функции циклов балл будет снижен. Векторизуйте! :)\n",
    "\n",
    "    :param feature_vector: вещественнозначный вектор значений признака\n",
    "    :param target_vector: вектор классов объектов, len(feature_vector) == len(target_vector)\n",
    "    :param task: либо `classification`, либо `regression`\n",
    "    :param feature_type: либо `real`, либо `categorical`\n",
    "\n",
    "    :return thresholds: отсортированный по возрастанию вектор со всеми возможными порогами, по которым объекты можно\n",
    "     разделить на две различные подвыборки, или поддерева\n",
    "    :return ginis: вектор со значениями критерия Джини для каждого из порогов в thresholds len(ginis) == len(thresholds)\n",
    "    :return threshold_best: оптимальный порог (число)\n",
    "    :return gini_best: оптимальное значение критерия Джини (число)\n",
    "    \"\"\"\n",
    "\n",
    "    if task != 'classification' and task != 'regression':\n",
    "        raise ValueError('task can be either classification or regresion')\n",
    "\n",
    "    if feature_type != 'real' and feature_type != 'categorical':\n",
    "        raise ValueError('feature type can be either real or categorical')\n",
    "\n",
    "    if feature_type == 'real':\n",
    "        thresholds = ( np.unique(feature_vector)[:-1] + np.unique(feature_vector)[1:] ) / 2\n",
    "    else:\n",
    "        thresholds =np.unique(feature_vector)\n",
    "\n",
    "    if task == 'regression':\n",
    "        criterions = np.array(list(map(\n",
    "            lambda x: calculate_criterion_regression(\n",
    "                features=feature_vector,\n",
    "                target=target_vector,\n",
    "                threshold=x,\n",
    "                feature_type=feature_type\n",
    "            ),\n",
    "            thresholds\n",
    "        )))\n",
    "    else:\n",
    "        criterions = np.array(list(map(\n",
    "            lambda x: calculate_criterion_classification(\n",
    "                features=feature_vector,\n",
    "                target=target_vector,\n",
    "                threshold=x,\n",
    "                feature_type=feature_type\n",
    "            ),\n",
    "            thresholds\n",
    "        )))\n",
    "\n",
    "    threshold_best = thresholds[np.argmin(criterions)]\n",
    "    criterion_best = np.amin(thresholds)\n",
    "\n",
    "    return thresholds, criterions, threshold_best, criterion_best\n"
   ],
   "metadata": {
    "collapsed": false,
    "ExecuteTime": {
     "end_time": "2023-05-29T22:04:43.670203900Z",
     "start_time": "2023-05-29T22:04:42.874432200Z"
    }
   }
  },
  {
   "cell_type": "markdown",
   "source": [
    "Эту функцию можно протестировать на датасете `California`."
   ],
   "metadata": {
    "collapsed": false
   }
  },
  {
   "cell_type": "code",
   "execution_count": 133,
   "outputs": [],
   "source": [
    "from sklearn.datasets import fetch_california_housing"
   ],
   "metadata": {
    "collapsed": false,
    "ExecuteTime": {
     "end_time": "2023-05-29T22:04:43.672198400Z",
     "start_time": "2023-05-29T22:04:42.887504400Z"
    }
   }
  },
  {
   "cell_type": "code",
   "execution_count": 134,
   "outputs": [
    {
     "data": {
      "text/plain": "   MedInc  HouseAge  AveRooms  AveBedrms  Population  AveOccup  Latitude  \\\n0  8.3252      41.0  6.984127   1.023810       322.0  2.555556     37.88   \n1  8.3014      21.0  6.238137   0.971880      2401.0  2.109842     37.86   \n2  7.2574      52.0  8.288136   1.073446       496.0  2.802260     37.85   \n3  5.6431      52.0  5.817352   1.073059       558.0  2.547945     37.85   \n4  3.8462      52.0  6.281853   1.081081       565.0  2.181467     37.85   \n\n   Longitude  \n0    -122.23  \n1    -122.22  \n2    -122.24  \n3    -122.25  \n4    -122.25  ",
      "text/html": "<div>\n<style scoped>\n    .dataframe tbody tr th:only-of-type {\n        vertical-align: middle;\n    }\n\n    .dataframe tbody tr th {\n        vertical-align: top;\n    }\n\n    .dataframe thead th {\n        text-align: right;\n    }\n</style>\n<table border=\"1\" class=\"dataframe\">\n  <thead>\n    <tr style=\"text-align: right;\">\n      <th></th>\n      <th>MedInc</th>\n      <th>HouseAge</th>\n      <th>AveRooms</th>\n      <th>AveBedrms</th>\n      <th>Population</th>\n      <th>AveOccup</th>\n      <th>Latitude</th>\n      <th>Longitude</th>\n    </tr>\n  </thead>\n  <tbody>\n    <tr>\n      <th>0</th>\n      <td>8.3252</td>\n      <td>41.0</td>\n      <td>6.984127</td>\n      <td>1.023810</td>\n      <td>322.0</td>\n      <td>2.555556</td>\n      <td>37.88</td>\n      <td>-122.23</td>\n    </tr>\n    <tr>\n      <th>1</th>\n      <td>8.3014</td>\n      <td>21.0</td>\n      <td>6.238137</td>\n      <td>0.971880</td>\n      <td>2401.0</td>\n      <td>2.109842</td>\n      <td>37.86</td>\n      <td>-122.22</td>\n    </tr>\n    <tr>\n      <th>2</th>\n      <td>7.2574</td>\n      <td>52.0</td>\n      <td>8.288136</td>\n      <td>1.073446</td>\n      <td>496.0</td>\n      <td>2.802260</td>\n      <td>37.85</td>\n      <td>-122.24</td>\n    </tr>\n    <tr>\n      <th>3</th>\n      <td>5.6431</td>\n      <td>52.0</td>\n      <td>5.817352</td>\n      <td>1.073059</td>\n      <td>558.0</td>\n      <td>2.547945</td>\n      <td>37.85</td>\n      <td>-122.25</td>\n    </tr>\n    <tr>\n      <th>4</th>\n      <td>3.8462</td>\n      <td>52.0</td>\n      <td>6.281853</td>\n      <td>1.081081</td>\n      <td>565.0</td>\n      <td>2.181467</td>\n      <td>37.85</td>\n      <td>-122.25</td>\n    </tr>\n  </tbody>\n</table>\n</div>"
     },
     "execution_count": 134,
     "metadata": {},
     "output_type": "execute_result"
    }
   ],
   "source": [
    "data = fetch_california_housing()\n",
    "X = pd.DataFrame(data=data[\"data\"], columns=data[\"feature_names\"])\n",
    "y = data[\"target\"]\n",
    "X.head()"
   ],
   "metadata": {
    "collapsed": false,
    "ExecuteTime": {
     "end_time": "2023-05-29T22:04:43.677270200Z",
     "start_time": "2023-05-29T22:04:42.902598800Z"
    }
   }
  },
  {
   "cell_type": "code",
   "execution_count": 135,
   "outputs": [],
   "source": [
    "thresholds, criterions, threshold_best, criterion_best = find_best_split(\n",
    "    X['MedInc'].to_numpy(),\n",
    "    y,\n",
    "    task='regression',\n",
    "    feature_type='real'\n",
    ")"
   ],
   "metadata": {
    "collapsed": false,
    "ExecuteTime": {
     "end_time": "2023-05-29T22:04:45.807161500Z",
     "start_time": "2023-05-29T22:04:42.933799400Z"
    }
   }
  },
  {
   "cell_type": "markdown",
   "source": [
    "Выведите график зависимости значения критерия ошибки от порогового значения при разбиении вершины по признаку `MedInc`."
   ],
   "metadata": {
    "collapsed": false
   }
  },
  {
   "cell_type": "code",
   "execution_count": 136,
   "outputs": [
    {
     "data": {
      "text/plain": "<Figure size 800x600 with 1 Axes>",
      "image/png": "[encoded data removed]"
     },
     "metadata": {},
     "output_type": "display_data"
    }
   ],
   "source": [
    "plt.figure(figsize=(8, 6))\n",
    "plt.scatter(thresholds, criterions)\n",
    "\n",
    "plt.title('Error criterion dependence on threshold')\n",
    "plt.xlabel('Threshold')\n",
    "plt.ylabel('Informative criterion');"
   ],
   "metadata": {
    "collapsed": false,
    "ExecuteTime": {
     "end_time": "2023-05-29T22:04:46.036095800Z",
     "start_time": "2023-05-29T22:04:45.809154700Z"
    }
   }
  },
  {
   "cell_type": "markdown",
   "source": [
    "Найдите лучший, с вашей точки зрения, предикат первой вершины решающего дерева."
   ],
   "metadata": {
    "collapsed": false
   }
  },
  {
   "cell_type": "code",
   "execution_count": 137,
   "outputs": [],
   "source": [
    "# ᕕ(╭ರ╭ ͟ʖ╮•́)⊃¤=(————"
   ],
   "metadata": {
    "collapsed": false,
    "ExecuteTime": {
     "end_time": "2023-05-29T22:04:46.094887300Z",
     "start_time": "2023-05-29T22:04:46.033109200Z"
    }
   }
  },
  {
   "cell_type": "markdown",
   "source": [
    "**Задание 2.2 (1 балл)** Разберитесь с написанным кодом решающего дерева, заполните пропуски в коде и реализуйте недостающий метод `_predict_node()`.\n",
    "\n",
    "Построение дерева осуществляется согласно базовому жадному алгоритму, предложенному в лекции в разделе «Построение дерева».\n",
    "- **Выбор лучшего разбиения** необходимо производить по критерию Джини.\n",
    "- **Критерий останова:** все объекты в листе относятся к одному классу или ни по одному признаку нельзя разбить выборку.\n",
    "- **Ответ в листе:** наиболее часто встречающийся класс в листе.\n",
    "\n",
    "В задаче также предлагается получить два бонуса, по баллу на каждый!\n",
    "\n",
    "- **Реализуйте способ обрабатывать пропуски в даннх и реализуйте его, пояснив свои действия.**\n",
    "- **Реализуйте метод оценки важности признаков.**"
   ],
   "metadata": {
    "collapsed": false
   }
  },
  {
   "cell_type": "code",
   "execution_count": 138,
   "outputs": [],
   "source": [
    "class DecisionTree:\n",
    "\n",
    "    def __init__(\n",
    "            self,\n",
    "            feature_types: Union[List[str], np.ndarray],\n",
    "            max_depth: int = None,\n",
    "            min_samples_split: int = None,\n",
    "            min_samples_leaf: int = None,\n",
    "            task: str = \"classification\"\n",
    "    ) -> None:\n",
    "\n",
    "        if np.any(list(map(lambda x: x != \"real\" and x != \"categorical\", feature_types))):\n",
    "            raise ValueError(\"There is unknown feature type\")\n",
    "\n",
    "        # В этой переменной будем хранить узлы решающего дерева. Каждая вершина хранит в себе идентификатор того,\n",
    "        # является ли она листовой. Листовые вершины хранят значение класса для предсказания, нелистовые - правого и\n",
    "        # левого детей (поддеревья для продолжения процедуры предсказания)\n",
    "        self._tree = {}\n",
    "\n",
    "        # типы признаков (категориальные или числовые)\n",
    "        self._feature_types = feature_types\n",
    "\n",
    "        # гиперпараметры дерева\n",
    "        self._max_depth = max_depth\n",
    "        self._min_samples_split = min_samples_split\n",
    "        self._min_samples_leaf = min_samples_leaf\n",
    "        self.task = task\n",
    "\n",
    "    def _fit_node(\n",
    "            self,\n",
    "            sub_X: np.ndarray,\n",
    "            sub_y: np.ndarray,\n",
    "            node: dict\n",
    "    ) -> None:\n",
    "\n",
    "        # критерий останова\n",
    "        if np.all(sub_y == sub_y[0]):\n",
    "            node[\"type\"] = \"terminal\"\n",
    "            node[\"class\"] = sub_y[0]\n",
    "            return\n",
    "\n",
    "        feature_best, threshold_best, gini_best, split = None, None, None, None\n",
    "        for feature in range(sub_X.shape[1]):\n",
    "            feature_type = self._feature_types[feature]\n",
    "            categories_map = {}\n",
    "\n",
    "            # подготавливаем признак для поиска оптимального порога\n",
    "            if feature_type == \"real\":\n",
    "                feature_vector = sub_X[:, feature]\n",
    "            elif feature_type == \"categorical\":\n",
    "                # здесь могла быть реализация более сложного подхода к обработке категориального признака\n",
    "                feature_vector = sub_X.iloc[:, feature]\n",
    "\n",
    "            # ищем оптимальный порог\n",
    "            _, _, threshold, gini = find_best_split(feature_vector, sub_y, self.task, feature_type)\n",
    "\n",
    "            if gini_best is None or gini > gini_best:\n",
    "                feature_best = feature\n",
    "                gini_best = gini\n",
    "\n",
    "                # split - маска на объекты, которые должны попасть в левое поддерево\n",
    "                if feature_type == \"real\":\n",
    "                    threshold_best = threshold\n",
    "                    split = feature_vector < threshold_best\n",
    "                elif feature_type == \"categorical\":\n",
    "                    # в данной реализации это просто значение категории\n",
    "                    threshold_best = threshold\n",
    "                    split = feature_vector == threshold_best\n",
    "                else:\n",
    "                    raise ValueError\n",
    "\n",
    "        # записываем полученные сплиты в атрибуты класса\n",
    "        if feature_best is None:\n",
    "            node[\"type\"] = \"terminal\"\n",
    "            node[\"class\"] = Counter(sub_y).most_common(1)[0][0]\n",
    "            return\n",
    "\n",
    "        node[\"type\"] = \"nonterminal\"\n",
    "\n",
    "        node[\"feature_split\"] = feature_best\n",
    "        if self._feature_types[feature_best] == \"real\":\n",
    "            node[\"threshold\"] = threshold_best\n",
    "        elif self._feature_types[feature_best] == \"categorical\":\n",
    "            node[\"category_split\"] = threshold_best\n",
    "        else:\n",
    "            raise ValueError\n",
    "\n",
    "        node[\"left_child\"], node[\"right_child\"] = {}, {}\n",
    "        self._fit_node(sub_X[split], sub_y[split], node[\"left_child\"])\n",
    "        self._fit_node(sub_X[np.logical_not(split)], sub_y[np.logical_not(split)], node[\"right_child\"])\n",
    "\n",
    "    def _predict_node(self, x: np.ndarray, node: dict) -> int:\n",
    "        \"\"\"\n",
    "        Предсказание начинается с корневой вершины дерева и рекурсивно идёт в левое или правое поддерево в зависимости от значения\n",
    "        предиката на объекте. Листовая вершина возвращает предсказание.\n",
    "        :param x: np.array, элемент выборки\n",
    "        :param node: dict, вершина дерева\n",
    "        \"\"\"\n",
    "        if node[\"type\"] == \"terminal\":\n",
    "            return node[\"class\"]\n",
    "        else:\n",
    "            if node[\"category_split\"] is None:\n",
    "                if x[node[\"feature_split\"]] < node[\"threshold\"]:\n",
    "                    self._predict_node(x, node[\"left_child\"])\n",
    "                else:\n",
    "                    self._predict_node(x, node[\"right_child\"])\n",
    "            else:\n",
    "                if x[node[\"feature_split\"]] == node[\"threshold\"]:\n",
    "                    self._predict_node(x, node[\"left_child\"])\n",
    "                else:\n",
    "                    self._predict_node(x, node[\"right_child\"])\n",
    "\n",
    "\n",
    "    def fit(self, X: np.ndarray, y: np.ndarray) -> None:\n",
    "        self._fit_node(X, y, self._tree)\n",
    "\n",
    "    def predict(self, X: np.ndarray) -> np.ndarray:\n",
    "        predicted = []\n",
    "        for x in X:\n",
    "            predicted.append(self._predict_node(x, self._tree))\n",
    "\n",
    "        return np.array(predicted)"
   ],
   "metadata": {
    "collapsed": false,
    "ExecuteTime": {
     "end_time": "2023-05-29T22:04:46.095899100Z",
     "start_time": "2023-05-29T22:04:46.046019500Z"
    }
   }
  },
  {
   "cell_type": "markdown",
   "source": [
    "**Задание 2.3 (1 балл)** Загрузите таблицу `students.csv` (это немного преобразованный датасет [User Knowledge](https://archive.ics.uci.edu/ml/datasets/User+Knowledge+Modeling)). В ней признаки объекта записаны в первых пяти столбцах, а в последнем записана целевая переменная (класс: 0 или 1). Постройте на одном изображении пять кривых \"порог — значение критерия Джини\" для всех пяти признаков. Отдельно визуализируйте диаграммы рассеяния \"значение признака — класс\" для всех пяти признаков."
   ],
   "metadata": {
    "collapsed": false
   }
  },
  {
   "cell_type": "code",
   "execution_count": 139,
   "outputs": [
    {
     "data": {
      "text/plain": "    STG   SCG   STR   LPR   PEG  UNS\n0  0.00  0.00  0.00  0.00  0.00    0\n1  0.08  0.08  0.10  0.24  0.90    1\n2  0.06  0.06  0.05  0.25  0.33    0\n3  0.10  0.10  0.15  0.65  0.30    1\n4  0.08  0.08  0.08  0.98  0.24    0",
      "text/html": "<div>\n<style scoped>\n    .dataframe tbody tr th:only-of-type {\n        vertical-align: middle;\n    }\n\n    .dataframe tbody tr th {\n        vertical-align: top;\n    }\n\n    .dataframe thead th {\n        text-align: right;\n    }\n</style>\n<table border=\"1\" class=\"dataframe\">\n  <thead>\n    <tr style=\"text-align: right;\">\n      <th></th>\n      <th>STG</th>\n      <th>SCG</th>\n      <th>STR</th>\n      <th>LPR</th>\n      <th>PEG</th>\n      <th>UNS</th>\n    </tr>\n  </thead>\n  <tbody>\n    <tr>\n      <th>0</th>\n      <td>0.00</td>\n      <td>0.00</td>\n      <td>0.00</td>\n      <td>0.00</td>\n      <td>0.00</td>\n      <td>0</td>\n    </tr>\n    <tr>\n      <th>1</th>\n      <td>0.08</td>\n      <td>0.08</td>\n      <td>0.10</td>\n      <td>0.24</td>\n      <td>0.90</td>\n      <td>1</td>\n    </tr>\n    <tr>\n      <th>2</th>\n      <td>0.06</td>\n      <td>0.06</td>\n      <td>0.05</td>\n      <td>0.25</td>\n      <td>0.33</td>\n      <td>0</td>\n    </tr>\n    <tr>\n      <th>3</th>\n      <td>0.10</td>\n      <td>0.10</td>\n      <td>0.15</td>\n      <td>0.65</td>\n      <td>0.30</td>\n      <td>1</td>\n    </tr>\n    <tr>\n      <th>4</th>\n      <td>0.08</td>\n      <td>0.08</td>\n      <td>0.08</td>\n      <td>0.98</td>\n      <td>0.24</td>\n      <td>0</td>\n    </tr>\n  </tbody>\n</table>\n</div>"
     },
     "metadata": {},
     "output_type": "display_data"
    },
    {
     "data": {
      "text/plain": "    STG   SCG   STR   LPR   PEG\n0  0.00  0.00  0.00  0.00  0.00\n1  0.08  0.08  0.10  0.24  0.90\n2  0.06  0.06  0.05  0.25  0.33\n3  0.10  0.10  0.15  0.65  0.30\n4  0.08  0.08  0.08  0.98  0.24",
      "text/html": "<div>\n<style scoped>\n    .dataframe tbody tr th:only-of-type {\n        vertical-align: middle;\n    }\n\n    .dataframe tbody tr th {\n        vertical-align: top;\n    }\n\n    .dataframe thead th {\n        text-align: right;\n    }\n</style>\n<table border=\"1\" class=\"dataframe\">\n  <thead>\n    <tr style=\"text-align: right;\">\n      <th></th>\n      <th>STG</th>\n      <th>SCG</th>\n      <th>STR</th>\n      <th>LPR</th>\n      <th>PEG</th>\n    </tr>\n  </thead>\n  <tbody>\n    <tr>\n      <th>0</th>\n      <td>0.00</td>\n      <td>0.00</td>\n      <td>0.00</td>\n      <td>0.00</td>\n      <td>0.00</td>\n    </tr>\n    <tr>\n      <th>1</th>\n      <td>0.08</td>\n      <td>0.08</td>\n      <td>0.10</td>\n      <td>0.24</td>\n      <td>0.90</td>\n    </tr>\n    <tr>\n      <th>2</th>\n      <td>0.06</td>\n      <td>0.06</td>\n      <td>0.05</td>\n      <td>0.25</td>\n      <td>0.33</td>\n    </tr>\n    <tr>\n      <th>3</th>\n      <td>0.10</td>\n      <td>0.10</td>\n      <td>0.15</td>\n      <td>0.65</td>\n      <td>0.30</td>\n    </tr>\n    <tr>\n      <th>4</th>\n      <td>0.08</td>\n      <td>0.08</td>\n      <td>0.08</td>\n      <td>0.98</td>\n      <td>0.24</td>\n    </tr>\n  </tbody>\n</table>\n</div>"
     },
     "metadata": {},
     "output_type": "display_data"
    }
   ],
   "source": [
    "data = pd.read_csv('students.csv')\n",
    "data = data.drop('Unnamed: 0', axis=1)\n",
    "\n",
    "display(data.head())\n",
    "\n",
    "y = data['UNS']\n",
    "X = data.drop('UNS', axis=1)\n",
    "\n",
    "display(X.head())"
   ],
   "metadata": {
    "collapsed": false,
    "ExecuteTime": {
     "end_time": "2023-05-29T22:04:46.113021500Z",
     "start_time": "2023-05-29T22:04:46.075936700Z"
    }
   }
  },
  {
   "cell_type": "code",
   "execution_count": 140,
   "outputs": [
    {
     "data": {
      "text/plain": "<Figure size 1500x500 with 1 Axes>",
      "image/png": "[encoded data removed]"
     },
     "metadata": {},
     "output_type": "display_data"
    }
   ],
   "source": [
    "plt.figure(figsize=(15, 5))\n",
    "\n",
    "for i in X.columns:\n",
    "    thresholds, variances, threshold_best, variance_best = find_best_split(\n",
    "        feature_vector=X[i].to_numpy(),\n",
    "        target_vector=y,\n",
    "        task=\"classification\",\n",
    "        feature_type=\"real\"\n",
    "    )\n",
    "\n",
    "    plt.plot(thresholds,variances,label = i)\n",
    "\n",
    "plt.title('Q(Threshold)', fontsize=15)\n",
    "plt.xlabel('Tresholds')\n",
    "plt.ylabel('Q')\n",
    "plt.legend()\n",
    "plt.show()"
   ],
   "metadata": {
    "collapsed": false,
    "ExecuteTime": {
     "end_time": "2023-05-29T22:04:46.561822400Z",
     "start_time": "2023-05-29T22:04:46.108036700Z"
    }
   }
  },
  {
   "cell_type": "markdown",
   "source": [
    "Диаграмма рассеяния:"
   ],
   "metadata": {
    "collapsed": false
   }
  },
  {
   "cell_type": "code",
   "execution_count": 141,
   "outputs": [
    {
     "data": {
      "text/plain": "<Figure size 1000x1600 with 5 Axes>",
      "image/png": "[encoded data removed]"
     },
     "metadata": {},
     "output_type": "display_data"
    }
   ],
   "source": [
    "fig, ax = plt.subplots(5, figsize=(10, 16))\n",
    "k = 0\n",
    "colors = [\"blue\", \"orange\", \"green\", \"red\", \"purple\"]\n",
    "ax[0].set_title('Scattering diagram',fontsize=15)\n",
    "\n",
    "for i in X.columns:\n",
    "    ax[k].scatter(x = X[i], y = y, color = colors[k])\n",
    "    ax[k].set_xlabel(i)\n",
    "    ax[k].set_ylabel(\"Target\")\n",
    "    k+=1\n",
    "\n",
    "plt.show()"
   ],
   "metadata": {
    "collapsed": false,
    "ExecuteTime": {
     "end_time": "2023-05-29T22:04:47.220060800Z",
     "start_time": "2023-05-29T22:04:46.563815700Z"
    }
   }
  },
  {
   "cell_type": "markdown",
   "source": [
    "Исходя из кривых значений критерия Джини, по какому признаку нужно производить деление выборки на два поддерева? Согласуется ли этот результат с визуальной оценкой диаграмм рассеяиния? Как бы охарактеризовали вид кривой для \"хороших\" признаков, по которым выборка делится почти идеально? Чем отличаются кривые для признаков, по которым деление практически невозможно?"
   ],
   "metadata": {
    "collapsed": false
   }
  },
  {
   "cell_type": "markdown",
   "source": [
    "Ответ:\n",
    "Лучше всего проводить разбиение по признаку \"PEG\". Визуальная оценка диаграммы рассеяния говорит о том, что разбить выборку по этому признаку можно почти идеально\n",
    "Я думаю, что хорошие признаки, по которым можно разделить признаки почти идеально, имеют чётко выраженный минимум критерия информативности (я считал его по формуле, где ищется минимум суммы хаотичности детей :) )"
   ],
   "metadata": {
    "collapsed": false
   }
  },
  {
   "cell_type": "markdown",
   "source": [
    "**Задание 2.4 (1 балл)** Протестируйте свое решающее дерево на датасете [mushrooms](https://archive.ics.uci.edu/ml/datasets/Mushroom).\n",
    "\n",
    "1. Скачайте таблицу `agaricus-lepiota.data` (из [Data Folder](https://archive.ics.uci.edu/ml/machine-learning-databases/mushroom/)),\n",
    "2. Считайте таблицу при помощи `pandas`,\n",
    "3. Примените к каждому столбцу `LabelEncoder` (из `sklearn`), чтобы преобразовать строковые имена категорий в натуральные числа.\n",
    "\n",
    "Первый столбец — это целевая переменная (e — edible, p — poisonous) Мы будем измерять качество с помощью accuracy, так что нам не очень важно, что будет классом 1, а что — классом 0. Обучите решающее дерево на половине случайно выбранных объектов (признаки в датасете категориальные) и сделайте предсказания для оставшейся половины. Вычислите accuracy."
   ],
   "metadata": {
    "collapsed": false
   }
  },
  {
   "cell_type": "code",
   "execution_count": 142,
   "outputs": [],
   "source": [
    "from sklearn.preprocessing import LabelEncoder"
   ],
   "metadata": {
    "collapsed": false,
    "ExecuteTime": {
     "end_time": "2023-05-29T22:04:47.230059300Z",
     "start_time": "2023-05-29T22:04:47.221058400Z"
    }
   }
  },
  {
   "cell_type": "code",
   "execution_count": 143,
   "outputs": [
    {
     "data": {
      "text/plain": "      poiede  cap_shape  cap_surface  cap_color  bruises  odor  \\\n0          1          5            2          4        1     6   \n1          0          5            2          9        1     0   \n2          0          0            2          8        1     3   \n3          1          5            3          8        1     6   \n4          0          5            2          3        0     5   \n...      ...        ...          ...        ...      ...   ...   \n8119       0          3            2          4        0     5   \n8120       0          5            2          4        0     5   \n8121       0          2            2          4        0     5   \n8122       1          3            3          4        0     8   \n8123       0          5            2          4        0     5   \n\n      gill_attachment  gill_spacing  gill_size  gill_color  ...  \\\n0                   1             0          1           4  ...   \n1                   1             0          0           4  ...   \n2                   1             0          0           5  ...   \n3                   1             0          1           5  ...   \n4                   1             1          0           4  ...   \n...               ...           ...        ...         ...  ...   \n8119                0             0          0          11  ...   \n8120                0             0          0          11  ...   \n8121                0             0          0           5  ...   \n8122                1             0          1           0  ...   \n8123                0             0          0          11  ...   \n\n      stalk_surface_below_ring  stalk_color_above_ring  \\\n0                            2                       7   \n1                            2                       7   \n2                            2                       7   \n3                            2                       7   \n4                            2                       7   \n...                        ...                     ...   \n8119                         2                       5   \n8120                         2                       5   \n8121                         2                       5   \n8122                         1                       7   \n8123                         2                       5   \n\n      stalk_color_below_ring  veil_type  veil_color  ring_number  ring_type  \\\n0                          7          0           2            1          4   \n1                          7          0           2            1          4   \n2                          7          0           2            1          4   \n3                          7          0           2            1          4   \n4                          7          0           2            1          0   \n...                      ...        ...         ...          ...        ...   \n8119                       5          0           1            1          4   \n8120                       5          0           0            1          4   \n8121                       5          0           1            1          4   \n8122                       7          0           2            1          0   \n8123                       5          0           1            1          4   \n\n      spore_print_color  population  habitat  \n0                     2           3        5  \n1                     3           2        1  \n2                     3           2        3  \n3                     2           3        5  \n4                     3           0        1  \n...                 ...         ...      ...  \n8119                  0           1        2  \n8120                  0           4        2  \n8121                  0           1        2  \n8122                  7           4        2  \n8123                  4           1        2  \n\n[8124 rows x 23 columns]",
      "text/html": "<div>\n<style scoped>\n    .dataframe tbody tr th:only-of-type {\n        vertical-align: middle;\n    }\n\n    .dataframe tbody tr th {\n        vertical-align: top;\n    }\n\n    .dataframe thead th {\n        text-align: right;\n    }\n</style>\n<table border=\"1\" class=\"dataframe\">\n  <thead>\n    <tr style=\"text-align: right;\">\n      <th></th>\n      <th>poiede</th>\n      <th>cap_shape</th>\n      <th>cap_surface</th>\n      <th>cap_color</th>\n      <th>bruises</th>\n      <th>odor</th>\n      <th>gill_attachment</th>\n      <th>gill_spacing</th>\n      <th>gill_size</th>\n      <th>gill_color</th>\n      <th>...</th>\n      <th>stalk_surface_below_ring</th>\n      <th>stalk_color_above_ring</th>\n      <th>stalk_color_below_ring</th>\n      <th>veil_type</th>\n      <th>veil_color</th>\n      <th>ring_number</th>\n      <th>ring_type</th>\n      <th>spore_print_color</th>\n      <th>population</th>\n      <th>habitat</th>\n    </tr>\n  </thead>\n  <tbody>\n    <tr>\n      <th>0</th>\n      <td>1</td>\n      <td>5</td>\n      <td>2</td>\n      <td>4</td>\n      <td>1</td>\n      <td>6</td>\n      <td>1</td>\n      <td>0</td>\n      <td>1</td>\n      <td>4</td>\n      <td>...</td>\n      <td>2</td>\n      <td>7</td>\n      <td>7</td>\n      <td>0</td>\n      <td>2</td>\n      <td>1</td>\n      <td>4</td>\n      <td>2</td>\n      <td>3</td>\n      <td>5</td>\n    </tr>\n    <tr>\n      <th>1</th>\n      <td>0</td>\n      <td>5</td>\n      <td>2</td>\n      <td>9</td>\n      <td>1</td>\n      <td>0</td>\n      <td>1</td>\n      <td>0</td>\n      <td>0</td>\n      <td>4</td>\n      <td>...</td>\n      <td>2</td>\n      <td>7</td>\n      <td>7</td>\n      <td>0</td>\n      <td>2</td>\n      <td>1</td>\n      <td>4</td>\n      <td>3</td>\n      <td>2</td>\n      <td>1</td>\n    </tr>\n    <tr>\n      <th>2</th>\n      <td>0</td>\n      <td>0</td>\n      <td>2</td>\n      <td>8</td>\n      <td>1</td>\n      <td>3</td>\n      <td>1</td>\n      <td>0</td>\n      <td>0</td>\n      <td>5</td>\n      <td>...</td>\n      <td>2</td>\n      <td>7</td>\n      <td>7</td>\n      <td>0</td>\n      <td>2</td>\n      <td>1</td>\n      <td>4</td>\n      <td>3</td>\n      <td>2</td>\n      <td>3</td>\n    </tr>\n    <tr>\n      <th>3</th>\n      <td>1</td>\n      <td>5</td>\n      <td>3</td>\n      <td>8</td>\n      <td>1</td>\n      <td>6</td>\n      <td>1</td>\n      <td>0</td>\n      <td>1</td>\n      <td>5</td>\n      <td>...</td>\n      <td>2</td>\n      <td>7</td>\n      <td>7</td>\n      <td>0</td>\n      <td>2</td>\n      <td>1</td>\n      <td>4</td>\n      <td>2</td>\n      <td>3</td>\n      <td>5</td>\n    </tr>\n    <tr>\n      <th>4</th>\n      <td>0</td>\n      <td>5</td>\n      <td>2</td>\n      <td>3</td>\n      <td>0</td>\n      <td>5</td>\n      <td>1</td>\n      <td>1</td>\n      <td>0</td>\n      <td>4</td>\n      <td>...</td>\n      <td>2</td>\n      <td>7</td>\n      <td>7</td>\n      <td>0</td>\n      <td>2</td>\n      <td>1</td>\n      <td>0</td>\n      <td>3</td>\n      <td>0</td>\n      <td>1</td>\n    </tr>\n    <tr>\n      <th>...</th>\n      <td>...</td>\n      <td>...</td>\n      <td>...</td>\n      <td>...</td>\n      <td>...</td>\n      <td>...</td>\n      <td>...</td>\n      <td>...</td>\n      <td>...</td>\n      <td>...</td>\n      <td>...</td>\n      <td>...</td>\n      <td>...</td>\n      <td>...</td>\n      <td>...</td>\n      <td>...</td>\n      <td>...</td>\n      <td>...</td>\n      <td>...</td>\n      <td>...</td>\n      <td>...</td>\n    </tr>\n    <tr>\n      <th>8119</th>\n      <td>0</td>\n      <td>3</td>\n      <td>2</td>\n      <td>4</td>\n      <td>0</td>\n      <td>5</td>\n      <td>0</td>\n      <td>0</td>\n      <td>0</td>\n      <td>11</td>\n      <td>...</td>\n      <td>2</td>\n      <td>5</td>\n      <td>5</td>\n      <td>0</td>\n      <td>1</td>\n      <td>1</td>\n      <td>4</td>\n      <td>0</td>\n      <td>1</td>\n      <td>2</td>\n    </tr>\n    <tr>\n      <th>8120</th>\n      <td>0</td>\n      <td>5</td>\n      <td>2</td>\n      <td>4</td>\n      <td>0</td>\n      <td>5</td>\n      <td>0</td>\n      <td>0</td>\n      <td>0</td>\n      <td>11</td>\n      <td>...</td>\n      <td>2</td>\n      <td>5</td>\n      <td>5</td>\n      <td>0</td>\n      <td>0</td>\n      <td>1</td>\n      <td>4</td>\n      <td>0</td>\n      <td>4</td>\n      <td>2</td>\n    </tr>\n    <tr>\n      <th>8121</th>\n      <td>0</td>\n      <td>2</td>\n      <td>2</td>\n      <td>4</td>\n      <td>0</td>\n      <td>5</td>\n      <td>0</td>\n      <td>0</td>\n      <td>0</td>\n      <td>5</td>\n      <td>...</td>\n      <td>2</td>\n      <td>5</td>\n      <td>5</td>\n      <td>0</td>\n      <td>1</td>\n      <td>1</td>\n      <td>4</td>\n      <td>0</td>\n      <td>1</td>\n      <td>2</td>\n    </tr>\n    <tr>\n      <th>8122</th>\n      <td>1</td>\n      <td>3</td>\n      <td>3</td>\n      <td>4</td>\n      <td>0</td>\n      <td>8</td>\n      <td>1</td>\n      <td>0</td>\n      <td>1</td>\n      <td>0</td>\n      <td>...</td>\n      <td>1</td>\n      <td>7</td>\n      <td>7</td>\n      <td>0</td>\n      <td>2</td>\n      <td>1</td>\n      <td>0</td>\n      <td>7</td>\n      <td>4</td>\n      <td>2</td>\n    </tr>\n    <tr>\n      <th>8123</th>\n      <td>0</td>\n      <td>5</td>\n      <td>2</td>\n      <td>4</td>\n      <td>0</td>\n      <td>5</td>\n      <td>0</td>\n      <td>0</td>\n      <td>0</td>\n      <td>11</td>\n      <td>...</td>\n      <td>2</td>\n      <td>5</td>\n      <td>5</td>\n      <td>0</td>\n      <td>1</td>\n      <td>1</td>\n      <td>4</td>\n      <td>4</td>\n      <td>1</td>\n      <td>2</td>\n    </tr>\n  </tbody>\n</table>\n<p>8124 rows × 23 columns</p>\n</div>"
     },
     "metadata": {},
     "output_type": "display_data"
    }
   ],
   "source": [
    "data = pd.read_csv(\n",
    "    \"agaricus-lepiota.data\",\n",
    "    header = None,\n",
    "    names = [\"poiede\",\"cap_shape\",\"cap_surface\",\"cap_color\",\"bruises\",\"odor\" ,\"gill_attachment\",\"gill_spacing\",\"gill_size\",\"gill_color\",\"stalk_shape\",\"stalk_root\", \"stalk_surface_above_ring\",\"stalk_surface_below_ring\", \"stalk_color_above_ring\",\"stalk_color_below_ring\",\"veil_type\",\"veil_color\",\"ring_number\",\"ring_type\",\"spore_print_color\",\"population\",\"habitat\"]\n",
    ")\n",
    "\n",
    "encoder = LabelEncoder()\n",
    "data = data.apply(lambda x: encoder.fit_transform(x))\n",
    "\n",
    "display(data)\n",
    "\n",
    "y = data['poiede']\n",
    "X = data.drop('poiede', axis=1)"
   ],
   "metadata": {
    "collapsed": false,
    "ExecuteTime": {
     "end_time": "2023-05-29T22:04:47.384644800Z",
     "start_time": "2023-05-29T22:04:47.231056100Z"
    }
   }
  },
  {
   "cell_type": "code",
   "execution_count": 144,
   "outputs": [],
   "source": [
    "from sklearn.metrics import accuracy_score\n",
    "from sklearn.model_selection import train_test_split"
   ],
   "metadata": {
    "collapsed": false,
    "ExecuteTime": {
     "end_time": "2023-05-29T22:04:47.384644800Z",
     "start_time": "2023-05-29T22:04:47.294885200Z"
    }
   }
  },
  {
   "cell_type": "code",
   "execution_count": 145,
   "outputs": [
    {
     "ename": "KeyError",
     "evalue": "0",
     "output_type": "error",
     "traceback": [
      "\u001B[1;31m---------------------------------------------------------------------------\u001B[0m",
      "\u001B[1;31mKeyError\u001B[0m                                  Traceback (most recent call last)",
      "File \u001B[1;32m~\\lib\\site-packages\\pandas\\core\\indexes\\base.py:3802\u001B[0m, in \u001B[0;36mIndex.get_loc\u001B[1;34m(self, key, method, tolerance)\u001B[0m\n\u001B[0;32m   3801\u001B[0m \u001B[38;5;28;01mtry\u001B[39;00m:\n\u001B[1;32m-> 3802\u001B[0m     \u001B[38;5;28;01mreturn\u001B[39;00m \u001B[38;5;28;43mself\u001B[39;49m\u001B[38;5;241;43m.\u001B[39;49m\u001B[43m_engine\u001B[49m\u001B[38;5;241;43m.\u001B[39;49m\u001B[43mget_loc\u001B[49m\u001B[43m(\u001B[49m\u001B[43mcasted_key\u001B[49m\u001B[43m)\u001B[49m\n\u001B[0;32m   3803\u001B[0m \u001B[38;5;28;01mexcept\u001B[39;00m \u001B[38;5;167;01mKeyError\u001B[39;00m \u001B[38;5;28;01mas\u001B[39;00m err:\n",
      "File \u001B[1;32m~\\lib\\site-packages\\pandas\\_libs\\index.pyx:138\u001B[0m, in \u001B[0;36mpandas._libs.index.IndexEngine.get_loc\u001B[1;34m()\u001B[0m\n",
      "File \u001B[1;32m~\\lib\\site-packages\\pandas\\_libs\\index.pyx:165\u001B[0m, in \u001B[0;36mpandas._libs.index.IndexEngine.get_loc\u001B[1;34m()\u001B[0m\n",
      "File \u001B[1;32mpandas\\_libs\\hashtable_class_helper.pxi:2263\u001B[0m, in \u001B[0;36mpandas._libs.hashtable.Int64HashTable.get_item\u001B[1;34m()\u001B[0m\n",
      "File \u001B[1;32mpandas\\_libs\\hashtable_class_helper.pxi:2273\u001B[0m, in \u001B[0;36mpandas._libs.hashtable.Int64HashTable.get_item\u001B[1;34m()\u001B[0m\n",
      "\u001B[1;31mKeyError\u001B[0m: 0",
      "\nThe above exception was the direct cause of the following exception:\n",
      "\u001B[1;31mKeyError\u001B[0m                                  Traceback (most recent call last)",
      "Cell \u001B[1;32mIn[145], line 4\u001B[0m\n\u001B[0;32m      1\u001B[0m X_train, X_test, y_train, y_test \u001B[38;5;241m=\u001B[39m train_test_split(X, y, test_size\u001B[38;5;241m=\u001B[39m\u001B[38;5;241m0.5\u001B[39m, random_state\u001B[38;5;241m=\u001B[39m\u001B[38;5;241m4\u001B[39m)\n\u001B[0;32m      3\u001B[0m dt\u001B[38;5;241m=\u001B[39mDecisionTree([\u001B[38;5;124m'\u001B[39m\u001B[38;5;124mcategorical\u001B[39m\u001B[38;5;124m'\u001B[39m]\u001B[38;5;241m*\u001B[39mX\u001B[38;5;241m.\u001B[39mcolumns\u001B[38;5;241m.\u001B[39mshape[\u001B[38;5;241m0\u001B[39m],task\u001B[38;5;241m=\u001B[39m\u001B[38;5;124m\"\u001B[39m\u001B[38;5;124mclassification\u001B[39m\u001B[38;5;124m\"\u001B[39m)\n\u001B[1;32m----> 4\u001B[0m \u001B[43mdt\u001B[49m\u001B[38;5;241;43m.\u001B[39;49m\u001B[43mfit\u001B[49m\u001B[43m(\u001B[49m\u001B[43mX_train\u001B[49m\u001B[43m,\u001B[49m\u001B[43m \u001B[49m\u001B[43my_train\u001B[49m\u001B[43m)\u001B[49m\n\u001B[0;32m      5\u001B[0m y_pred \u001B[38;5;241m=\u001B[39m dt\u001B[38;5;241m.\u001B[39mpredict(X_test)\n\u001B[0;32m      7\u001B[0m display(accuracy_score(y_test,y_pred))\n",
      "Cell \u001B[1;32mIn[138], line 115\u001B[0m, in \u001B[0;36mDecisionTree.fit\u001B[1;34m(self, X, y)\u001B[0m\n\u001B[0;32m    114\u001B[0m \u001B[38;5;28;01mdef\u001B[39;00m \u001B[38;5;21mfit\u001B[39m(\u001B[38;5;28mself\u001B[39m, X: np\u001B[38;5;241m.\u001B[39mndarray, y: np\u001B[38;5;241m.\u001B[39mndarray) \u001B[38;5;241m-\u001B[39m\u001B[38;5;241m>\u001B[39m \u001B[38;5;28;01mNone\u001B[39;00m:\n\u001B[1;32m--> 115\u001B[0m     \u001B[38;5;28;43mself\u001B[39;49m\u001B[38;5;241;43m.\u001B[39;49m\u001B[43m_fit_node\u001B[49m\u001B[43m(\u001B[49m\u001B[43mX\u001B[49m\u001B[43m,\u001B[49m\u001B[43m \u001B[49m\u001B[43my\u001B[49m\u001B[43m,\u001B[49m\u001B[43m \u001B[49m\u001B[38;5;28;43mself\u001B[39;49m\u001B[38;5;241;43m.\u001B[39;49m\u001B[43m_tree\u001B[49m\u001B[43m)\u001B[49m\n",
      "Cell \u001B[1;32mIn[138], line 89\u001B[0m, in \u001B[0;36mDecisionTree._fit_node\u001B[1;34m(self, sub_X, sub_y, node)\u001B[0m\n\u001B[0;32m     86\u001B[0m     \u001B[38;5;28;01mraise\u001B[39;00m \u001B[38;5;167;01mValueError\u001B[39;00m\n\u001B[0;32m     88\u001B[0m node[\u001B[38;5;124m\"\u001B[39m\u001B[38;5;124mleft_child\u001B[39m\u001B[38;5;124m\"\u001B[39m], node[\u001B[38;5;124m\"\u001B[39m\u001B[38;5;124mright_child\u001B[39m\u001B[38;5;124m\"\u001B[39m] \u001B[38;5;241m=\u001B[39m {}, {}\n\u001B[1;32m---> 89\u001B[0m \u001B[38;5;28;43mself\u001B[39;49m\u001B[38;5;241;43m.\u001B[39;49m\u001B[43m_fit_node\u001B[49m\u001B[43m(\u001B[49m\u001B[43msub_X\u001B[49m\u001B[43m[\u001B[49m\u001B[43msplit\u001B[49m\u001B[43m]\u001B[49m\u001B[43m,\u001B[49m\u001B[43m \u001B[49m\u001B[43msub_y\u001B[49m\u001B[43m[\u001B[49m\u001B[43msplit\u001B[49m\u001B[43m]\u001B[49m\u001B[43m,\u001B[49m\u001B[43m \u001B[49m\u001B[43mnode\u001B[49m\u001B[43m[\u001B[49m\u001B[38;5;124;43m\"\u001B[39;49m\u001B[38;5;124;43mleft_child\u001B[39;49m\u001B[38;5;124;43m\"\u001B[39;49m\u001B[43m]\u001B[49m\u001B[43m)\u001B[49m\n\u001B[0;32m     90\u001B[0m \u001B[38;5;28mself\u001B[39m\u001B[38;5;241m.\u001B[39m_fit_node(sub_X[np\u001B[38;5;241m.\u001B[39mlogical_not(split)], sub_y[np\u001B[38;5;241m.\u001B[39mlogical_not(split)], node[\u001B[38;5;124m\"\u001B[39m\u001B[38;5;124mright_child\u001B[39m\u001B[38;5;124m\"\u001B[39m])\n",
      "Cell \u001B[1;32mIn[138], line 37\u001B[0m, in \u001B[0;36mDecisionTree._fit_node\u001B[1;34m(self, sub_X, sub_y, node)\u001B[0m\n\u001B[0;32m     29\u001B[0m \u001B[38;5;28;01mdef\u001B[39;00m \u001B[38;5;21m_fit_node\u001B[39m(\n\u001B[0;32m     30\u001B[0m         \u001B[38;5;28mself\u001B[39m,\n\u001B[0;32m     31\u001B[0m         sub_X: np\u001B[38;5;241m.\u001B[39mndarray,\n\u001B[1;32m   (...)\u001B[0m\n\u001B[0;32m     35\u001B[0m \n\u001B[0;32m     36\u001B[0m     \u001B[38;5;66;03m# критерий останова\u001B[39;00m\n\u001B[1;32m---> 37\u001B[0m     \u001B[38;5;28;01mif\u001B[39;00m np\u001B[38;5;241m.\u001B[39mall(sub_y \u001B[38;5;241m==\u001B[39m \u001B[43msub_y\u001B[49m\u001B[43m[\u001B[49m\u001B[38;5;241;43m0\u001B[39;49m\u001B[43m]\u001B[49m):\n\u001B[0;32m     38\u001B[0m         node[\u001B[38;5;124m\"\u001B[39m\u001B[38;5;124mtype\u001B[39m\u001B[38;5;124m\"\u001B[39m] \u001B[38;5;241m=\u001B[39m \u001B[38;5;124m\"\u001B[39m\u001B[38;5;124mterminal\u001B[39m\u001B[38;5;124m\"\u001B[39m\n\u001B[0;32m     39\u001B[0m         node[\u001B[38;5;124m\"\u001B[39m\u001B[38;5;124mclass\u001B[39m\u001B[38;5;124m\"\u001B[39m] \u001B[38;5;241m=\u001B[39m sub_y[\u001B[38;5;241m0\u001B[39m]\n",
      "File \u001B[1;32m~\\lib\\site-packages\\pandas\\core\\series.py:981\u001B[0m, in \u001B[0;36mSeries.__getitem__\u001B[1;34m(self, key)\u001B[0m\n\u001B[0;32m    978\u001B[0m     \u001B[38;5;28;01mreturn\u001B[39;00m \u001B[38;5;28mself\u001B[39m\u001B[38;5;241m.\u001B[39m_values[key]\n\u001B[0;32m    980\u001B[0m \u001B[38;5;28;01melif\u001B[39;00m key_is_scalar:\n\u001B[1;32m--> 981\u001B[0m     \u001B[38;5;28;01mreturn\u001B[39;00m \u001B[38;5;28;43mself\u001B[39;49m\u001B[38;5;241;43m.\u001B[39;49m\u001B[43m_get_value\u001B[49m\u001B[43m(\u001B[49m\u001B[43mkey\u001B[49m\u001B[43m)\u001B[49m\n\u001B[0;32m    983\u001B[0m \u001B[38;5;28;01mif\u001B[39;00m is_hashable(key):\n\u001B[0;32m    984\u001B[0m     \u001B[38;5;66;03m# Otherwise index.get_value will raise InvalidIndexError\u001B[39;00m\n\u001B[0;32m    985\u001B[0m     \u001B[38;5;28;01mtry\u001B[39;00m:\n\u001B[0;32m    986\u001B[0m         \u001B[38;5;66;03m# For labels that don't resolve as scalars like tuples and frozensets\u001B[39;00m\n",
      "File \u001B[1;32m~\\lib\\site-packages\\pandas\\core\\series.py:1089\u001B[0m, in \u001B[0;36mSeries._get_value\u001B[1;34m(self, label, takeable)\u001B[0m\n\u001B[0;32m   1086\u001B[0m     \u001B[38;5;28;01mreturn\u001B[39;00m \u001B[38;5;28mself\u001B[39m\u001B[38;5;241m.\u001B[39m_values[label]\n\u001B[0;32m   1088\u001B[0m \u001B[38;5;66;03m# Similar to Index.get_value, but we do not fall back to positional\u001B[39;00m\n\u001B[1;32m-> 1089\u001B[0m loc \u001B[38;5;241m=\u001B[39m \u001B[38;5;28;43mself\u001B[39;49m\u001B[38;5;241;43m.\u001B[39;49m\u001B[43mindex\u001B[49m\u001B[38;5;241;43m.\u001B[39;49m\u001B[43mget_loc\u001B[49m\u001B[43m(\u001B[49m\u001B[43mlabel\u001B[49m\u001B[43m)\u001B[49m\n\u001B[0;32m   1090\u001B[0m \u001B[38;5;28;01mreturn\u001B[39;00m \u001B[38;5;28mself\u001B[39m\u001B[38;5;241m.\u001B[39mindex\u001B[38;5;241m.\u001B[39m_get_values_for_loc(\u001B[38;5;28mself\u001B[39m, loc, label)\n",
      "File \u001B[1;32m~\\lib\\site-packages\\pandas\\core\\indexes\\base.py:3804\u001B[0m, in \u001B[0;36mIndex.get_loc\u001B[1;34m(self, key, method, tolerance)\u001B[0m\n\u001B[0;32m   3802\u001B[0m     \u001B[38;5;28;01mreturn\u001B[39;00m \u001B[38;5;28mself\u001B[39m\u001B[38;5;241m.\u001B[39m_engine\u001B[38;5;241m.\u001B[39mget_loc(casted_key)\n\u001B[0;32m   3803\u001B[0m \u001B[38;5;28;01mexcept\u001B[39;00m \u001B[38;5;167;01mKeyError\u001B[39;00m \u001B[38;5;28;01mas\u001B[39;00m err:\n\u001B[1;32m-> 3804\u001B[0m     \u001B[38;5;28;01mraise\u001B[39;00m \u001B[38;5;167;01mKeyError\u001B[39;00m(key) \u001B[38;5;28;01mfrom\u001B[39;00m \u001B[38;5;21;01merr\u001B[39;00m\n\u001B[0;32m   3805\u001B[0m \u001B[38;5;28;01mexcept\u001B[39;00m \u001B[38;5;167;01mTypeError\u001B[39;00m:\n\u001B[0;32m   3806\u001B[0m     \u001B[38;5;66;03m# If we have a listlike key, _check_indexing_error will raise\u001B[39;00m\n\u001B[0;32m   3807\u001B[0m     \u001B[38;5;66;03m#  InvalidIndexError. Otherwise we fall through and re-raise\u001B[39;00m\n\u001B[0;32m   3808\u001B[0m     \u001B[38;5;66;03m#  the TypeError.\u001B[39;00m\n\u001B[0;32m   3809\u001B[0m     \u001B[38;5;28mself\u001B[39m\u001B[38;5;241m.\u001B[39m_check_indexing_error(key)\n",
      "\u001B[1;31mKeyError\u001B[0m: 0"
     ]
    }
   ],
   "source": [
    "X_train, X_test, y_train, y_test = train_test_split(X, y, test_size=0.5, random_state=4)\n",
    "\n",
    "dt=DecisionTree(['categorical']*X.columns.shape[0],task=\"classification\")\n",
    "dt.fit(X_train, y_train)\n",
    "y_pred = dt.predict(X_test)\n",
    "\n",
    "display(accuracy_score(y_test,y_pred))\n",
    "\n",
    "# я хз, код падает в методе решающего дерева, которые я не писал и не трогал :/"
   ],
   "metadata": {
    "collapsed": false,
    "ExecuteTime": {
     "end_time": "2023-05-29T22:04:47.524272100Z",
     "start_time": "2023-05-29T22:04:47.309845200Z"
    }
   }
  },
  {
   "cell_type": "markdown",
   "source": [
    "## Часть 3: Бэггинг и случайный лес (4 балла)"
   ],
   "metadata": {
    "collapsed": false
   }
  },
  {
   "cell_type": "markdown",
   "source": [
    "В данной части мы будем работать [с задачей предсказания диабета у пациента](https://www.kaggle.com/uciml/pima-indians-diabetes-database/data). Посмотрим на работу бэггинга над решающими деревьями и случайного леса, сравним их работу."
   ],
   "metadata": {
    "collapsed": false
   }
  },
  {
   "cell_type": "code",
   "execution_count": 147,
   "outputs": [],
   "source": [
    "from sklearn.ensemble import BaggingClassifier, RandomForestClassifier\n",
    "from sklearn.metrics import accuracy_score, precision_score, recall_score, roc_auc_score\n",
    "from sklearn.model_selection import train_test_split\n",
    "from sklearn.tree import DecisionTreeClassifier"
   ],
   "metadata": {
    "collapsed": false,
    "ExecuteTime": {
     "end_time": "2023-05-29T22:05:24.332259800Z",
     "start_time": "2023-05-29T22:05:24.309762Z"
    }
   }
  },
  {
   "cell_type": "code",
   "execution_count": 148,
   "outputs": [
    {
     "name": "stdout",
     "output_type": "stream",
     "text": [
      "Dataset shape: (768, 9)\n"
     ]
    },
    {
     "data": {
      "text/plain": "   Pregnancies  Glucose  BloodPressure  SkinThickness  Insulin   BMI  \\\n0            6      148             72             35        0  33.6   \n1            1       85             66             29        0  26.6   \n2            8      183             64              0        0  23.3   \n3            1       89             66             23       94  28.1   \n4            0      137             40             35      168  43.1   \n\n   DiabetesPedigreeFunction  Age  Outcome  \n0                     0.627   50        1  \n1                     0.351   31        0  \n2                     0.672   32        1  \n3                     0.167   21        0  \n4                     2.288   33        1  ",
      "text/html": "<div>\n<style scoped>\n    .dataframe tbody tr th:only-of-type {\n        vertical-align: middle;\n    }\n\n    .dataframe tbody tr th {\n        vertical-align: top;\n    }\n\n    .dataframe thead th {\n        text-align: right;\n    }\n</style>\n<table border=\"1\" class=\"dataframe\">\n  <thead>\n    <tr style=\"text-align: right;\">\n      <th></th>\n      <th>Pregnancies</th>\n      <th>Glucose</th>\n      <th>BloodPressure</th>\n      <th>SkinThickness</th>\n      <th>Insulin</th>\n      <th>BMI</th>\n      <th>DiabetesPedigreeFunction</th>\n      <th>Age</th>\n      <th>Outcome</th>\n    </tr>\n  </thead>\n  <tbody>\n    <tr>\n      <th>0</th>\n      <td>6</td>\n      <td>148</td>\n      <td>72</td>\n      <td>35</td>\n      <td>0</td>\n      <td>33.6</td>\n      <td>0.627</td>\n      <td>50</td>\n      <td>1</td>\n    </tr>\n    <tr>\n      <th>1</th>\n      <td>1</td>\n      <td>85</td>\n      <td>66</td>\n      <td>29</td>\n      <td>0</td>\n      <td>26.6</td>\n      <td>0.351</td>\n      <td>31</td>\n      <td>0</td>\n    </tr>\n    <tr>\n      <th>2</th>\n      <td>8</td>\n      <td>183</td>\n      <td>64</td>\n      <td>0</td>\n      <td>0</td>\n      <td>23.3</td>\n      <td>0.672</td>\n      <td>32</td>\n      <td>1</td>\n    </tr>\n    <tr>\n      <th>3</th>\n      <td>1</td>\n      <td>89</td>\n      <td>66</td>\n      <td>23</td>\n      <td>94</td>\n      <td>28.1</td>\n      <td>0.167</td>\n      <td>21</td>\n      <td>0</td>\n    </tr>\n    <tr>\n      <th>4</th>\n      <td>0</td>\n      <td>137</td>\n      <td>40</td>\n      <td>35</td>\n      <td>168</td>\n      <td>43.1</td>\n      <td>2.288</td>\n      <td>33</td>\n      <td>1</td>\n    </tr>\n  </tbody>\n</table>\n</div>"
     },
     "execution_count": 148,
     "metadata": {},
     "output_type": "execute_result"
    }
   ],
   "source": [
    "data = pd.read_csv('diabetes.csv')\n",
    "print(f\"Dataset shape: {data.shape}\")\n",
    "data.head()"
   ],
   "metadata": {
    "collapsed": false,
    "ExecuteTime": {
     "end_time": "2023-05-29T22:05:25.259612800Z",
     "start_time": "2023-05-29T22:05:25.219190300Z"
    }
   }
  },
  {
   "cell_type": "markdown",
   "source": [
    "Посмотрим на распределение целевой переменной"
   ],
   "metadata": {
    "collapsed": false
   }
  },
  {
   "cell_type": "code",
   "execution_count": 149,
   "outputs": [
    {
     "data": {
      "text/plain": "<Figure size 640x480 with 1 Axes>",
      "image/png": "[encoded data removed]"
     },
     "metadata": {},
     "output_type": "display_data"
    }
   ],
   "source": [
    "data['Outcome'].hist()\n",
    "plt.show()"
   ],
   "metadata": {
    "collapsed": false,
    "ExecuteTime": {
     "end_time": "2023-05-29T22:05:27.762992Z",
     "start_time": "2023-05-29T22:05:27.659104600Z"
    }
   }
  },
  {
   "cell_type": "markdown",
   "source": [
    "**Задание 3.1 (0.5 балла)** Разделите данные на признаки и целевую переменную. Разбейте датасет на обучающую и тестовую части в отношении 7:3. Затем разделите обучающую выборку на обучающую-обучающую и обучающую-валидационную в соотношении 7:3 (то есть в итоге должно получиться три выборки: обучающая-обучающая (0.49 от исходного датасета), обучающая-валидационная (0.21 от исходного датасета) и тестовая (0.3 от исходного датасета)."
   ],
   "metadata": {
    "collapsed": false
   }
  },
  {
   "cell_type": "code",
   "execution_count": 150,
   "outputs": [
    {
     "name": "stdout",
     "output_type": "stream",
     "text": [
      "training part: 0.49\n",
      "validation part: 0.21\n",
      "test part: 0.3\n"
     ]
    }
   ],
   "source": [
    "Y = data['Outcome']\n",
    "X = data.drop('Outcome', axis=1)\n",
    "\n",
    "X_train, X_test, Y_train, Y_test = train_test_split(X, Y, test_size=0.3, random_state=10)\n",
    "\n",
    "X_train_train, X_train_validate, Y_train_train, Y_train_validate = train_test_split(X_train, Y_train, test_size=0.3, random_state=10)\n",
    "\n",
    "print(f'training part: {round(X_train_train.shape[0] / X.shape[0], 2)}')\n",
    "print(f'validation part: {round(X_train_validate.shape[0] / X.shape[0], 2)}')\n",
    "print(f'test part: {round(X_test.shape[0] / X.shape[0], 2)}')"
   ],
   "metadata": {
    "collapsed": false,
    "ExecuteTime": {
     "end_time": "2023-05-29T22:05:30.330731900Z",
     "start_time": "2023-05-29T22:05:30.311737700Z"
    }
   }
  },
  {
   "cell_type": "markdown",
   "source": [
    "**Задание 3.2 (1 балл)** На обучающей-валидационной выборке подберите оптимальные значения гиперпараметров `max_depth` и `min_samples_leaf` для `DecisionTreeClassifier`. Для этого:\n",
    "1. Создайте списки с возможными значениями для перебора.\n",
    "2. Для каждой пары значений обучите дерево на обучающей-обучающей выборке и определите качество на обучающей-валидационной выборке. В качестве критерия будем использовать `f1-меру`.\n",
    "3. Выберите ту пару значений, которая даёт наилучшее качество на обучающей-валидационной выборке.\n",
    "\n",
    "\n",
    "Обучите решающее дерево с подобранными гиперпараметрами на **полной обучающей** выборке. Оцените качество классификации на тестовой выборке по метрикам `accuracy`, `precision` и `recall`, `auc_roc`."
   ],
   "metadata": {
    "collapsed": false
   }
  },
  {
   "cell_type": "code",
   "execution_count": 151,
   "outputs": [],
   "source": [
    "from sklearn.metrics import f1_score, accuracy_score, precision_score, recall_score, roc_auc_score\n",
    "from sklearn.tree import DecisionTreeClassifier"
   ],
   "metadata": {
    "collapsed": false,
    "ExecuteTime": {
     "end_time": "2023-05-29T22:05:31.979939700Z",
     "start_time": "2023-05-29T22:05:31.954524900Z"
    }
   }
  },
  {
   "cell_type": "code",
   "execution_count": 152,
   "outputs": [
    {
     "name": "stdout",
     "output_type": "stream",
     "text": [
      "optimal max depth 7\n",
      "optimal min samples leaf 13\n"
     ]
    }
   ],
   "source": [
    "max_depths = np.arange(1, 15)\n",
    "min_samples_leafs = np.arange(1, 15)\n",
    "\n",
    "optimal_max_depth = None\n",
    "optimal_min_samples_leaf = None\n",
    "\n",
    "max_f1_score = None\n",
    "\n",
    "for max_depth in max_depths:\n",
    "    for min_samples_leaf in min_samples_leafs:\n",
    "        classifier = DecisionTreeClassifier(\n",
    "            max_depth=max_depth,\n",
    "            min_samples_leaf=min_samples_leaf,\n",
    "            random_state=10\n",
    "        )\n",
    "        classifier.fit(X_train_train, Y_train_train)\n",
    "\n",
    "        current_f1_score = f1_score(Y_train_validate, classifier.predict(X_train_validate))\n",
    "\n",
    "        if max_f1_score is None or current_f1_score > max_f1_score:\n",
    "            max_f1_score = current_f1_score\n",
    "            optimal_max_depth = max_depth\n",
    "            optimal_min_samples_leaf = min_samples_leaf\n",
    "\n",
    "print(f\"optimal max depth {optimal_max_depth}\")\n",
    "print(f\"optimal min samples leaf {optimal_min_samples_leaf}\")"
   ],
   "metadata": {
    "collapsed": false,
    "ExecuteTime": {
     "end_time": "2023-05-29T22:05:33.814467800Z",
     "start_time": "2023-05-29T22:05:32.687299900Z"
    }
   }
  },
  {
   "cell_type": "code",
   "execution_count": 153,
   "outputs": [
    {
     "name": "stdout",
     "output_type": "stream",
     "text": [
      "accuracy 0.732\n",
      "precision 0.647\n",
      "recall 0.632\n",
      "auc_roc 0.712\n"
     ]
    }
   ],
   "source": [
    "dt_classifier = DecisionTreeClassifier(\n",
    "    max_depth=optimal_max_depth,\n",
    "    min_samples_leaf=optimal_min_samples_leaf,\n",
    "    random_state=10\n",
    ")\n",
    "dt_classifier.fit(X_train, Y_train)\n",
    "\n",
    "dt_prediction = dt_classifier.predict(X_test)\n",
    "\n",
    "print(f'accuracy {round(accuracy_score(Y_test, dt_prediction), 3)}')\n",
    "print(f'precision {round(precision_score(Y_test, dt_prediction), 3)}')\n",
    "print(f'recall {round(recall_score(Y_test, dt_prediction), 3)}')\n",
    "print(f'auc_roc {round(roc_auc_score(Y_test, dt_prediction), 3)}')"
   ],
   "metadata": {
    "collapsed": false,
    "ExecuteTime": {
     "end_time": "2023-05-29T22:05:33.860251600Z",
     "start_time": "2023-05-29T22:05:33.818457400Z"
    }
   }
  },
  {
   "cell_type": "markdown",
   "source": [
    "**Задание 3.3 (0.5 балла)** Обучите [`BaggingClassifier`](https://scikit-learn.org/stable/modules/generated/sklearn.ensemble.BaggingClassifier.html) на 50 деревьях на **полной обучающей** выборке. Оцените качество классификации на тестовой выборке по тем же метрикам."
   ],
   "metadata": {
    "collapsed": false
   }
  },
  {
   "cell_type": "code",
   "execution_count": null,
   "outputs": [],
   "source": [
    "from sklearn.ensemble import BaggingClassifier"
   ],
   "metadata": {
    "collapsed": false
   }
  },
  {
   "cell_type": "code",
   "execution_count": null,
   "outputs": [],
   "source": [
    "bag_classifier = BaggingClassifier(\n",
    "    n_estimators=50,\n",
    "    n_jobs=4,\n",
    "    random_state=10\n",
    ")\n",
    "bag_classifier.fit(X_train, Y_train);"
   ],
   "metadata": {
    "collapsed": false
   }
  },
  {
   "cell_type": "code",
   "execution_count": null,
   "outputs": [],
   "source": [
    "bag_prediction = bag_classifier.predict(X_test)\n",
    "\n",
    "print(f'accuracy {round(accuracy_score(Y_test, bag_prediction), 3)}')\n",
    "print(f'precision {round(precision_score(Y_test, bag_prediction), 3)}')\n",
    "print(f'recall {round(recall_score(Y_test, bag_prediction), 3)}')\n",
    "print(f'auc_roc {round(roc_auc_score(Y_test, bag_prediction), 3)}')"
   ],
   "metadata": {
    "collapsed": false
   }
  },
  {
   "cell_type": "markdown",
   "source": [
    "**Задание 3.4 (1 балл)** Выполните кросс-валидацию на полной обучающей выборке и подберите оптимальные значения гиперпараметров `max_depth` и `min_samples_split` для `Random Forest` с 50 деревьями. Для этого:\n",
    "\n",
    "1. Создайте списки с возможными значениями для перебора.\n",
    "2. Для каждой пары значений проведите кросс-валидацию на полной обучающей выборке. Количество разбиений выберите на ваш вкус. В качестве критерия будем использовать `f1-меру`. Усредните значение критерия по всем прогонам кросс-валидации.\n",
    "3. Выберите ту пару значений, которая даёт наилучшее среднее качество.\n",
    "\n",
    "Обучите случайный лес с подобранными гиперпараметрами на **полной обучающей** выборке. Оцените качество классификации по тем же метрикам. Какая из трёх построенных моделей показала себя лучше?"
   ],
   "metadata": {
    "collapsed": false
   }
  },
  {
   "cell_type": "code",
   "execution_count": null,
   "outputs": [],
   "source": [
    "from sklearn.ensemble import RandomForestClassifier\n",
    "from sklearn.model_selection import cross_val_score\n",
    "from sklearn.metrics import make_scorer"
   ],
   "metadata": {
    "collapsed": false
   }
  },
  {
   "cell_type": "code",
   "execution_count": null,
   "outputs": [],
   "source": [
    "max_depths = np.arange(1, 15)\n",
    "min_samples_leafs = np.arange(1, 15)\n",
    "\n",
    "optimal_max_depth = None\n",
    "optimal_min_samples_leaf = None\n",
    "\n",
    "max_f1_score = None\n",
    "\n",
    "for i, max_depth in enumerate(max_depths):\n",
    "    for j, min_samples_leaf in enumerate(min_samples_leafs):\n",
    "        classifier = RandomForestClassifier(\n",
    "            n_estimators=50,\n",
    "            n_jobs=4,\n",
    "            max_depth=max_depth,\n",
    "            min_samples_leaf=min_samples_leaf,\n",
    "            random_state=10\n",
    "        )\n",
    "\n",
    "        f1_scores = cross_val_score(\n",
    "            estimator=classifier,\n",
    "            X=X_train,\n",
    "            y=Y_train,\n",
    "            cv=5,\n",
    "            scoring='f1'\n",
    "        )\n",
    "        mean_f1_score = f1_scores.mean()\n",
    "\n",
    "        if max_f1_score is None or mean_f1_score > max_f1_score:\n",
    "            max_f1_score = mean_f1_score\n",
    "            optimal_max_depth = max_depth\n",
    "            optimal_min_samples_leaf = min_samples_leaf\n",
    "\n",
    "print(f\"optimal max depth {optimal_max_depth}\")\n",
    "print(f\"optimal min samples leaf {optimal_min_samples_leaf}\")"
   ],
   "metadata": {
    "collapsed": false
   }
  },
  {
   "cell_type": "code",
   "execution_count": null,
   "outputs": [],
   "source": [
    "rf_classifier = RandomForestClassifier(\n",
    "    n_estimators=50,\n",
    "    n_jobs=4,\n",
    "    max_depth=optimal_max_depth,\n",
    "    min_samples_leaf=optimal_min_samples_leaf,\n",
    "    random_state=10\n",
    ")\n",
    "\n",
    "rf_classifier.fit(X_train, Y_train);"
   ],
   "metadata": {
    "collapsed": false
   }
  },
  {
   "cell_type": "code",
   "execution_count": null,
   "outputs": [],
   "source": [
    "rf_prediction = rf_classifier.predict(X_test)\n",
    "\n",
    "print(f'accuracy {round(accuracy_score(Y_test, rf_prediction), 3)}')\n",
    "print(f'precision {round(precision_score(Y_test, rf_prediction), 3)}')\n",
    "print(f'recall {round(recall_score(Y_test, rf_prediction), 3)}')\n",
    "print(f'auc_roc {round(roc_auc_score(Y_test, rf_prediction), 3)}')"
   ],
   "metadata": {
    "collapsed": false
   }
  },
  {
   "cell_type": "markdown",
   "source": [
    "Для удобства оценивания сведем все вместе:"
   ],
   "metadata": {
    "collapsed": false
   }
  },
  {
   "cell_type": "code",
   "execution_count": null,
   "outputs": [],
   "source": [
    "print('Decision Tree scores:')\n",
    "print(f'accuracy {round(accuracy_score(Y_test, dt_prediction), 3)}')\n",
    "print(f'precision {round(precision_score(Y_test, dt_prediction), 3)}')\n",
    "print(f'recall {round(recall_score(Y_test, dt_prediction), 3)}')\n",
    "print(f'auc_roc {round(roc_auc_score(Y_test, dt_prediction), 3)}')\n",
    "\n",
    "print()\n",
    "print('Bagging:')\n",
    "print(f'accuracy {round(accuracy_score(Y_test, bag_prediction), 3)}')\n",
    "print(f'precision {round(precision_score(Y_test, bag_prediction), 3)}')\n",
    "print(f'recall {round(recall_score(Y_test, bag_prediction), 3)}')\n",
    "print(f'auc_roc {round(roc_auc_score(Y_test, bag_prediction), 3)}')\n",
    "\n",
    "print()\n",
    "print('Random Forest:')\n",
    "print(f'accuracy {round(accuracy_score(Y_test, rf_prediction), 3)}')\n",
    "print(f'precision {round(precision_score(Y_test, rf_prediction), 3)}')\n",
    "print(f'recall {round(recall_score(Y_test, rf_prediction), 3)}')\n",
    "print(f'auc_roc {round(roc_auc_score(Y_test, rf_prediction), 3)}')"
   ],
   "metadata": {
    "collapsed": false
   }
  },
  {
   "cell_type": "markdown",
   "source": [
    "Стоит заметить, что доля отрицательного класса примерно 66% от всего датасета, поэтому $accuracy \\in [0.66; 1]$, да и в целом анализировать accuracy из-за дисбаланса классов довольно сомнительно.\n",
    "\n",
    "Вывод:\n",
    "* мне кажется, что BaggingClassifier лучше всего показал себя, потому что у него самые высокие precision и auc_roc, и при этом средний recall"
   ],
   "metadata": {
    "collapsed": false
   }
  },
  {
   "cell_type": "markdown",
   "source": [
    "**Задание 3.5 (0.5 балла)** Постройте график зависимости AUC ROC на тестовой выборке от числа деревьев (`n_estimators`) для случайного леса, обучаемого на **полной обучающей** выборке. Какие выводы можно сделать?"
   ],
   "metadata": {
    "collapsed": false
   }
  },
  {
   "cell_type": "code",
   "execution_count": null,
   "outputs": [],
   "source": [
    "n_estimators = np.arange(start=1, stop=100, step=1)\n",
    "auc_roc_scores = []\n",
    "\n",
    "for n in n_estimators:\n",
    "    random_forest_class = RandomForestClassifier(\n",
    "        n_estimators=n,\n",
    "        n_jobs=4,\n",
    "        max_depth=7,\n",
    "        min_samples_leaf=1,\n",
    "        random_state=10\n",
    "    )\n",
    "    random_forest_class.fit(X_train, Y_train)\n",
    "    auc_roc_scores.append(roc_auc_score(Y_test, random_forest_class.predict(X_test)))"
   ],
   "metadata": {
    "collapsed": false
   }
  },
  {
   "cell_type": "code",
   "execution_count": null,
   "outputs": [],
   "source": [
    "plt.figure(figsize=(6, 6))\n",
    "plt.plot(n_estimators, auc_roc_scores)\n",
    "plt.title('AUC ROC dependence on trees count')\n",
    "plt.xlabel('n_estimators')\n",
    "plt.ylabel('AUC ROC score');"
   ],
   "metadata": {
    "collapsed": false
   }
  },
  {
   "cell_type": "markdown",
   "source": [
    "Выводы:\n",
    "1) Самый заметный факт - это то, что примерно после 50 деревьев AUC ROC случайного леса перестает сильно изменяться и по сути выходит на плато. То есть можно сказать, что случайный лес не переобучается с увеличением количества деревьев\n",
    "2) Судя по графику, самое лучшее количество деревьев для этого датасета - примерно 5-7."
   ],
   "metadata": {
    "collapsed": false
   }
  },
  {
   "cell_type": "markdown",
   "source": [
    "**Задание 3.6 (0.5 балла)** Для лучшей модели случайного леса из **Задания 3.4** посчитайте важность признаков и постройте bar plot. Какой признак оказался самым важным для определения диабета?"
   ],
   "metadata": {
    "collapsed": false
   }
  },
  {
   "cell_type": "code",
   "execution_count": null,
   "outputs": [],
   "source": [
    "from sklearn.inspection import permutation_importance"
   ],
   "metadata": {
    "collapsed": false
   }
  },
  {
   "cell_type": "code",
   "execution_count": null,
   "outputs": [],
   "source": [
    "rf_classifier = RandomForestClassifier(\n",
    "    n_estimators=50,\n",
    "    n_jobs=4,\n",
    "    max_depth=optimal_max_depth,\n",
    "    min_samples_leaf=optimal_min_samples_leaf,\n",
    "    random_state=10\n",
    ")\n",
    "rf_classifier.fit(X_train, Y_train);"
   ],
   "metadata": {
    "collapsed": false
   }
  },
  {
   "cell_type": "code",
   "execution_count": null,
   "outputs": [],
   "source": [
    "feature_importance = permutation_importance(\n",
    "    estimator=rf_classifier,\n",
    "    X=X_test,\n",
    "    y=Y_test,\n",
    "    n_repeats=10,\n",
    "    random_state=10,\n",
    "    n_jobs=4\n",
    ")\n",
    "random_forest_importances = pd.Series(data=feature_importance['importances_mean'], index=X_test.columns)\n",
    "random_forest_importances"
   ],
   "metadata": {
    "collapsed": false
   }
  },
  {
   "cell_type": "code",
   "execution_count": null,
   "outputs": [],
   "source": [
    "figure, ax = plt.subplots()\n",
    "random_forest_importances.plot.bar(yerr=feature_importance['importances_std'], ax=ax)\n",
    "\n",
    "ax.grid(visible=True)\n",
    "ax.set_title('Feature importance of RandomForestClassifier for diabetes detection')\n",
    "ax.set_ylabel('Mean permutation importance');"
   ],
   "metadata": {
    "collapsed": false
   }
  },
  {
   "cell_type": "markdown",
   "source": [
    "Вывод:\n",
    "Нетрудно заметить, что содержание глюкозы в крови является самым важным признаком для определения диабета. Также высокую значимость имеет индекс массы тела (BMI)."
   ],
   "metadata": {
    "collapsed": false
   }
  },
  {
   "cell_type": "code",
   "execution_count": null,
   "outputs": [],
   "source": [],
   "metadata": {
    "collapsed": false
   }
  }
 ],
 "metadata": {
  "kernelspec": {
   "display_name": "Python 3",
   "language": "python",
   "name": "python3"
  },
  "language_info": {
   "codemirror_mode": {
    "name": "ipython",
    "version": 3
   },
   "file_extension": ".py",
   "mimetype": "text/x-python",
   "name": "python",
   "nbconvert_exporter": "python",
   "pygments_lexer": "ipython3",
   "version": "3.8.5"
  }
 },
 "nbformat": 4,
 "nbformat_minor": 4
}
