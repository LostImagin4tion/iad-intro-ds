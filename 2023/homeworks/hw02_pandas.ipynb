{
 "cells": [
  {
   "cell_type": "markdown",
   "metadata": {
    "_uuid": "21c25e4f8bb31570029fd6b069131a5d00f84cf1"
   },
   "source": [
    "# Домашнее задание 2 (5 баллов).\n",
    "\n",
    "Все задания ниже имеют равный вес (5/16)."
   ]
  },
  {
   "cell_type": "code",
   "execution_count": 3,
   "metadata": {
    "_uuid": "568eb2d31004b87d22e119112ae01a1e75105f1d"
   },
   "outputs": [],
   "source": [
    "import numpy as np\n",
    "import pandas as pd\n",
    "import zipfile"
   ]
  },
  {
   "cell_type": "markdown",
   "metadata": {},
   "source": [
    "#### Описание данных\n",
    "\n",
    "В папке Data находится информация о студентах. Всего 10 групп студентов. Файлы делятся на две категории:\n",
    "    * Students_info_i - информация о студентах из группы i\n",
    "    * Students_marks_i - оценки студентов из группы i за экзамены"
   ]
  },
  {
   "cell_type": "markdown",
   "metadata": {},
   "source": [
    "### Одно из важных достоинств pandas $-$ это удобные методы реляционного взаимодействия с данными, аналогичные, например, возможностям SQL для слияния и конкатенации таблиц: merge, join, concat. Наличие готовых методов позволяет не реализовывать самостоятельно поэлементную обработку данных и оперировать сразу целыми таблицами данных.\n",
    "\n",
    "Подробно об этих методах посмотрите тут: https://www.kaggle.com/residentmario/renaming-and-combining#Combining"
   ]
  },
  {
   "cell_type": "markdown",
   "metadata": {},
   "source": [
    "#### Задание 1. Соберите всю информацию о студентах в одну таблицу df. В получившейся таблице должна быть информация и оценки всех студентов из всех групп. Напечатайте несколько строк таблицы для демонстрации результата.¶"
   ]
  },
  {
   "cell_type": "code",
   "execution_count": 4,
   "metadata": {},
   "outputs": [
    {
     "data": {
      "text/plain": "       gender race/ethnicity parental level of education         lunch test preparation course   group  math score  reading score  writing score\nindex                                                                                                                                           \n0      female        group B           bachelor's degree      standard                    none  group1          72             72             74\n1      female        group C                some college      standard               completed  group1          69             90             88\n2      female        group B             master's degree      standard                    none  group1          90             95             93\n3        male        group A          associate's degree  free/reduced                    none  group1          47             57             44\n4        male        group C                some college      standard                    none  group1          76             78             75\n5      female        group B          associate's degree      standard                    none  group1          71             83             78\n6      female        group B                some college      standard               completed  group1          88             95             92\n7        male        group B                some college  free/reduced                    none  group1          40             43             39\n8        male        group D                 high school  free/reduced               completed  group1          64             64             67\n9      female        group B                 high school  free/reduced                    none  group1          38             60             50\n10       male        group C          associate's degree      standard                    none  group1          58             54             52\n11       male        group D          associate's degree      standard                    none  group1          40             52             43\n12     female        group B                 high school      standard                    none  group1          65             81             73\n13       male        group A                some college      standard               completed  group1          78             72             70\n14     female        group A             master's degree      standard                    none  group1          50             53             58",
      "text/html": "<div>\n<style scoped>\n    .dataframe tbody tr th:only-of-type {\n        vertical-align: middle;\n    }\n\n    .dataframe tbody tr th {\n        vertical-align: top;\n    }\n\n    .dataframe thead th {\n        text-align: right;\n    }\n</style>\n<table border=\"1\" class=\"dataframe\">\n  <thead>\n    <tr style=\"text-align: right;\">\n      <th></th>\n      <th>gender</th>\n      <th>race/ethnicity</th>\n      <th>parental level of education</th>\n      <th>lunch</th>\n      <th>test preparation course</th>\n      <th>group</th>\n      <th>math score</th>\n      <th>reading score</th>\n      <th>writing score</th>\n    </tr>\n    <tr>\n      <th>index</th>\n      <th></th>\n      <th></th>\n      <th></th>\n      <th></th>\n      <th></th>\n      <th></th>\n      <th></th>\n      <th></th>\n      <th></th>\n    </tr>\n  </thead>\n  <tbody>\n    <tr>\n      <th>0</th>\n      <td>female</td>\n      <td>group B</td>\n      <td>bachelor's degree</td>\n      <td>standard</td>\n      <td>none</td>\n      <td>group1</td>\n      <td>72</td>\n      <td>72</td>\n      <td>74</td>\n    </tr>\n    <tr>\n      <th>1</th>\n      <td>female</td>\n      <td>group C</td>\n      <td>some college</td>\n      <td>standard</td>\n      <td>completed</td>\n      <td>group1</td>\n      <td>69</td>\n      <td>90</td>\n      <td>88</td>\n    </tr>\n    <tr>\n      <th>2</th>\n      <td>female</td>\n      <td>group B</td>\n      <td>master's degree</td>\n      <td>standard</td>\n      <td>none</td>\n      <td>group1</td>\n      <td>90</td>\n      <td>95</td>\n      <td>93</td>\n    </tr>\n    <tr>\n      <th>3</th>\n      <td>male</td>\n      <td>group A</td>\n      <td>associate's degree</td>\n      <td>free/reduced</td>\n      <td>none</td>\n      <td>group1</td>\n      <td>47</td>\n      <td>57</td>\n      <td>44</td>\n    </tr>\n    <tr>\n      <th>4</th>\n      <td>male</td>\n      <td>group C</td>\n      <td>some college</td>\n      <td>standard</td>\n      <td>none</td>\n      <td>group1</td>\n      <td>76</td>\n      <td>78</td>\n      <td>75</td>\n    </tr>\n    <tr>\n      <th>5</th>\n      <td>female</td>\n      <td>group B</td>\n      <td>associate's degree</td>\n      <td>standard</td>\n      <td>none</td>\n      <td>group1</td>\n      <td>71</td>\n      <td>83</td>\n      <td>78</td>\n    </tr>\n    <tr>\n      <th>6</th>\n      <td>female</td>\n      <td>group B</td>\n      <td>some college</td>\n      <td>standard</td>\n      <td>completed</td>\n      <td>group1</td>\n      <td>88</td>\n      <td>95</td>\n      <td>92</td>\n    </tr>\n    <tr>\n      <th>7</th>\n      <td>male</td>\n      <td>group B</td>\n      <td>some college</td>\n      <td>free/reduced</td>\n      <td>none</td>\n      <td>group1</td>\n      <td>40</td>\n      <td>43</td>\n      <td>39</td>\n    </tr>\n    <tr>\n      <th>8</th>\n      <td>male</td>\n      <td>group D</td>\n      <td>high school</td>\n      <td>free/reduced</td>\n      <td>completed</td>\n      <td>group1</td>\n      <td>64</td>\n      <td>64</td>\n      <td>67</td>\n    </tr>\n    <tr>\n      <th>9</th>\n      <td>female</td>\n      <td>group B</td>\n      <td>high school</td>\n      <td>free/reduced</td>\n      <td>none</td>\n      <td>group1</td>\n      <td>38</td>\n      <td>60</td>\n      <td>50</td>\n    </tr>\n    <tr>\n      <th>10</th>\n      <td>male</td>\n      <td>group C</td>\n      <td>associate's degree</td>\n      <td>standard</td>\n      <td>none</td>\n      <td>group1</td>\n      <td>58</td>\n      <td>54</td>\n      <td>52</td>\n    </tr>\n    <tr>\n      <th>11</th>\n      <td>male</td>\n      <td>group D</td>\n      <td>associate's degree</td>\n      <td>standard</td>\n      <td>none</td>\n      <td>group1</td>\n      <td>40</td>\n      <td>52</td>\n      <td>43</td>\n    </tr>\n    <tr>\n      <th>12</th>\n      <td>female</td>\n      <td>group B</td>\n      <td>high school</td>\n      <td>standard</td>\n      <td>none</td>\n      <td>group1</td>\n      <td>65</td>\n      <td>81</td>\n      <td>73</td>\n    </tr>\n    <tr>\n      <th>13</th>\n      <td>male</td>\n      <td>group A</td>\n      <td>some college</td>\n      <td>standard</td>\n      <td>completed</td>\n      <td>group1</td>\n      <td>78</td>\n      <td>72</td>\n      <td>70</td>\n    </tr>\n    <tr>\n      <th>14</th>\n      <td>female</td>\n      <td>group A</td>\n      <td>master's degree</td>\n      <td>standard</td>\n      <td>none</td>\n      <td>group1</td>\n      <td>50</td>\n      <td>53</td>\n      <td>58</td>\n    </tr>\n  </tbody>\n</table>\n</div>"
     },
     "execution_count": 4,
     "metadata": {},
     "output_type": "execute_result"
    }
   ],
   "source": [
    "pd.set_option('display.expand_frame_repr', False)\n",
    "\n",
    "data_frame = pd.DataFrame(None)\n",
    "\n",
    "student_info_types = {\n",
    "    'index': np.int32,\n",
    "    'gender': str,\n",
    "    'race/ethnicity': str,\n",
    "    'parental level of education': str,\n",
    "    'lunch': str,\n",
    "    'test preparation course': str,\n",
    "    'group': str\n",
    "}\n",
    "\n",
    "student_marks_types = {\n",
    "    'index': np.int32,\n",
    "    'math score': np.int32,\n",
    "    'reading score': np.int32,\n",
    "    'writing score': np.int32\n",
    "}\n",
    "\n",
    "with zipfile.ZipFile('Data.zip') as zip:\n",
    "    student_info_file_pattern = 'Data/Students_info_{}.csv'\n",
    "    student_marks_file_pattern = 'Data/Students_marks_{}.csv'\n",
    "\n",
    "    for i in range(0, 10):\n",
    "        with zip.open(student_info_file_pattern.format(i)) as file:\n",
    "            student_info = pd.read_csv(\n",
    "                file,\n",
    "                sep=',',\n",
    "                index_col=0,\n",
    "                dtype=student_info_types\n",
    "            )\n",
    "\n",
    "        with zip.open(student_marks_file_pattern.format(i)) as file:\n",
    "            student_marks = pd.read_csv(\n",
    "                file,\n",
    "                sep = ',',\n",
    "                index_col=0,\n",
    "                dtype=student_marks_types\n",
    "            )\n",
    "\n",
    "        if not student_info.empty and not student_marks.empty:\n",
    "            if data_frame.empty:\n",
    "                data_frame = student_info.join(student_marks)\n",
    "            else:\n",
    "                data_frame = pd.concat(\n",
    "                    objs=[data_frame, student_info.join(student_marks)],\n",
    "                    axis=0\n",
    "                )\n",
    "\n",
    "data_frame.head(15)"
   ]
  },
  {
   "cell_type": "markdown",
   "metadata": {
    "_uuid": "8524af4cbd2f7b7810e8a3095a74c9fe1df7eafa"
   },
   "source": [
    "#### Задание 2. Удалите столбец index у полученной таблицы. Напечатайте первые 10 строк таблицы."
   ]
  },
  {
   "cell_type": "code",
   "execution_count": 5,
   "metadata": {
    "_uuid": "fe62eee87b9b94ab923f57b55eaf0554612aa9e9"
   },
   "outputs": [
    {
     "data": {
      "text/plain": "   gender race/ethnicity parental level of education         lunch test preparation course   group  math score  reading score  writing score\n0  female        group B           bachelor's degree      standard                    none  group1          72             72             74\n1  female        group C                some college      standard               completed  group1          69             90             88\n2  female        group B             master's degree      standard                    none  group1          90             95             93\n3    male        group A          associate's degree  free/reduced                    none  group1          47             57             44\n4    male        group C                some college      standard                    none  group1          76             78             75\n5  female        group B          associate's degree      standard                    none  group1          71             83             78\n6  female        group B                some college      standard               completed  group1          88             95             92\n7    male        group B                some college  free/reduced                    none  group1          40             43             39\n8    male        group D                 high school  free/reduced               completed  group1          64             64             67\n9  female        group B                 high school  free/reduced                    none  group1          38             60             50",
      "text/html": "<div>\n<style scoped>\n    .dataframe tbody tr th:only-of-type {\n        vertical-align: middle;\n    }\n\n    .dataframe tbody tr th {\n        vertical-align: top;\n    }\n\n    .dataframe thead th {\n        text-align: right;\n    }\n</style>\n<table border=\"1\" class=\"dataframe\">\n  <thead>\n    <tr style=\"text-align: right;\">\n      <th></th>\n      <th>gender</th>\n      <th>race/ethnicity</th>\n      <th>parental level of education</th>\n      <th>lunch</th>\n      <th>test preparation course</th>\n      <th>group</th>\n      <th>math score</th>\n      <th>reading score</th>\n      <th>writing score</th>\n    </tr>\n  </thead>\n  <tbody>\n    <tr>\n      <th>0</th>\n      <td>female</td>\n      <td>group B</td>\n      <td>bachelor's degree</td>\n      <td>standard</td>\n      <td>none</td>\n      <td>group1</td>\n      <td>72</td>\n      <td>72</td>\n      <td>74</td>\n    </tr>\n    <tr>\n      <th>1</th>\n      <td>female</td>\n      <td>group C</td>\n      <td>some college</td>\n      <td>standard</td>\n      <td>completed</td>\n      <td>group1</td>\n      <td>69</td>\n      <td>90</td>\n      <td>88</td>\n    </tr>\n    <tr>\n      <th>2</th>\n      <td>female</td>\n      <td>group B</td>\n      <td>master's degree</td>\n      <td>standard</td>\n      <td>none</td>\n      <td>group1</td>\n      <td>90</td>\n      <td>95</td>\n      <td>93</td>\n    </tr>\n    <tr>\n      <th>3</th>\n      <td>male</td>\n      <td>group A</td>\n      <td>associate's degree</td>\n      <td>free/reduced</td>\n      <td>none</td>\n      <td>group1</td>\n      <td>47</td>\n      <td>57</td>\n      <td>44</td>\n    </tr>\n    <tr>\n      <th>4</th>\n      <td>male</td>\n      <td>group C</td>\n      <td>some college</td>\n      <td>standard</td>\n      <td>none</td>\n      <td>group1</td>\n      <td>76</td>\n      <td>78</td>\n      <td>75</td>\n    </tr>\n    <tr>\n      <th>5</th>\n      <td>female</td>\n      <td>group B</td>\n      <td>associate's degree</td>\n      <td>standard</td>\n      <td>none</td>\n      <td>group1</td>\n      <td>71</td>\n      <td>83</td>\n      <td>78</td>\n    </tr>\n    <tr>\n      <th>6</th>\n      <td>female</td>\n      <td>group B</td>\n      <td>some college</td>\n      <td>standard</td>\n      <td>completed</td>\n      <td>group1</td>\n      <td>88</td>\n      <td>95</td>\n      <td>92</td>\n    </tr>\n    <tr>\n      <th>7</th>\n      <td>male</td>\n      <td>group B</td>\n      <td>some college</td>\n      <td>free/reduced</td>\n      <td>none</td>\n      <td>group1</td>\n      <td>40</td>\n      <td>43</td>\n      <td>39</td>\n    </tr>\n    <tr>\n      <th>8</th>\n      <td>male</td>\n      <td>group D</td>\n      <td>high school</td>\n      <td>free/reduced</td>\n      <td>completed</td>\n      <td>group1</td>\n      <td>64</td>\n      <td>64</td>\n      <td>67</td>\n    </tr>\n    <tr>\n      <th>9</th>\n      <td>female</td>\n      <td>group B</td>\n      <td>high school</td>\n      <td>free/reduced</td>\n      <td>none</td>\n      <td>group1</td>\n      <td>38</td>\n      <td>60</td>\n      <td>50</td>\n    </tr>\n  </tbody>\n</table>\n</div>"
     },
     "execution_count": 5,
     "metadata": {},
     "output_type": "execute_result"
    }
   ],
   "source": [
    "data_frame.reset_index(inplace=True)\n",
    "data_frame.drop(columns='index', inplace=True)\n",
    "data_frame.head(10)"
   ]
  },
  {
   "cell_type": "markdown",
   "metadata": {
    "_uuid": "5fcd622942b7ecfc318934c6a245d3bb3bf01e84"
   },
   "source": [
    "#### Задание 3. Выведите на экран размеры полученной таблицы"
   ]
  },
  {
   "cell_type": "code",
   "execution_count": 6,
   "metadata": {
    "_uuid": "16281cd7b4e941ebed8ca2e1b42f62f55d838684"
   },
   "outputs": [
    {
     "data": {
      "text/plain": "(1000, 9)"
     },
     "execution_count": 6,
     "metadata": {},
     "output_type": "execute_result"
    }
   ],
   "source": [
    "data_frame.shape"
   ]
  },
  {
   "cell_type": "markdown",
   "metadata": {
    "_uuid": "fe8e3d58d29ca25dbbcf001392377643e6ff9a36"
   },
   "source": [
    "#### Задание 4. Выведите на экран статистические характеристики числовых столбцов таблицы (минимум, максимум, среднее значение, стандартное отклонение)"
   ]
  },
  {
   "cell_type": "code",
   "execution_count": 7,
   "metadata": {
    "_uuid": "e3d4bb80d2c4251fe517c24fcf08c5ff2d67b8aa"
   },
   "outputs": [
    {
     "data": {
      "text/plain": "       math score  reading score  writing score\ncount  1000.00000    1000.000000    1000.000000\nmean     66.08900      69.169000      68.054000\nstd      15.16308      14.600192      15.195657\nmin       0.00000      17.000000      10.000000\n25%      57.00000      59.000000      57.750000\n50%      66.00000      70.000000      69.000000\n75%      77.00000      79.000000      79.000000\nmax     100.00000     100.000000     100.000000",
      "text/html": "<div>\n<style scoped>\n    .dataframe tbody tr th:only-of-type {\n        vertical-align: middle;\n    }\n\n    .dataframe tbody tr th {\n        vertical-align: top;\n    }\n\n    .dataframe thead th {\n        text-align: right;\n    }\n</style>\n<table border=\"1\" class=\"dataframe\">\n  <thead>\n    <tr style=\"text-align: right;\">\n      <th></th>\n      <th>math score</th>\n      <th>reading score</th>\n      <th>writing score</th>\n    </tr>\n  </thead>\n  <tbody>\n    <tr>\n      <th>count</th>\n      <td>1000.00000</td>\n      <td>1000.000000</td>\n      <td>1000.000000</td>\n    </tr>\n    <tr>\n      <th>mean</th>\n      <td>66.08900</td>\n      <td>69.169000</td>\n      <td>68.054000</td>\n    </tr>\n    <tr>\n      <th>std</th>\n      <td>15.16308</td>\n      <td>14.600192</td>\n      <td>15.195657</td>\n    </tr>\n    <tr>\n      <th>min</th>\n      <td>0.00000</td>\n      <td>17.000000</td>\n      <td>10.000000</td>\n    </tr>\n    <tr>\n      <th>25%</th>\n      <td>57.00000</td>\n      <td>59.000000</td>\n      <td>57.750000</td>\n    </tr>\n    <tr>\n      <th>50%</th>\n      <td>66.00000</td>\n      <td>70.000000</td>\n      <td>69.000000</td>\n    </tr>\n    <tr>\n      <th>75%</th>\n      <td>77.00000</td>\n      <td>79.000000</td>\n      <td>79.000000</td>\n    </tr>\n    <tr>\n      <th>max</th>\n      <td>100.00000</td>\n      <td>100.000000</td>\n      <td>100.000000</td>\n    </tr>\n  </tbody>\n</table>\n</div>"
     },
     "execution_count": 7,
     "metadata": {},
     "output_type": "execute_result"
    }
   ],
   "source": [
    "data_frame.describe()"
   ]
  },
  {
   "cell_type": "markdown",
   "metadata": {
    "_uuid": "b26b7de83485ecb3b8a0a7865a596e24527c7b2f"
   },
   "source": [
    "#### Задание 5. Проверьте, есть ли в таблице пропущенные значения"
   ]
  },
  {
   "cell_type": "code",
   "execution_count": 8,
   "metadata": {
    "_uuid": "4eac3f8f83d07c6e58ad1576fe0e773f37034a2f"
   },
   "outputs": [
    {
     "data": {
      "text/plain": "gender                         0\nrace/ethnicity                 0\nparental level of education    0\nlunch                          0\ntest preparation course        0\ngroup                          0\nmath score                     0\nreading score                  0\nwriting score                  0\ndtype: int64"
     },
     "execution_count": 8,
     "metadata": {},
     "output_type": "execute_result"
    }
   ],
   "source": [
    "data_frame.isna().sum()"
   ]
  },
  {
   "cell_type": "markdown",
   "metadata": {},
   "source": [
    "#### Задание 6. Выведите на экран средние баллы студентов по каждому предмету (math, reading, writing)"
   ]
  },
  {
   "cell_type": "code",
   "execution_count": 9,
   "metadata": {},
   "outputs": [
    {
     "data": {
      "text/plain": "math score       66.089\nreading score    69.169\nwriting score    68.054\ndtype: float64"
     },
     "execution_count": 9,
     "metadata": {},
     "output_type": "execute_result"
    }
   ],
   "source": [
    "data_frame.iloc[:, 6:9].mean(axis=0)"
   ]
  },
  {
   "cell_type": "markdown",
   "metadata": {},
   "source": [
    "**Задание 7. Как зависят оценки от того, проходил ли студент курс для подготовки к сдаче экзамена (test preparation course)? Выведите на экран для каждого предмета в отдельности средний балл студентов, проходивших курс для подготовки к экзамену и не проходивших курс.**"
   ]
  },
  {
   "cell_type": "code",
   "execution_count": 10,
   "metadata": {},
   "outputs": [
    {
     "data": {
      "text/plain": "                         math score  reading score  writing score\ntest preparation course                                          \ncompleted                 69.695531      73.893855      74.418994\nnone                      64.077882      66.534268      64.504673",
      "text/html": "<div>\n<style scoped>\n    .dataframe tbody tr th:only-of-type {\n        vertical-align: middle;\n    }\n\n    .dataframe tbody tr th {\n        vertical-align: top;\n    }\n\n    .dataframe thead th {\n        text-align: right;\n    }\n</style>\n<table border=\"1\" class=\"dataframe\">\n  <thead>\n    <tr style=\"text-align: right;\">\n      <th></th>\n      <th>math score</th>\n      <th>reading score</th>\n      <th>writing score</th>\n    </tr>\n    <tr>\n      <th>test preparation course</th>\n      <th></th>\n      <th></th>\n      <th></th>\n    </tr>\n  </thead>\n  <tbody>\n    <tr>\n      <th>completed</th>\n      <td>69.695531</td>\n      <td>73.893855</td>\n      <td>74.418994</td>\n    </tr>\n    <tr>\n      <th>none</th>\n      <td>64.077882</td>\n      <td>66.534268</td>\n      <td>64.504673</td>\n    </tr>\n  </tbody>\n</table>\n</div>"
     },
     "execution_count": 10,
     "metadata": {},
     "output_type": "execute_result"
    }
   ],
   "source": [
    "data_frame.groupby('test preparation course').mean(numeric_only=True)"
   ]
  },
  {
   "cell_type": "markdown",
   "metadata": {},
   "source": [
    "**Задание 8. Выведите на экран все различные значения из столбца lunch.**"
   ]
  },
  {
   "cell_type": "code",
   "execution_count": 12,
   "metadata": {},
   "outputs": [
    {
     "name": "stdout",
     "output_type": "stream",
     "text": [
      "['standard' 'free/reduced']\n"
     ]
    }
   ],
   "source": [
    "print(data_frame['lunch'].unique())"
   ]
  },
  {
   "cell_type": "markdown",
   "metadata": {},
   "source": [
    "**Задание 9. Переименуйте колонку \"parental level of education\" в \"education\", а \"test preparation course\" в \"test preparation\" с помощью метода pandas rename**\n",
    "https://pandas.pydata.org/pandas-docs/stable/reference/api/pandas.DataFrame.rename.html"
   ]
  },
  {
   "cell_type": "code",
   "execution_count": 326,
   "metadata": {},
   "outputs": [
    {
     "data": {
      "text/plain": "     gender race/ethnicity           education         lunch test preparation    group  math score  reading score  writing score\n0    female        group B   bachelor's degree      standard             none   group1          72             72             74\n1    female        group C        some college      standard        completed   group1          69             90             88\n2    female        group B     master's degree      standard             none   group1          90             95             93\n3      male        group A  associate's degree  free/reduced             none   group1          47             57             44\n4      male        group C        some college      standard             none   group1          76             78             75\n..      ...            ...                 ...           ...              ...      ...         ...            ...            ...\n995  female        group E     master's degree      standard        completed  group10          88             99             95\n996    male        group C         high school  free/reduced             none  group10          62             55             55\n997  female        group C         high school  free/reduced        completed  group10          59             71             65\n998  female        group D        some college      standard        completed  group10          68             78             77\n999  female        group D        some college  free/reduced             none  group10          77             86             86\n\n[1000 rows x 9 columns]",
      "text/html": "<div>\n<style scoped>\n    .dataframe tbody tr th:only-of-type {\n        vertical-align: middle;\n    }\n\n    .dataframe tbody tr th {\n        vertical-align: top;\n    }\n\n    .dataframe thead th {\n        text-align: right;\n    }\n</style>\n<table border=\"1\" class=\"dataframe\">\n  <thead>\n    <tr style=\"text-align: right;\">\n      <th></th>\n      <th>gender</th>\n      <th>race/ethnicity</th>\n      <th>education</th>\n      <th>lunch</th>\n      <th>test preparation</th>\n      <th>group</th>\n      <th>math score</th>\n      <th>reading score</th>\n      <th>writing score</th>\n    </tr>\n  </thead>\n  <tbody>\n    <tr>\n      <th>0</th>\n      <td>female</td>\n      <td>group B</td>\n      <td>bachelor's degree</td>\n      <td>standard</td>\n      <td>none</td>\n      <td>group1</td>\n      <td>72</td>\n      <td>72</td>\n      <td>74</td>\n    </tr>\n    <tr>\n      <th>1</th>\n      <td>female</td>\n      <td>group C</td>\n      <td>some college</td>\n      <td>standard</td>\n      <td>completed</td>\n      <td>group1</td>\n      <td>69</td>\n      <td>90</td>\n      <td>88</td>\n    </tr>\n    <tr>\n      <th>2</th>\n      <td>female</td>\n      <td>group B</td>\n      <td>master's degree</td>\n      <td>standard</td>\n      <td>none</td>\n      <td>group1</td>\n      <td>90</td>\n      <td>95</td>\n      <td>93</td>\n    </tr>\n    <tr>\n      <th>3</th>\n      <td>male</td>\n      <td>group A</td>\n      <td>associate's degree</td>\n      <td>free/reduced</td>\n      <td>none</td>\n      <td>group1</td>\n      <td>47</td>\n      <td>57</td>\n      <td>44</td>\n    </tr>\n    <tr>\n      <th>4</th>\n      <td>male</td>\n      <td>group C</td>\n      <td>some college</td>\n      <td>standard</td>\n      <td>none</td>\n      <td>group1</td>\n      <td>76</td>\n      <td>78</td>\n      <td>75</td>\n    </tr>\n    <tr>\n      <th>...</th>\n      <td>...</td>\n      <td>...</td>\n      <td>...</td>\n      <td>...</td>\n      <td>...</td>\n      <td>...</td>\n      <td>...</td>\n      <td>...</td>\n      <td>...</td>\n    </tr>\n    <tr>\n      <th>995</th>\n      <td>female</td>\n      <td>group E</td>\n      <td>master's degree</td>\n      <td>standard</td>\n      <td>completed</td>\n      <td>group10</td>\n      <td>88</td>\n      <td>99</td>\n      <td>95</td>\n    </tr>\n    <tr>\n      <th>996</th>\n      <td>male</td>\n      <td>group C</td>\n      <td>high school</td>\n      <td>free/reduced</td>\n      <td>none</td>\n      <td>group10</td>\n      <td>62</td>\n      <td>55</td>\n      <td>55</td>\n    </tr>\n    <tr>\n      <th>997</th>\n      <td>female</td>\n      <td>group C</td>\n      <td>high school</td>\n      <td>free/reduced</td>\n      <td>completed</td>\n      <td>group10</td>\n      <td>59</td>\n      <td>71</td>\n      <td>65</td>\n    </tr>\n    <tr>\n      <th>998</th>\n      <td>female</td>\n      <td>group D</td>\n      <td>some college</td>\n      <td>standard</td>\n      <td>completed</td>\n      <td>group10</td>\n      <td>68</td>\n      <td>78</td>\n      <td>77</td>\n    </tr>\n    <tr>\n      <th>999</th>\n      <td>female</td>\n      <td>group D</td>\n      <td>some college</td>\n      <td>free/reduced</td>\n      <td>none</td>\n      <td>group10</td>\n      <td>77</td>\n      <td>86</td>\n      <td>86</td>\n    </tr>\n  </tbody>\n</table>\n<p>1000 rows × 9 columns</p>\n</div>"
     },
     "execution_count": 326,
     "metadata": {},
     "output_type": "execute_result"
    }
   ],
   "source": [
    "data_frame.rename(\n",
    "    columns={\n",
    "        'parental level of education': 'education',\n",
    "        'test preparation course': 'test preparation'\n",
    "    }\n",
    ")"
   ]
  },
  {
   "cell_type": "markdown",
   "metadata": {},
   "source": [
    "**Зафиксируем минимальный балл для сдачи экзамена**"
   ]
  },
  {
   "cell_type": "code",
   "execution_count": 14,
   "metadata": {},
   "outputs": [],
   "source": [
    "passmark = 50"
   ]
  },
  {
   "cell_type": "markdown",
   "metadata": {},
   "source": [
    "**Задание 10. Ответьте на вопросы:**\n",
    "    * Какая доля студентов сдала экзамен по математике (passmark >= 50)?\n",
    "    * Какая доля студентов, проходивших курс подготовки к экзамену, сдала экзамен по математике?\n",
    "    * Какая доля женщин, не проходивших курс подготовки к экзамену, не сдала экзамен по математике? "
   ]
  },
  {
   "cell_type": "code",
   "execution_count": 15,
   "metadata": {},
   "outputs": [
    {
     "name": "stdout",
     "output_type": "stream",
     "text": [
      "Studens who passed Math exam: 0.865\n",
      "Studens who took course and passed Math exam: 0.33\n",
      "Studens who didnt take course and didnt pass Math exam: 0.107\n"
     ]
    }
   ],
   "source": [
    "print(f'Studens who passed Math exam: {len(data_frame.loc[data_frame[\"math score\"] >= passmark].index) / len(data_frame.index)}')\n",
    "print(f'Studens who took course and passed Math exam: '\n",
    "      f'{len(data_frame.loc[(data_frame[\"math score\"] >= passmark) & (data_frame[\"test preparation course\"] == \"completed\")].index) / len(data_frame.index)}'\n",
    "      )\n",
    "print(f'Studens who didnt take course and didnt pass Math exam: '\n",
    "      f'{len(data_frame.loc[(data_frame[\"math score\"] < passmark) & (data_frame[\"test preparation course\"] == \"none\")].index) / len(data_frame.index)}'\n",
    "      )"
   ]
  },
  {
   "cell_type": "markdown",
   "metadata": {},
   "source": [
    "**Задание 11. С помощью groupby выполните задания ниже. Также выведите время выполнения каждого из заданий.**\n",
    "    * Для каждой этнической группы выведите средний балл за экзамен по чтению\n",
    "    * Для каждого уровня образования выведите минимальный балл за экзамен по письму"
   ]
  },
  {
   "cell_type": "code",
   "execution_count": 16,
   "outputs": [],
   "source": [
    "import time"
   ],
   "metadata": {
    "collapsed": false
   }
  },
  {
   "cell_type": "code",
   "execution_count": 17,
   "metadata": {},
   "outputs": [
    {
     "name": "stdout",
     "output_type": "stream",
     "text": [
      "race/ethnicity\n",
      "group A    64.674157\n",
      "group B    67.352632\n",
      "group C    69.103448\n",
      "group D    70.030534\n",
      "group E    73.028571\n",
      "Name: reading score, dtype: float64\n",
      "Execution time: 0.001994609832763672 seconds\n",
      "\n",
      "parental level of education\n",
      "associate's degree    31\n",
      "bachelor's degree     41\n",
      "high school           24\n",
      "master's degree       42\n",
      "some college          23\n",
      "some high school      17\n",
      "Name: reading score, dtype: int32\n",
      "Execution time: 0.000997304916381836 seconds\n"
     ]
    }
   ],
   "source": [
    "start_time = time.time()\n",
    "print(data_frame.groupby('race/ethnicity')['reading score'].mean())\n",
    "finish_time = time.time()\n",
    "print(f'Execution time: {finish_time - start_time} seconds')\n",
    "\n",
    "print()\n",
    "print(data_frame.groupby('parental level of education')['reading score'].min())\n",
    "second_finish_time = time.time()\n",
    "print(f'Execution time: {second_finish_time - finish_time} seconds')"
   ]
  },
  {
   "cell_type": "markdown",
   "metadata": {},
   "source": [
    "**Задание 12. Выполните задание 11 с помощью циклов. Сравните время выполнения.**"
   ]
  },
  {
   "cell_type": "code",
   "execution_count": 18,
   "metadata": {},
   "outputs": [
    {
     "name": "stdout",
     "output_type": "stream",
     "text": [
      "group B: 67.35263157894737\n",
      "group C: 69.10344827586206\n",
      "group A: 64.67415730337079\n",
      "group D: 70.03053435114504\n",
      "group E: 73.02857142857142\n",
      "Execution time: 0.03989577293395996 seconds\n"
     ]
    }
   ],
   "source": [
    "start_time = time.time()\n",
    "dict = {}\n",
    "\n",
    "for _, row in data_frame.iterrows():\n",
    "    ethnicity = row['race/ethnicity']\n",
    "    score = row['reading score']\n",
    "\n",
    "    if ethnicity in dict.keys():\n",
    "        group_count = dict[ethnicity][1] + 1\n",
    "        group_score = dict[ethnicity][0] + score\n",
    "        dict[ethnicity] = (group_score, group_count)\n",
    "    else:\n",
    "        dict[ethnicity] = (score, 1)\n",
    "\n",
    "for key in dict.keys():\n",
    "    print(f'{key}: {dict[key][0] / dict[key][1]}')\n",
    "\n",
    "finish_time = time.time()\n",
    "print(f'Execution time: {finish_time - start_time} seconds')"
   ]
  },
  {
   "cell_type": "markdown",
   "metadata": {},
   "source": [
    "**Задание 13. Выведите на экран средние баллы студентов по каждому предмету в зависимости от пола и уровня образования. То есть должно получиться количество групп, равных 2 * (число уровней образования), и для каждой такой группы выыведите средний балл по каждому из предметов.**\n",
    "\n",
    "Это можно сделать с помощью сводных таблиц (pivot_table):\n",
    "\n",
    "https://www.kaggle.com/kamilpolak/tutorial-how-to-use-pivot-table-in-pandas"
   ]
  },
  {
   "cell_type": "code",
   "execution_count": 19,
   "metadata": {},
   "outputs": [
    {
     "data": {
      "text/plain": "                                    math score  reading score  writing score\ngender parental level of education                                          \nfemale associate's degree            65.250000      74.120690      74.000000\n       bachelor's degree             68.349206      77.285714      78.380952\n       high school                   59.351064      68.202128      66.691489\n       master's degree               66.500000      76.805556      77.638889\n       some college                  65.406780      73.550847      74.050847\n       some high school              59.296703      69.109890      68.285714\nmale   associate's degree            70.764151      67.433962      65.405660\n       bachelor's degree             70.581818      68.090909      67.654545\n       high school                   64.705882      61.480392      58.539216\n       master's degree               74.826087      73.130435      72.608696\n       some college                  69.009259      64.990741      63.148148\n       some high school              67.840909      64.693182      61.375000",
      "text/html": "<div>\n<style scoped>\n    .dataframe tbody tr th:only-of-type {\n        vertical-align: middle;\n    }\n\n    .dataframe tbody tr th {\n        vertical-align: top;\n    }\n\n    .dataframe thead th {\n        text-align: right;\n    }\n</style>\n<table border=\"1\" class=\"dataframe\">\n  <thead>\n    <tr style=\"text-align: right;\">\n      <th></th>\n      <th></th>\n      <th>math score</th>\n      <th>reading score</th>\n      <th>writing score</th>\n    </tr>\n    <tr>\n      <th>gender</th>\n      <th>parental level of education</th>\n      <th></th>\n      <th></th>\n      <th></th>\n    </tr>\n  </thead>\n  <tbody>\n    <tr>\n      <th rowspan=\"6\" valign=\"top\">female</th>\n      <th>associate's degree</th>\n      <td>65.250000</td>\n      <td>74.120690</td>\n      <td>74.000000</td>\n    </tr>\n    <tr>\n      <th>bachelor's degree</th>\n      <td>68.349206</td>\n      <td>77.285714</td>\n      <td>78.380952</td>\n    </tr>\n    <tr>\n      <th>high school</th>\n      <td>59.351064</td>\n      <td>68.202128</td>\n      <td>66.691489</td>\n    </tr>\n    <tr>\n      <th>master's degree</th>\n      <td>66.500000</td>\n      <td>76.805556</td>\n      <td>77.638889</td>\n    </tr>\n    <tr>\n      <th>some college</th>\n      <td>65.406780</td>\n      <td>73.550847</td>\n      <td>74.050847</td>\n    </tr>\n    <tr>\n      <th>some high school</th>\n      <td>59.296703</td>\n      <td>69.109890</td>\n      <td>68.285714</td>\n    </tr>\n    <tr>\n      <th rowspan=\"6\" valign=\"top\">male</th>\n      <th>associate's degree</th>\n      <td>70.764151</td>\n      <td>67.433962</td>\n      <td>65.405660</td>\n    </tr>\n    <tr>\n      <th>bachelor's degree</th>\n      <td>70.581818</td>\n      <td>68.090909</td>\n      <td>67.654545</td>\n    </tr>\n    <tr>\n      <th>high school</th>\n      <td>64.705882</td>\n      <td>61.480392</td>\n      <td>58.539216</td>\n    </tr>\n    <tr>\n      <th>master's degree</th>\n      <td>74.826087</td>\n      <td>73.130435</td>\n      <td>72.608696</td>\n    </tr>\n    <tr>\n      <th>some college</th>\n      <td>69.009259</td>\n      <td>64.990741</td>\n      <td>63.148148</td>\n    </tr>\n    <tr>\n      <th>some high school</th>\n      <td>67.840909</td>\n      <td>64.693182</td>\n      <td>61.375000</td>\n    </tr>\n  </tbody>\n</table>\n</div>"
     },
     "execution_count": 19,
     "metadata": {},
     "output_type": "execute_result"
    }
   ],
   "source": [
    "pd.pivot_table(\n",
    "    data = data_frame,\n",
    "    index = ['gender', 'parental level of education'],\n",
    "    values = ['math score', 'reading score', 'writing score']\n",
    ")"
   ]
  },
  {
   "cell_type": "markdown",
   "metadata": {
    "_uuid": "3e832cb427c4314582d1953a41b8c78db75e30e3"
   },
   "source": [
    "#### Задание 14. Сколько студентов успешно сдали экзамен по математике?\n",
    "\n",
    "Создайте новый столбец в таблице df под названием Math_PassStatus и запишите в него F, если студент не сдал экзамен по математике (балл за экзамен < passmark), и P иначе.\n",
    "\n",
    "Посчитайте количество студентов, сдавших и не сдавших экзамен по математике.\n",
    "\n",
    "Сделайте аналогичные шаги для экзаменов по чтению и письму."
   ]
  },
  {
   "cell_type": "code",
   "execution_count": 24,
   "metadata": {
    "_uuid": "f43cddb72cc96b30df84bc0de83a4d9170904340"
   },
   "outputs": [
    {
     "name": "stdout",
     "output_type": "stream",
     "text": [
      "Number of students who passed and didnt pass Math exam: 865 and 135 respectively\n",
      "Number of students who passed and didnt pass reading exam: 910 and 90 respectively\n",
      "Number of students who passed and didnt pass writing exam: 886 and 114 respectively\n"
     ]
    }
   ],
   "source": [
    "def calc_passmark(mark):\n",
    "    if mark < passmark:\n",
    "        return 'F'\n",
    "    else:\n",
    "        return 'P'\n",
    "\n",
    "data_frame['Math_PassStatus'] = data_frame['math score'].apply(calc_passmark)\n",
    "data_frame['Reading_PassStatus'] = data_frame['reading score'].apply(calc_passmark)\n",
    "data_frame['Writing_PassStatus'] = data_frame['writing score'].apply(calc_passmark)\n",
    "\n",
    "print(f'Number of students who passed and didnt pass Math exam: {(data_frame[\"Math_PassStatus\"] == \"P\").sum()} and {(data_frame[\"Math_PassStatus\"] == \"F\").sum()} respectively')\n",
    "print(f'Number of students who passed and didnt pass reading exam: {(data_frame[\"Reading_PassStatus\"] == \"P\").sum()} and {(data_frame[\"Reading_PassStatus\"] == \"F\").sum()} respectively')\n",
    "print(f'Number of students who passed and didnt pass writing exam: {(data_frame[\"Writing_PassStatus\"] == \"P\").sum()} and {(data_frame[\"Writing_PassStatus\"] == \"F\").sum()} respectively')"
   ]
  },
  {
   "cell_type": "markdown",
   "metadata": {
    "_uuid": "b753c90914ee65501e2ed263ea614d88a381c472"
   },
   "source": [
    "#### Задание 15. Сколько студентов успешно сдали все экзамены?\n",
    "\n",
    "Создайте столбец OverAll_PassStatus и запишите в него для каждого студента 'F', если студент не сдал хотя бы один из трех экзаменов, а иначе 'P'.\n",
    "\n",
    "Посчитайте количество студентов, которые сдали все экзамены."
   ]
  },
  {
   "cell_type": "code",
   "execution_count": 25,
   "metadata": {
    "_uuid": "e98f895a022b967cab801447b616222439fe9d84"
   },
   "outputs": [
    {
     "data": {
      "text/plain": "'Number of students who passed all exams: 812'"
     },
     "execution_count": 25,
     "metadata": {},
     "output_type": "execute_result"
    }
   ],
   "source": [
    "def calc_overall_mark(first_mark, second_mark, third_mark):\n",
    "    if first_mark == 'P' and second_mark == 'P' and third_mark == 'P':\n",
    "        return 'P'\n",
    "    else:\n",
    "        return 'F'\n",
    "\n",
    "data_frame['OverAll_PassStatus'] = data_frame.apply(\n",
    "    lambda df: calc_overall_mark(df['Math_PassStatus'], df['Reading_PassStatus'], df['Writing_PassStatus']),\n",
    "    axis=1\n",
    ")\n",
    "f'Number of students who passed all exams: {(data_frame[\"OverAll_PassStatus\"] == \"P\").sum()}'"
   ]
  },
  {
   "cell_type": "markdown",
   "metadata": {
    "_uuid": "3af9c6cb4cbfff66d4ae09509f10b8b6ce33075d"
   },
   "source": [
    "#### Задание 16. Переведем баллы в оценки\n",
    "\n",
    "### Система перевода баллов в оценки\n",
    "####    больше 90 = A\n",
    "####      80-90 = B\n",
    "####      70-80 = C\n",
    "####      60-70 = D\n",
    "####      50-60 = E\n",
    "####    меньше 50 = F (Fail)\n",
    "\n",
    "Создайте вспомогательную функцию, которая будет по среднему баллу за три экзамена выставлять оценку студенту по данным выше критериям.\n",
    "\n",
    "Создайте столбец Grade и запишите в него оценку каждого студента.\n",
    "\n",
    "Выведите количество студентов, получивших каждую из оценок.\n",
    "\n",
    "**В случае, если средний балл попадает на границу между оценками (т.е. равен ровно 60, 70 или 80 баллов), вы можете интерпретировать условие на своё усмотрение (т.е. можете поставить за 60 баллов оценку D, а можете - E).**"
   ]
  },
  {
   "cell_type": "code",
   "execution_count": 26,
   "metadata": {
    "_uuid": "04707c5be4237020b906d2ac705a0db3d620506f"
   },
   "outputs": [
    {
     "name": "stdout",
     "output_type": "stream",
     "text": [
      "Grade\n",
      "A     52\n",
      "B    146\n",
      "C    261\n",
      "D    256\n",
      "E    182\n",
      "F    103\n",
      "dtype: int64\n"
     ]
    },
    {
     "data": {
      "text/plain": "    gender race/ethnicity parental level of education         lunch test preparation course   group  math score  reading score  writing score Math_PassStatus Reading_PassStatus Writing_PassStatus OverAll_PassStatus Grade\n0   female        group B           bachelor's degree      standard                    none  group1          72             72             74               P                  P                  P                  P     C\n1   female        group C                some college      standard               completed  group1          69             90             88               P                  P                  P                  P     B\n2   female        group B             master's degree      standard                    none  group1          90             95             93               P                  P                  P                  P     A\n3     male        group A          associate's degree  free/reduced                    none  group1          47             57             44               F                  P                  F                  F     F\n4     male        group C                some college      standard                    none  group1          76             78             75               P                  P                  P                  P     C\n5   female        group B          associate's degree      standard                    none  group1          71             83             78               P                  P                  P                  P     C\n6   female        group B                some college      standard               completed  group1          88             95             92               P                  P                  P                  P     A\n7     male        group B                some college  free/reduced                    none  group1          40             43             39               F                  F                  F                  F     F\n8     male        group D                 high school  free/reduced               completed  group1          64             64             67               P                  P                  P                  P     D\n9   female        group B                 high school  free/reduced                    none  group1          38             60             50               F                  P                  P                  F     F\n10    male        group C          associate's degree      standard                    none  group1          58             54             52               P                  P                  P                  P     E\n11    male        group D          associate's degree      standard                    none  group1          40             52             43               F                  P                  F                  F     F\n12  female        group B                 high school      standard                    none  group1          65             81             73               P                  P                  P                  P     C\n13    male        group A                some college      standard               completed  group1          78             72             70               P                  P                  P                  P     C\n14  female        group A             master's degree      standard                    none  group1          50             53             58               P                  P                  P                  P     E",
      "text/html": "<div>\n<style scoped>\n    .dataframe tbody tr th:only-of-type {\n        vertical-align: middle;\n    }\n\n    .dataframe tbody tr th {\n        vertical-align: top;\n    }\n\n    .dataframe thead th {\n        text-align: right;\n    }\n</style>\n<table border=\"1\" class=\"dataframe\">\n  <thead>\n    <tr style=\"text-align: right;\">\n      <th></th>\n      <th>gender</th>\n      <th>race/ethnicity</th>\n      <th>parental level of education</th>\n      <th>lunch</th>\n      <th>test preparation course</th>\n      <th>group</th>\n      <th>math score</th>\n      <th>reading score</th>\n      <th>writing score</th>\n      <th>Math_PassStatus</th>\n      <th>Reading_PassStatus</th>\n      <th>Writing_PassStatus</th>\n      <th>OverAll_PassStatus</th>\n      <th>Grade</th>\n    </tr>\n  </thead>\n  <tbody>\n    <tr>\n      <th>0</th>\n      <td>female</td>\n      <td>group B</td>\n      <td>bachelor's degree</td>\n      <td>standard</td>\n      <td>none</td>\n      <td>group1</td>\n      <td>72</td>\n      <td>72</td>\n      <td>74</td>\n      <td>P</td>\n      <td>P</td>\n      <td>P</td>\n      <td>P</td>\n      <td>C</td>\n    </tr>\n    <tr>\n      <th>1</th>\n      <td>female</td>\n      <td>group C</td>\n      <td>some college</td>\n      <td>standard</td>\n      <td>completed</td>\n      <td>group1</td>\n      <td>69</td>\n      <td>90</td>\n      <td>88</td>\n      <td>P</td>\n      <td>P</td>\n      <td>P</td>\n      <td>P</td>\n      <td>B</td>\n    </tr>\n    <tr>\n      <th>2</th>\n      <td>female</td>\n      <td>group B</td>\n      <td>master's degree</td>\n      <td>standard</td>\n      <td>none</td>\n      <td>group1</td>\n      <td>90</td>\n      <td>95</td>\n      <td>93</td>\n      <td>P</td>\n      <td>P</td>\n      <td>P</td>\n      <td>P</td>\n      <td>A</td>\n    </tr>\n    <tr>\n      <th>3</th>\n      <td>male</td>\n      <td>group A</td>\n      <td>associate's degree</td>\n      <td>free/reduced</td>\n      <td>none</td>\n      <td>group1</td>\n      <td>47</td>\n      <td>57</td>\n      <td>44</td>\n      <td>F</td>\n      <td>P</td>\n      <td>F</td>\n      <td>F</td>\n      <td>F</td>\n    </tr>\n    <tr>\n      <th>4</th>\n      <td>male</td>\n      <td>group C</td>\n      <td>some college</td>\n      <td>standard</td>\n      <td>none</td>\n      <td>group1</td>\n      <td>76</td>\n      <td>78</td>\n      <td>75</td>\n      <td>P</td>\n      <td>P</td>\n      <td>P</td>\n      <td>P</td>\n      <td>C</td>\n    </tr>\n    <tr>\n      <th>5</th>\n      <td>female</td>\n      <td>group B</td>\n      <td>associate's degree</td>\n      <td>standard</td>\n      <td>none</td>\n      <td>group1</td>\n      <td>71</td>\n      <td>83</td>\n      <td>78</td>\n      <td>P</td>\n      <td>P</td>\n      <td>P</td>\n      <td>P</td>\n      <td>C</td>\n    </tr>\n    <tr>\n      <th>6</th>\n      <td>female</td>\n      <td>group B</td>\n      <td>some college</td>\n      <td>standard</td>\n      <td>completed</td>\n      <td>group1</td>\n      <td>88</td>\n      <td>95</td>\n      <td>92</td>\n      <td>P</td>\n      <td>P</td>\n      <td>P</td>\n      <td>P</td>\n      <td>A</td>\n    </tr>\n    <tr>\n      <th>7</th>\n      <td>male</td>\n      <td>group B</td>\n      <td>some college</td>\n      <td>free/reduced</td>\n      <td>none</td>\n      <td>group1</td>\n      <td>40</td>\n      <td>43</td>\n      <td>39</td>\n      <td>F</td>\n      <td>F</td>\n      <td>F</td>\n      <td>F</td>\n      <td>F</td>\n    </tr>\n    <tr>\n      <th>8</th>\n      <td>male</td>\n      <td>group D</td>\n      <td>high school</td>\n      <td>free/reduced</td>\n      <td>completed</td>\n      <td>group1</td>\n      <td>64</td>\n      <td>64</td>\n      <td>67</td>\n      <td>P</td>\n      <td>P</td>\n      <td>P</td>\n      <td>P</td>\n      <td>D</td>\n    </tr>\n    <tr>\n      <th>9</th>\n      <td>female</td>\n      <td>group B</td>\n      <td>high school</td>\n      <td>free/reduced</td>\n      <td>none</td>\n      <td>group1</td>\n      <td>38</td>\n      <td>60</td>\n      <td>50</td>\n      <td>F</td>\n      <td>P</td>\n      <td>P</td>\n      <td>F</td>\n      <td>F</td>\n    </tr>\n    <tr>\n      <th>10</th>\n      <td>male</td>\n      <td>group C</td>\n      <td>associate's degree</td>\n      <td>standard</td>\n      <td>none</td>\n      <td>group1</td>\n      <td>58</td>\n      <td>54</td>\n      <td>52</td>\n      <td>P</td>\n      <td>P</td>\n      <td>P</td>\n      <td>P</td>\n      <td>E</td>\n    </tr>\n    <tr>\n      <th>11</th>\n      <td>male</td>\n      <td>group D</td>\n      <td>associate's degree</td>\n      <td>standard</td>\n      <td>none</td>\n      <td>group1</td>\n      <td>40</td>\n      <td>52</td>\n      <td>43</td>\n      <td>F</td>\n      <td>P</td>\n      <td>F</td>\n      <td>F</td>\n      <td>F</td>\n    </tr>\n    <tr>\n      <th>12</th>\n      <td>female</td>\n      <td>group B</td>\n      <td>high school</td>\n      <td>standard</td>\n      <td>none</td>\n      <td>group1</td>\n      <td>65</td>\n      <td>81</td>\n      <td>73</td>\n      <td>P</td>\n      <td>P</td>\n      <td>P</td>\n      <td>P</td>\n      <td>C</td>\n    </tr>\n    <tr>\n      <th>13</th>\n      <td>male</td>\n      <td>group A</td>\n      <td>some college</td>\n      <td>standard</td>\n      <td>completed</td>\n      <td>group1</td>\n      <td>78</td>\n      <td>72</td>\n      <td>70</td>\n      <td>P</td>\n      <td>P</td>\n      <td>P</td>\n      <td>P</td>\n      <td>C</td>\n    </tr>\n    <tr>\n      <th>14</th>\n      <td>female</td>\n      <td>group A</td>\n      <td>master's degree</td>\n      <td>standard</td>\n      <td>none</td>\n      <td>group1</td>\n      <td>50</td>\n      <td>53</td>\n      <td>58</td>\n      <td>P</td>\n      <td>P</td>\n      <td>P</td>\n      <td>P</td>\n      <td>E</td>\n    </tr>\n  </tbody>\n</table>\n</div>"
     },
     "execution_count": 26,
     "metadata": {},
     "output_type": "execute_result"
    }
   ],
   "source": [
    "def get_grade(average_mark):\n",
    "    F = 50\n",
    "    E = 60\n",
    "    D = 70\n",
    "    C = 80\n",
    "    B = 90\n",
    "\n",
    "    if average_mark < 50:\n",
    "        return 'F'\n",
    "    elif average_mark < 60:\n",
    "        return 'E'\n",
    "    elif average_mark < 70:\n",
    "        return 'D'\n",
    "    elif average_mark < 80:\n",
    "        return 'C'\n",
    "    elif average_mark < 90:\n",
    "        return 'B'\n",
    "    else:\n",
    "        return 'A'\n",
    "\n",
    "mean_grades = data_frame.iloc[:, 6:9].mean(axis=1)\n",
    "\n",
    "data_frame['Grade'] = mean_grades.apply(get_grade)\n",
    "\n",
    "print(data_frame.groupby('Grade').size())\n",
    "\n",
    "data_frame.head(15)"
   ]
  },
  {
   "cell_type": "code",
   "execution_count": null,
   "outputs": [],
   "source": [],
   "metadata": {
    "collapsed": false
   }
  }
 ],
 "metadata": {
  "kernelspec": {
   "display_name": "Python 3 (ipykernel)",
   "language": "python",
   "name": "python3"
  },
  "language_info": {
   "codemirror_mode": {
    "name": "ipython",
    "version": 3
   },
   "file_extension": ".py",
   "mimetype": "text/x-python",
   "name": "python",
   "nbconvert_exporter": "python",
   "pygments_lexer": "ipython3",
   "version": "3.7.9"
  }
 },
 "nbformat": 4,
 "nbformat_minor": 1
}
